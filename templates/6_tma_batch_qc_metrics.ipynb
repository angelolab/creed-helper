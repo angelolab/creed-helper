{
 "cells": [
  {
   "attachments": {},
   "cell_type": "markdown",
   "metadata": {},
   "source": [
    "# Computing TMA and Cohort-wise QC Metrics Notebook"
   ]
  },
  {
   "attachments": {},
   "cell_type": "markdown",
   "metadata": {},
   "source": [
    "This notebook requires that you run `5_rename_and_reorganize.ipynb` beforehand. After you have your reorganized data, it may be useful to investigate if there are any widespread issues for TMAs, and for cohorts.\n",
    "\n",
    "\n",
    "The purpose of this notebook is to run QC checks not on a run by run basis, but on:\n",
    "- FOVs across a TMA\n",
    "- Batches of Tissues\n",
    "\n",
    "There are two parts which can be done in any order, depending on which type of QC effects are of interest to you."
   ]
  },
  {
   "cell_type": "code",
   "execution_count": null,
   "metadata": {},
   "outputs": [],
   "source": [
    "import os\n",
    "from toffy import qc_comp, qc_metrics_plots"
   ]
  },
  {
   "attachments": {},
   "cell_type": "markdown",
   "metadata": {},
   "source": [
    "## QC TMA Metrics"
   ]
  },
  {
   "attachments": {},
   "cell_type": "markdown",
   "metadata": {},
   "source": [
    "We can utilize QC Metrics to validate that are no spatial biases across your TMAs, or if they do exist, identify where they are most prevalent."
   ]
  },
  {
   "attachments": {},
   "cell_type": "markdown",
   "metadata": {},
   "source": [
    "### 0. Prerequisites"
   ]
  },
  {
   "attachments": {},
   "cell_type": "markdown",
   "metadata": {},
   "source": [
    "In order to use the QC TMA Metrics functionality, you need to have run `5_rename_and_reorganize.ipynb` beforehand. In addition, each FOV within the cohort should be suffixed with the Row number and Column number it's associated TMA.\n",
    "\n",
    "For example, use Notebook 5 to combine, reorganize and rename the runs to something akin to `MY_COHORT_TMA1_R1C1` and `MY_COHORT_TMA11_R10C11`.\n",
    "\n",
    "To make use of the QC TMA Metrics, your cohort should look like something below:\n",
    "\n",
    "\n",
    "```sh\n",
    "my_cohort_tmas/\n",
    "├── MY_COHORT_TMA1_R1C1/\n",
    "├── MY_COHORT_TMA1_R1C2/\n",
    "├── ...\n",
    "├── MY_COHORT_TMA2_R1C2/\n",
    "├── ...\n",
    "├── MY_COHORT_TMA2_R7C10/\n",
    "├── ...\n",
    "└── MY_COHORT_TMA11_R11C10/\n",
    "```\n",
    "\n",
    "It is necessary that the Row number and Column number values are the suffixes for each FOV."
   ]
  },
  {
   "attachments": {},
   "cell_type": "markdown",
   "metadata": {},
   "source": [
    "### 1. Select QC Metrics and TMAs"
   ]
  },
  {
   "attachments": {},
   "cell_type": "markdown",
   "metadata": {},
   "source": [
    "Specify the names of the relevant folders:\n",
    "- `cohort_image_dir`: The directory where many cohorts may be stored.\n",
    "- `cohort_name`: The name of the cohort containing ready-to-analyze TIFFs. \n",
    "- `cohort_path`: The path to the cohort.\n",
    "- `qc_tma_metrics_dir`: The path where the QC TMA metrics should be saved."
   ]
  },
  {
   "cell_type": "code",
   "execution_count": null,
   "metadata": {},
   "outputs": [],
   "source": [
    "cohort_path = \"D:\\\\Cohorts\\\\20220101_new_cohort\""
   ]
  },
  {
   "cell_type": "code",
   "execution_count": null,
   "metadata": {},
   "outputs": [],
   "source": [
    "qc_tma_metrics_dir = os.path.join(cohort_path, \"qc_tma_metrics\")\n",
    "\n",
    "if not os.path.exists(qc_tma_metrics_dir):\n",
    "    os.makedirs(qc_tma_metrics_dir)"
   ]
  },
  {
   "attachments": {},
   "cell_type": "markdown",
   "metadata": {},
   "source": [
    "Set `tmas` to a list of TMAs you wish to compute QC metrics for."
   ]
  },
  {
   "cell_type": "code",
   "execution_count": null,
   "metadata": {},
   "outputs": [],
   "source": [
    "# Change the `tmas` variable to be a list of the tmas you want to run the QC on\n",
    "tmas = [\"MY_COHORT_TMA1\", \"MY_COHORT_TMA1\", \"MY_COHORT_TMA1\"]"
   ]
  },
  {
   "attachments": {},
   "cell_type": "markdown",
   "metadata": {},
   "source": [
    "Select any combination of the following three QC metrics:\n",
    "1. `\"Non-zero mean intensity\"`\n",
    "2. `\"Total intensity\"`\n",
    "3. `\"99.9% intensity value\"`"
   ]
  },
  {
   "cell_type": "code",
   "execution_count": null,
   "metadata": {},
   "outputs": [],
   "source": [
    "qc_metrics = [\"Non-zero mean intensity\"]"
   ]
  },
  {
   "attachments": {},
   "cell_type": "markdown",
   "metadata": {},
   "source": [
    "### 2. Compute QC TMA Metrics"
   ]
  },
  {
   "attachments": {},
   "cell_type": "markdown",
   "metadata": {},
   "source": [
    "Initialize the QCTMA class with the path to your cohort (`cohort_path`), the path to the folder containing the QC TMA metrics (`qc_tma_metrics_dir`) and the QC Metrics of interest themselves (`qc_metrics`).\n",
    "\n",
    "Then compute the QC metrics per FOV. FOVs which already have QC metrics files do not get theirs recomputed."
   ]
  },
  {
   "cell_type": "code",
   "execution_count": null,
   "metadata": {},
   "outputs": [],
   "source": [
    "qc_tmas = qc_comp.QCTMA(\n",
    "    qc_metrics=qc_metrics,\n",
    "    cohort_path=cohort_path,\n",
    "    metrics_dir=qc_tma_metrics_dir,\n",
    ")\n",
    "\n",
    "qc_tmas.compute_qc_tma_metrics(tmas=tmas)"
   ]
  },
  {
   "attachments": {},
   "cell_type": "markdown",
   "metadata": {},
   "source": [
    "You may want to exclude channels depending on their impact, the `channel_exclude` variable will filter out those channels when creating the ranked QC metrics.\n",
    "\n",
    "The following channels will *always* be excluded from the TMA Metrics ranking below:\n",
    "- Au\n",
    "- Fe\n",
    "- Na\n",
    "- Ta\n",
    "- Noodle"
   ]
  },
  {
   "cell_type": "code",
   "execution_count": null,
   "metadata": {},
   "outputs": [],
   "source": [
    "channel_exclude = [\"chan_39\", \"chan_45\"]"
   ]
  },
  {
   "attachments": {},
   "cell_type": "markdown",
   "metadata": {},
   "source": [
    "### 3. Compute the Ranked QC TMA Metrics"
   ]
  },
  {
   "cell_type": "code",
   "execution_count": null,
   "metadata": {},
   "outputs": [],
   "source": [
    "qc_tmas.qc_tma_metrics_rank(tmas=tmas, channel_exclude=channel_exclude)"
   ]
  },
  {
   "attachments": {},
   "cell_type": "markdown",
   "metadata": {},
   "source": [
    "### 3. Plot the QC TMA Metrics\n",
    "\n",
    "The following plot below depicts a heatmap of the TMA along with a histogram. \n",
    "\n",
    "The TMA QC metrics are processed first by a FOV wise ranking for each channel, then each channel is averaged for each FOV.\n",
    "\n",
    "What we are looking for is that any particular region's average rank isn't higher than any other. An issue arises when, say all FOVs in the upper left corner of the TMA are systematically brighter than the others.\n",
    "\n",
    "\n",
    "These plots get saved in a `figures` subfolder within `qc_tma_metrics_dir`."
   ]
  },
  {
   "attachments": {},
   "cell_type": "markdown",
   "metadata": {},
   "source": [
    "<div align=\"center\">\n",
    "    <img src=\"img/nb6_ex_avg_tma_rank.png\" />\n",
    "</div>\n"
   ]
  },
  {
   "cell_type": "code",
   "execution_count": null,
   "metadata": {},
   "outputs": [],
   "source": [
    "qc_metrics_plots.qc_tmas_metrics_plot(qc_tmas=qc_tmas, tmas=tmas, save_figure=True, dpi=300)"
   ]
  },
  {
   "attachments": {},
   "cell_type": "markdown",
   "metadata": {},
   "source": [
    "## QC Longitudinal Control Metrics"
   ]
  },
  {
   "attachments": {},
   "cell_type": "markdown",
   "metadata": {},
   "source": [
    "The second half of this notebook is dedicated to looking at QC metrics for a particular control sample across many runs, these are called *longitudinal control* metrics."
   ]
  },
  {
   "attachments": {},
   "cell_type": "markdown",
   "metadata": {},
   "source": [
    "### 0. Prerequisites"
   ]
  },
  {
   "attachments": {},
   "cell_type": "markdown",
   "metadata": {},
   "source": [
    "In order to make use of the QC Longitudinal Control Metrics, you need to have run `5_rename_and_reorganize.ipynb` beforehand. There is no set naming convention here for each FOV.\n",
    "\n",
    "To make use of the LC Metrics, your cohort should consist of one control sample across several runs\n",
    "\n",
    "```sh\n",
    "my_control_sample_runs/\n",
    "├── MY_CONTROL_SAMPLE_RUN1/\n",
    "├── MY_CONTROL_SAMPLE_RUN2/\n",
    "├── ...\n",
    "├── MY_CONTROL_SAMPLE_RUN5/\n",
    "├── MY_CONTROL_SAMPLE_RUN6/\n",
    "└── MY_CONTROL_SAMPLE_RUN7/\n",
    "```\n",
    "\n",
    "Longitudinal Control Metrics can be computed for control sample FOVs across different cohorts. For a given control sample, we will be able to analyze it's run-to-run variance. "
   ]
  },
  {
   "attachments": {},
   "cell_type": "markdown",
   "metadata": {},
   "source": [
    "### 1. Select QC metrics, FOVs, Paths, and the Batch Name"
   ]
  },
  {
   "attachments": {},
   "cell_type": "markdown",
   "metadata": {},
   "source": [
    "Specify the names of the relevant folders:\n",
    "- `control_path`: The path to the cohort containing ready-to-analyze FOVs.\n",
    "- `qc_tma_metrics_dir`: The path where the QC TMA metrics should be saved."
   ]
  },
  {
   "cell_type": "code",
   "execution_count": null,
   "metadata": {},
   "outputs": [],
   "source": [
    "control_path = \"D:\\\\Cohorts\\\\20220101_new_cohort_controls\""
   ]
  },
  {
   "cell_type": "code",
   "execution_count": null,
   "metadata": {},
   "outputs": [],
   "source": [
    "qc_control_effect_metrics_dir = os.path.join(cohort_path, \"qc_longitudinal_control\")\n",
    "\n",
    "if not os.path.exists(qc_control_effect_metrics_dir):\n",
    "    os.makedirs(qc_control_effect_metrics_dir)"
   ]
  },
  {
   "attachments": {},
   "cell_type": "markdown",
   "metadata": {},
   "source": [
    "Select any combination of the following three QC metrics:\n",
    "1. `\"Non-zero mean intensity\"`\n",
    "2. `\"Total intensity\"`\n",
    "3. `\"99.9% intensity value\"`"
   ]
  },
  {
   "cell_type": "code",
   "execution_count": null,
   "metadata": {},
   "outputs": [],
   "source": [
    "qc_metrics = [\"Non-zero mean intensity\"]"
   ]
  },
  {
   "attachments": {},
   "cell_type": "markdown",
   "metadata": {},
   "source": [
    "Set `control_sample_name` to an identifiable name for you to refer to."
   ]
  },
  {
   "cell_type": "code",
   "execution_count": null,
   "metadata": {},
   "outputs": [],
   "source": [
    "control_sample_name = \"MY_CONTROL_SAMPLE\""
   ]
  },
  {
   "attachments": {},
   "cell_type": "markdown",
   "metadata": {},
   "source": [
    "Set `fovs` to a list of FOVs you wish to compute QC Metrics for."
   ]
  },
  {
   "cell_type": "code",
   "execution_count": null,
   "metadata": {},
   "outputs": [],
   "source": [
    "fovs = [\"MY_CONTROL_SAMPLE_RUN1\", \"MY_CONTROL_SAMPLE_RUN2\", \"MY_CONTROL_SAMPLE_RUN3\"]"
   ]
  },
  {
   "attachments": {},
   "cell_type": "markdown",
   "metadata": {},
   "source": [
    "You may want to include, and exclude various channels depending on their impact.\n",
    "\n",
    "- `channel_exclude`: A list of channels to filter out for the Batch Effect QC Metrics\n",
    "- `channel_include`: A list of channels to *only* include for the Batch Effect QC Metrics\n",
    "\n",
    "The following channels will always be excluded from the TMA Metrics ranking below:\n",
    "- Au\n",
    "- Fe\n",
    "- Na\n",
    "- Ta\n",
    "- Noodle\n"
   ]
  },
  {
   "cell_type": "code",
   "execution_count": null,
   "metadata": {},
   "outputs": [],
   "source": [
    "channel_exclude = [\"chan_39\", \"Biotin\", \"PDL1\", \"chan_45\"]\n",
    "channel_include = None"
   ]
  },
  {
   "attachments": {},
   "cell_type": "markdown",
   "metadata": {},
   "source": [
    "### 2. Compute the QC Longitudinal Control metrics for the set of Control Sample FOVs."
   ]
  },
  {
   "cell_type": "code",
   "execution_count": null,
   "metadata": {},
   "outputs": [],
   "source": [
    "# Initialize the QC Control Metrics class\n",
    "qc_control = qc_comp.QCControlMetrics(\n",
    "    qc_metrics=qc_metrics,\n",
    "    cohort_path=cohort_path,\n",
    "    metrics_dir=qc_control_effect_metrics_dir,\n",
    ")\n",
    "\n",
    "\n",
    "# Compute the QC metrics for the FOVs provided\n",
    "qc_control.compute_control_qc_metrics(\n",
    "    control_sample_name=control_sample_name,\n",
    "    fovs=fovs,\n",
    "    channel_exclude=channel_exclude,\n",
    "    channel_include=channel_include,\n",
    ")"
   ]
  },
  {
   "attachments": {},
   "cell_type": "markdown",
   "metadata": {},
   "source": [
    "### 4. Longitudinal Control Heatmap"
   ]
  },
  {
   "attachments": {},
   "cell_type": "markdown",
   "metadata": {},
   "source": [
    "The following plot below is a heatmap for each Control Sample FOV associated with a particular tissue, in this case it is `\"MY_CONTROL_SAMPLE\"`.\n",
    "\n",
    "The QC metrics used to generate this heatmap are normalized by dividing each value by the average of each row, then taking the `log2` of it. Therefore, a value of 1 would be interpreted as be 2 times greater than the row average, and a value of -1 would be 2 times less than the row average.\n",
    "\n",
    "These plots get saved in a `figures` subfolder within `qc_control_effect_metrics_dir`."
   ]
  },
  {
   "attachments": {},
   "cell_type": "markdown",
   "metadata": {},
   "source": [
    "<div align=\"center\">\n",
    "    <img src=\"img/nb6_ex_batch_effect_heatmap.png\" />\n",
    "</div>\n"
   ]
  },
  {
   "cell_type": "code",
   "execution_count": null,
   "metadata": {},
   "outputs": [],
   "source": [
    "qc_metrics_plots.longitudinal_control_heatmap(\n",
    "    qc_control=qc_control, control_sample_name=control_sample_name, save_figure=True, dpi=300\n",
    ")"
   ]
  }
 ],
 "metadata": {
  "kernelspec": {
   "display_name": "toffy-r1jqSdeC-py3.11",
   "language": "python",
   "name": "python3"
  },
  "language_info": {
   "codemirror_mode": {
    "name": "ipython",
    "version": 3
   },
   "file_extension": ".py",
   "mimetype": "text/x-python",
   "name": "python",
   "nbconvert_exporter": "python",
   "pygments_lexer": "ipython3",
   "version": "3.11.4"
  },
  "orig_nbformat": 4
 },
 "nbformat": 4,
 "nbformat_minor": 2
}
