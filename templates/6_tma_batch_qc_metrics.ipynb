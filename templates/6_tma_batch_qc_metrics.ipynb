{
 "cells": [
  {
   "attachments": {},
   "cell_type": "markdown",
   "metadata": {},
   "source": [
    "# TMA and Batch QC Metrics"
   ]
  },
  {
   "attachments": {},
   "cell_type": "markdown",
   "metadata": {},
   "source": [
    "The purpose of this notebook is to run QC checks on a per-TMA and per-Batch/Cohort/Tissue level.\n",
    "\n",
    "There are two parts which can be done in any order, depending on which type of QC effects are of interest."
   ]
  },
  {
   "cell_type": "code",
   "execution_count": null,
   "metadata": {},
   "outputs": [],
   "source": [
    "import os\n",
    "from toffy import qc_comp, qc_metrics_plots"
   ]
  },
  {
   "attachments": {},
   "cell_type": "markdown",
   "metadata": {},
   "source": [
    "## QC TMA Metrics"
   ]
  },
  {
   "attachments": {},
   "cell_type": "markdown",
   "metadata": {},
   "source": [
    "### 1. Select QC metrics and TMAs"
   ]
  },
  {
   "attachments": {},
   "cell_type": "markdown",
   "metadata": {},
   "source": [
    "Select any combination of the following three QC metrics:\n",
    "1. `\"Non-zero mean intensity\"`\n",
    "2. `\"Total intensity\"`\n",
    "3. `\"99.9% intensity value\"`\n",
    "\n"
   ]
  },
  {
   "cell_type": "code",
   "execution_count": null,
   "metadata": {},
   "outputs": [],
   "source": [
    "qc_metrics = [\"Non-zero mean intensity\", \"Total intensity\", \"99.9% intensity value\"]"
   ]
  },
  {
   "attachments": {},
   "cell_type": "markdown",
   "metadata": {},
   "source": [
    "Specify the names of the relevant folders:\n",
    "- `extracted_imgs_path`: The path to FOVs which contain Row and Column suffixes.\n",
    "- `qc_tma_metrics_dir`: The path where the QC TMA metrics should be saved.\n",
    "\n",
    "\n",
    "Here is what an example `extracted_imgs_path` directory may contain:\n",
    "\n",
    "```sh\n",
    "samples/\n",
    "├── TONIC_TMA1_R1C1\n",
    "├── TONIC_TMA1_R1C2\n",
    "├── ...\n",
    "├── TONIC_TMA2_R1C2\n",
    "├── TONIC_TMA2_R7C10\n",
    "└── ...\n",
    "\n",
    "```"
   ]
  },
  {
   "cell_type": "code",
   "execution_count": null,
   "metadata": {},
   "outputs": [],
   "source": [
    "extracted_imgs_path = os.path.join(\n",
    "    \"D:\\\\extracted_images\"\n",
    ")\n",
    "\n",
    "qc_tma_metrics_dir: str = os.path.join(\"./extracted/TONIC_Cohort/\")"
   ]
  },
  {
   "attachments": {},
   "cell_type": "markdown",
   "metadata": {},
   "source": [
    "Specify the names of the TMAs of interest, note that the folders themselves should contain the Row number and Column number, for example `TONIC_TMA1_R1C2`, `TONIC_TMA2_R6C2`.\n",
    "\n",
    "Every Row Column FOV can be acquired for TONIC TMA 1 if the proper substring, `TONIC_TMA1_` is listed in the `tmas` variable."
   ]
  },
  {
   "cell_type": "code",
   "execution_count": null,
   "metadata": {},
   "outputs": [],
   "source": [
    "# Change the tmas to be a list of the tmas you want to run the QC on\n",
    "tmas = [f\"TONIC_TMA{n}_\" for n in range(1, 3)]"
   ]
  },
  {
   "cell_type": "code",
   "execution_count": null,
   "metadata": {},
   "outputs": [],
   "source": [
    "qc_tmas = qc_comp.QCTMA(extracted_imgs_path, qc_tma_metrics_dir, qc_metrics=None)"
   ]
  },
  {
   "cell_type": "code",
   "execution_count": null,
   "metadata": {},
   "outputs": [],
   "source": [
    "qc_tmas.qc_tma_metrics(tmas)"
   ]
  },
  {
   "attachments": {},
   "cell_type": "markdown",
   "metadata": {},
   "source": [
    "You may want to exclude channels depending on their impact, the `channel_exclude` variable will filter out those channels when creating the ranked QC metrics.\n",
    "\n",
    "The following channels will always be excluded from the TMA Metrics ranking below:\n",
    "- Au\n",
    "- Fe\n",
    "- Na\n",
    "- Ta\n",
    "- Noodle"
   ]
  },
  {
   "cell_type": "code",
   "execution_count": null,
   "metadata": {},
   "outputs": [],
   "source": [
    "channel_exclude = [\"chan_39\", \"chan_45\"]"
   ]
  },
  {
   "attachments": {},
   "cell_type": "markdown",
   "metadata": {},
   "source": [
    "### 2. Get the average rank for the QC TMA metrics channel wise for each individual TMA."
   ]
  },
  {
   "cell_type": "code",
   "execution_count": null,
   "metadata": {},
   "outputs": [],
   "source": [
    "qc_tmas.qc_tma_metrics_rank(tmas, channel_exclude=channel_exclude)"
   ]
  },
  {
   "attachments": {},
   "cell_type": "markdown",
   "metadata": {},
   "source": [
    "### 3. Plot the QC TMA Metrics\n",
    "\n",
    "The following plot below depicts a heatmap of the TMA along with a histogram. \n",
    "\n",
    "The TMA QC metrics are processed first by a FOV wise ranking for each channel, then each channel is averaged for each FOV.\n",
    "\n",
    "What we are looking for is that any particular region's average rank isn't higher than any other. An issue arises when, say all FOVs in the upper left corner of the TMA are systematically brighter than the others.\n",
    "\n",
    "\n",
    "These plots get saved in a `figures` subfolder within `qc_tma_metrics_dir`."
   ]
  },
  {
   "attachments": {},
   "cell_type": "markdown",
   "metadata": {},
   "source": [
    "<div align=\"center\">\n",
    "    <img src=\"img/nb6_ex_avg_tma_rank.png\" />\n",
    "</div>\n"
   ]
  },
  {
   "cell_type": "code",
   "execution_count": null,
   "metadata": {},
   "outputs": [],
   "source": [
    "qc_metrics_plots.qc_tmas_metrics_plot(qc_tmas=qc_tmas, tmas=tmas, save_figure=True, dpi=300)"
   ]
  },
  {
   "attachments": {},
   "cell_type": "markdown",
   "metadata": {},
   "source": [
    "## QC Batch Effect Metrics"
   ]
  },
  {
   "attachments": {},
   "cell_type": "markdown",
   "metadata": {},
   "source": [
    "The second half of this notebook is dedicated to looking at batch effects across different cohorts and / or tissues."
   ]
  },
  {
   "attachments": {},
   "cell_type": "markdown",
   "metadata": {},
   "source": [
    "Specify the names of the relevant folders:\n",
    "- `cohort_data_dir`: The path to FOVs which are suffixed by a `tissue`.\n",
    "- `qc_cohort_metrics_dir`: The path where the QC Batch Effect metrics should be saved.\n",
    "\n",
    "\n",
    "Here is what an example `cohort_data_dir` directory may contain:\n",
    "\n",
    "```sh\n",
    "cohort/\n",
    "├── TONIC_TMA1_colon_bottom\n",
    "├── TONIC_TMA1_ln_bottom\n",
    "├── ...\n",
    "├── TONIC_TMA2_NKI_Tonsil1\n",
    "├── TONIC_TMA2_NKI_Tonsil2\n",
    "└── ...\n",
    "\n",
    "```"
   ]
  },
  {
   "cell_type": "code",
   "execution_count": null,
   "metadata": {},
   "outputs": [],
   "source": [
    "cohort_data_dir = \"./data/extracted/\"\n",
    "qc_cohort_metrics_dir = \"./data/extracted/cohort_metrics\""
   ]
  },
  {
   "attachments": {},
   "cell_type": "markdown",
   "metadata": {},
   "source": [
    "### 1. Select Tissues / Batches of Interest"
   ]
  },
  {
   "attachments": {},
   "cell_type": "markdown",
   "metadata": {},
   "source": [
    "`tissues` may contain a list of tissue suffixes to generate QC Batch Effects for."
   ]
  },
  {
   "cell_type": "code",
   "execution_count": 1,
   "metadata": {},
   "outputs": [],
   "source": [
    "tissues = [\"ln_top\", \"ln_bottom\", \"spleen_top\", \"spleen_bottom\", \"tonsil_top\", \"tonsil_bottom\"]"
   ]
  },
  {
   "attachments": {},
   "cell_type": "markdown",
   "metadata": {},
   "source": [
    "### 2. Compute the QC Batch Effect metrics for the set of tissues."
   ]
  },
  {
   "cell_type": "code",
   "execution_count": null,
   "metadata": {},
   "outputs": [],
   "source": [
    "qc_batch = qc_comp.QCBatchEffect(cohort_data_dir, qc_cohort_metrics_dir, qc_metrics)"
   ]
  },
  {
   "cell_type": "code",
   "execution_count": null,
   "metadata": {},
   "outputs": [],
   "source": [
    "qc_batch.batch_effect_qc_metrics(tissues=tissues)"
   ]
  },
  {
   "attachments": {},
   "cell_type": "markdown",
   "metadata": {},
   "source": [
    "You may want to exclude channels depending on their impact, the `channel_exclude` variable will filter out those channels when creating the Batch Effect QC Metrics.\n",
    "\n",
    "The following channels will always be excluded from the TMA Metrics ranking below:\n",
    "- Au\n",
    "- Fe\n",
    "- Na\n",
    "- Ta\n",
    "- Noodle\n",
    "\n",
    "If you only want to see a select few channels, you may set `channel_include` as a list of those desired channels, or leave it as `None` if you'd like to only exclude a few channels."
   ]
  },
  {
   "cell_type": "code",
   "execution_count": null,
   "metadata": {},
   "outputs": [],
   "source": [
    "channel_exclude = [\"chan_39\", \"Biotin\", \"PDL1\", \"chan_45\"]\n",
    "channel_include = None"
   ]
  },
  {
   "attachments": {},
   "cell_type": "markdown",
   "metadata": {},
   "source": [
    "### 3. Filter the Batch Effect QC Metrics"
   ]
  },
  {
   "cell_type": "code",
   "execution_count": null,
   "metadata": {},
   "outputs": [],
   "source": [
    "qc_batch.batch_effect_filtering(tissues=tissues, channel_include=channel_include, channel_exclude=channel_exclude)"
   ]
  },
  {
   "attachments": {},
   "cell_type": "markdown",
   "metadata": {},
   "source": [
    "### 4. Batch Effect Violin / Swarm Plot"
   ]
  },
  {
   "attachments": {},
   "cell_type": "markdown",
   "metadata": {},
   "source": [
    "Below, is an example of the Violin / Swarm plot. For each channel, the FOVs are points distributed vertically along each Channel. We suggest to mainly utilize this plot for a few channels, as it can quickly become overwhelming."
   ]
  },
  {
   "attachments": {},
   "cell_type": "markdown",
   "metadata": {},
   "source": [
    "<div align=\"center\">\n",
    "    <img src=\"img/nb6_ex_batch_effect_violin_swarm.png\" />\n",
    "</div>\n"
   ]
  },
  {
   "cell_type": "code",
   "execution_count": null,
   "metadata": {},
   "outputs": [],
   "source": [
    "qc_metrics_plots.qc_batch_effect_violin(qc_batch, tissues=tissues, save_figure=True)"
   ]
  },
  {
   "attachments": {},
   "cell_type": "markdown",
   "metadata": {},
   "source": [
    "### 5. Batch Effect Heatmap"
   ]
  },
  {
   "attachments": {},
   "cell_type": "markdown",
   "metadata": {},
   "source": [
    "The following plot below is a heatmap for each FOV associated with a particular tissue, in this case it is \"ln_bottom\". We can have FOVs from different cohorts as well, (like TONIC, and SPAIN) and compare across cohorts.\n",
    "\n",
    "The QC metrics used to generate this heatmap are normalized by dividing each value by the average of each row, then taking the `log2` of it. Therefore, a value of 1 would be interpreted as be 2 times greater than the row average, and a value of -1 would be 2 times less than the row average.\n",
    "\n",
    "These plots get saved in a `figures` subfolder within `qc_cohort_metrics_dir`."
   ]
  },
  {
   "attachments": {},
   "cell_type": "markdown",
   "metadata": {},
   "source": [
    "<div align=\"center\">\n",
    "    <img src=\"img/nb6_ex_batch_effect_heatmap.png\" />\n",
    "</div>\n"
   ]
  },
  {
   "cell_type": "code",
   "execution_count": null,
   "metadata": {},
   "outputs": [],
   "source": [
    "qc_metrics_plots.qc_batch_effect_heatmap(qc_batch, tissues=tissues, save_figure=True)"
   ]
  }
 ],
 "metadata": {
  "kernelspec": {
   "display_name": "toffy-r1jqSdeC-py3.11",
   "language": "python",
   "name": "python3"
  },
  "language_info": {
   "codemirror_mode": {
    "name": "ipython",
    "version": 3
   },
   "file_extension": ".py",
   "mimetype": "text/x-python",
   "name": "python",
   "nbconvert_exporter": "python",
   "pygments_lexer": "ipython3",
   "version": "3.11.4"
  },
  "orig_nbformat": 4
 },
 "nbformat": 4,
 "nbformat_minor": 2
}
