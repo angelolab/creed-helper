{
 "cells": [
  {
   "cell_type": "markdown",
   "id": "ec35cb18-c771-48e6-859f-e10e074545d6",
   "metadata": {},
   "source": [
    "# Update co-registration constants"
   ]
  },
  {
   "cell_type": "markdown",
   "id": "edb13b4a-9589-4c2d-814c-0cae835cc255",
   "metadata": {},
   "source": [
    "For tiling purposes, we use a default set of constants to co-register FOV coordinates onto the slide. Depending on the positioning of your slide on the commercial instrument, you may need to adjust these. This notebook allows you to generate a new set of co-registration constants for your particular run."
   ]
  },
  {
   "cell_type": "code",
   "execution_count": null,
   "id": "a3cfb39f-1b96-4dbe-8136-0a402da30397",
   "metadata": {},
   "outputs": [],
   "source": [
    "import sys\n",
    "sys.path.append('../')"
   ]
  },
  {
   "cell_type": "code",
   "execution_count": null,
   "id": "0d1bdc51-fe32-4a92-a5bb-f7d53628458c",
   "metadata": {},
   "outputs": [],
   "source": [
    "import numpy as np\n",
    "import os\n",
    "from sklearn.linear_model import LinearRegression\n",
    "\n",
    "from toffy import tiling_utils"
   ]
  },
  {
   "cell_type": "markdown",
   "id": "44bf4948-eebe-43a9-8e0e-a993dc8e726b",
   "metadata": {},
   "source": [
    "### Set stage and optical coordinates of the fiducials"
   ]
  },
  {
   "cell_type": "markdown",
   "id": "1d3cc736-faba-41e7-a406-ff900074d7fe",
   "metadata": {},
   "source": [
    "Coregistration is done using the fiducials on the slide. We prompt you to specify the coordinates of the top 3 fiducial pairs in both stage coordinate and corresponding optical coordinate values.\n",
    "\n",
    "For each fiducial:\n",
    "\n",
    "1. Open the slide image on the commercial instrument viewer.\n",
    "2. Open the developer console. Right click anywhere on the slide image, and click `Inspect`:\n",
    "\n",
    "<div>\n",
    "    <img src=\"img/inspect_menu.png\" width=\"214\" height=\"182\"/>\n",
    "</div>\n",
    "\n",
    "The developer console should appear on the right side:\n",
    "\n",
    "<div>\n",
    "    <img src=\"img/developer_console.png\" width=\"284\" height=\"454\"/>\n",
    "</div>\n",
    "\n",
    "3. In the console (above the tabs `What's New` and `Console`), type `logger.level=4` and hit `Enter`\n",
    "\n",
    "<div>\n",
    "    <img src=\"img/logger_level.png\" width=\"558\" height=\"186\"/>\n",
    "</div>\n",
    "\n",
    "4. Click on one of the slide image fiducials. Retrieve the stage coordinates on top of the image next to `Target Point`:\n",
    "\n",
    "<div>\n",
    "    <img src=\"img/stage_coords.png\" width=\"692\" height=\"137\"/>\n",
    "</div>\n",
    "\n",
    "Retrieve the corresponding optical coordinates from the console:\n",
    "\n",
    "<div>\n",
    "    <img src=\"img/optical_coords.png\" width=\"568\" height=\"207\"/>\n",
    "</div>\n",
    "\n",
    "5. For each fiducial, we prompt you separately for the stage x-coordinate, stage y-coordinate, optical x-coordinate, and optical y-coordinate. Enter the correct value for the coordinate and hit `Enter` to continue.\n",
    "\n",
    "6. At the end, we ask that you specify a name for this set of fiducials."
   ]
  },
  {
   "cell_type": "code",
   "execution_count": null,
   "id": "64d6d2f5-ac4c-4917-a874-b8310f75f5e9",
   "metadata": {},
   "outputs": [],
   "source": [
    "fiducial_info = tiling_utils.read_fiducial_info()"
   ]
  },
  {
   "cell_type": "markdown",
   "id": "ce74c91b-86ef-4569-87ac-b8553ecb23bc",
   "metadata": {},
   "source": [
    "### Generate new co-registration parameters"
   ]
  },
  {
   "cell_type": "code",
   "execution_count": null,
   "id": "3db446dd-2575-420b-a00e-874802b7a3ee",
   "metadata": {},
   "outputs": [],
   "source": [
    "coreg_params = tiling_utils.generate_coreg_params(fiducial_info)"
   ]
  },
  {
   "cell_type": "markdown",
   "id": "7df88849-a7ba-400c-92bd-88e165a5b515",
   "metadata": {},
   "source": [
    "### Update co-registration settings"
   ]
  },
  {
   "cell_type": "code",
   "execution_count": null,
   "id": "ae5ccc65-f555-47e6-983e-d8944ac42bf1",
   "metadata": {},
   "outputs": [],
   "source": [
    "tiling_utils.write_coreg_params(\n",
    "    coreg_params,\n",
    "    fiducial_info['name']\n",
    ")"
   ]
  }
 ],
 "metadata": {
  "kernelspec": {
   "display_name": "Python 3 (ipykernel)",
   "language": "python",
   "name": "python3"
  },
  "language_info": {
   "codemirror_mode": {
    "name": "ipython",
    "version": 3
   },
   "file_extension": ".py",
   "mimetype": "text/x-python",
   "name": "python",
   "nbconvert_exporter": "python",
   "pygments_lexer": "ipython3",
   "version": "3.8.12"
  }
 },
 "nbformat": 4,
 "nbformat_minor": 5
}
