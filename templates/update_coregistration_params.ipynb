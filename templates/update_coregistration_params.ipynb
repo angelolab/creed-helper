{
 "cells": [
  {
   "cell_type": "markdown",
   "id": "ec35cb18-c771-48e6-859f-e10e074545d6",
   "metadata": {},
   "source": [
    "# Update coregistration constants"
   ]
  },
  {
   "cell_type": "markdown",
   "id": "edb13b4a-9589-4c2d-814c-0cae835cc255",
   "metadata": {},
   "source": [
    "For tiling purposes, we use a default set of constants to coregister FOV coordinates onto the slide. However, depending on the positioning of your slide on the commercial instrument, you may need to adjust these.\n",
    "\n",
    "Coregistration is done using the fiducial markers on the slide. Please provide the stage coordinate and corresponding optical pixel coordinate values for the top 3 pairs in this notebook.\n",
    "\n",
    "To retrieve the stage coordinate and pixel coordinate values, open the slide on the CAC and open the developer console. Set `logger.level = 4`, then click on one of the fiducials. The stage coordinates will be printed above the slide, and the corresponding pixel coordinates will be printed in the console."
   ]
  },
  {
   "cell_type": "code",
   "execution_count": null,
   "id": "a3cfb39f-1b96-4dbe-8136-0a402da30397",
   "metadata": {},
   "outputs": [],
   "source": [
    "import sys\n",
    "sys.path.append('../')"
   ]
  },
  {
   "cell_type": "code",
   "execution_count": null,
   "id": "0d1bdc51-fe32-4a92-a5bb-f7d53628458c",
   "metadata": {},
   "outputs": [],
   "source": [
    "import numpy as np\n",
    "import os\n",
    "from sklearn.linear_model import LinearRegression\n",
    "\n",
    "from toffy import tiling_utils"
   ]
  },
  {
   "cell_type": "markdown",
   "id": "44bf4948-eebe-43a9-8e0e-a993dc8e726b",
   "metadata": {},
   "source": [
    "### Set stage and pixel coordinates for the top 3 fiducial pairs"
   ]
  },
  {
   "cell_type": "code",
   "execution_count": null,
   "id": "64d6d2f5-ac4c-4917-a874-b8310f75f5e9",
   "metadata": {},
   "outputs": [],
   "source": [
    "fiducial_info = tiling_utils.read_fiducial_info()"
   ]
  },
  {
   "cell_type": "markdown",
   "id": "ce74c91b-86ef-4569-87ac-b8553ecb23bc",
   "metadata": {},
   "source": [
    "### Regress stage to pixel coordinates (separately for x- and y-coordinate values)"
   ]
  },
  {
   "cell_type": "code",
   "execution_count": null,
   "id": "3db446dd-2575-420b-a00e-874802b7a3ee",
   "metadata": {},
   "outputs": [],
   "source": [
    "coreg_params = tiling_utils.generate_coreg_params(fiducial_info)"
   ]
  },
  {
   "cell_type": "markdown",
   "id": "7df88849-a7ba-400c-92bd-88e165a5b515",
   "metadata": {},
   "source": [
    "### Update co-registration settings"
   ]
  },
  {
   "cell_type": "code",
   "execution_count": null,
   "id": "ae5ccc65-f555-47e6-983e-d8944ac42bf1",
   "metadata": {},
   "outputs": [],
   "source": [
    "tiling_utils.write_coreg_params(\n",
    "    coreg_params,\n",
    "    fiducial_info['name']\n",
    ")"
   ]
  }
 ],
 "metadata": {
  "kernelspec": {
   "display_name": "Python 3 (ipykernel)",
   "language": "python",
   "name": "python3"
  },
  "language_info": {
   "codemirror_mode": {
    "name": "ipython",
    "version": 3
   },
   "file_extension": ".py",
   "mimetype": "text/x-python",
   "name": "python",
   "nbconvert_exporter": "python",
   "pygments_lexer": "ipython3",
   "version": "3.8.12"
  }
 },
 "nbformat": 4,
 "nbformat_minor": 5
}
