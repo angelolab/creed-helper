{
 "cells": [
  {
   "cell_type": "code",
   "execution_count": null,
   "id": "57186f2e-8030-436d-85ff-b4a3aa4a446f",
   "metadata": {},
   "outputs": [],
   "source": [
    "import os\n",
    "\n",
    "from mibi_bin_tools import bin_files, io_utils"
   ]
  },
  {
   "cell_type": "code",
   "execution_count": 11,
   "id": "2726b808-9378-41e5-a8d1-788a693e6937",
   "metadata": {},
   "outputs": [],
   "source": [
    "# data_dir should contain *.bin's and *.json's, no subdirs for now\n",
    "#base_dir = 'D:\\\\Data\\\\2021-12-12_run_name'\n",
    "\n",
    "# the name of the run\n",
    "run_name = 'YYYY-MM-DD_run_name'\n",
    "\n",
    "# path where plots will get saved\n",
    "bin_file_dir = os.path.join('D:\\\\Data', run_name)\n",
    "    \n",
    "# Column names should be uppercased: 'Mass', 'Target', 'Start', 'Stop'\n",
    "panel = pd.read_csv(os.path.join(base_dir, 'panel_full.csv'))    \n"
   ]
  },
  {
   "cell_type": "code",
   "execution_count": null,
   "id": "cd6eda88-3003-496f-8c66-1697d570f05d",
   "metadata": {},
   "outputs": [],
   "source": [
    "# create a new folder to hold extracted files\n",
    "img_out_dir = os.path.join(base_dir, 'extracted')\n",
    "if not os.path.exists(img_out_dir):\n",
    "    os.makedirs(img_out_dir)\n",
    "\n",
    "# retrieve all fov names from bin_file_path, and extracted fovs from image_out_dir\n",
    "fovs = io_utils.remove_file_extensions(io_utils.list_files(bin_file_path, substrs='.bin'))\n",
    "extracted_fovs = io_utils.list_folders(image_out_dir, substrs='fov')\n",
    "\n",
    "# extract missing fovs to image_out_dir\n",
    "missing_fovs = list(set(fovs).difference(extracted_fovs))\n",
    "bin_files.extract_bin_files(base_dir, img_out_dir, include_fovs=missing_fovs, panel=panel, intensities=True)\n"
   ]
  }
 ],
 "metadata": {
  "kernelspec": {
   "display_name": "toffy_env",
   "language": "python",
   "name": "toffy_env"
  },
  "language_info": {
   "codemirror_mode": {
    "name": "ipython",
    "version": 3
   },
   "file_extension": ".py",
   "mimetype": "text/x-python",
   "name": "python",
   "nbconvert_exporter": "python",
   "pygments_lexer": "ipython3",
   "version": "3.8.12"
  }
 },
 "nbformat": 4,
 "nbformat_minor": 5
}
