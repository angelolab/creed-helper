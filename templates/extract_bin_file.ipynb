{
 "cells": [
  {
   "cell_type": "code",
   "execution_count": 2,
   "metadata": {},
   "outputs": [],
   "source": [
    "import os\n",
    "\n",
    "import pandas as pd\n",
    "from mibi_bin_tools import bin_files"
   ]
  },
  {
   "cell_type": "code",
   "execution_count": 4,
   "metadata": {},
   "outputs": [],
   "source": [
    "# data_dir should contain *.bin's and *.json's, no subdirs for now\n",
    "base_dir = 'D:\\\\Data\\\\2021-12-12_run_name'\n",
    "\n",
    "# create a new folder to hold extracted files\n",
    "img_out_dir = os.path.join(base_dir, 'extracted')\n",
    "if not os.path.exists(img_out_dir):\n",
    "    os.makedirs(img_out_dir)\n",
    "\n",
    "# Column names should be uppercased: 'Mass', 'Target', 'Start', 'Stop'\n",
    "panel = pd.read_csv(os.path.join(base_dir, 'panel_full.csv'))\n",
    "\n",
    "bin_files.extract_bin_files(base_dir, img_out_dir, include_fovs=None, panel=panel, write_parallel=False)"
   ]
  }
 ],
 "metadata": {
  "kernelspec": {
   "display_name": "Python 3",
   "language": "python",
   "name": "python3"
  },
  "language_info": {
   "codemirror_mode": {
    "name": "ipython",
    "version": 3
   },
   "file_extension": ".py",
   "mimetype": "text/x-python",
   "name": "python",
   "nbconvert_exporter": "python",
   "pygments_lexer": "ipython3",
   "version": "3.6.8"
  }
 },
 "nbformat": 4,
 "nbformat_minor": 5
}
