{
 "cells": [
  {
   "cell_type": "code",
   "execution_count": 28,
   "id": "bc698d45-fbb1-45f3-ad36-33d262ad2858",
   "metadata": {},
   "outputs": [],
   "source": [
    "import sys \n",
    "sys.path.append('../') "
   ]
  },
  {
   "cell_type": "code",
   "execution_count": 29,
   "id": "87437522-8ec9-4c03-a03a-0e63584ac24f",
   "metadata": {},
   "outputs": [],
   "source": [
    "import os\n",
    "import shutil\n",
    "import pandas as pd\n",
    "import numpy as np\n",
    "import matplotlib.pyplot as plt\n",
    "\n",
    "from mibi_bin_tools import bin_files"
   ]
  },
  {
   "cell_type": "markdown",
   "id": "88a66008-ce34-499c-9c73-8ce3bc150852",
   "metadata": {
    "tags": []
   },
   "source": [
    "### Define file parameters\n",
    " * base_dir: this is the top-level directory to store the median pulse heights for different targets\n",
    " * bin_file_path: the directory containing your bin files\n",
    " * mph_dir: the directory to save the MPH visualizations to"
   ]
  },
  {
   "cell_type": "code",
   "execution_count": 30,
   "id": "fc2b28d1-1a05-45ac-ab7b-80d9f04acd96",
   "metadata": {},
   "outputs": [],
   "source": [
    "# set up directories for current run\n",
    "base_dir = os.path.join('..', 'toffy', 'data')\n",
    "bin_file_path = os.path.join(base_dir, 'tissue')\n",
    "mph_dir = os.path.join(base_dir, 'tissue_mph')\n",
    "#mph_dir = os.path.join('C:\\\\Users\\\\Customer.ION\\\\Documents\\\\qc_metrics', 'tissue')\n",
    "\n",
    "# make mph_dir if it doesn't exist\n",
    "if not os.path.exists(mph_dir):\n",
    "    os.makedirs(mph_dir)"
   ]
  },
  {
   "cell_type": "code",
   "execution_count": 31,
   "id": "fefbfe63-8c92-45ba-9bad-0aac3b6a7c72",
   "metadata": {},
   "outputs": [],
   "source": [
    "# define which channel to retrieve data for\n",
    "target = 'CD8'\n",
    "\n",
    "# retrieve the total counts and compute pulse heights for each FOV run file\n",
    "# saves individual .csv  files to bin_file_path\n",
    "total_counts = bin_files.get_total_counts(bin_file_path)\n",
    "\n",
    "for i in range(1, len(total_counts)+1): \n",
    "    pulse_height_file = 'fov-{}-pulse_height.csv'.format(i)\n",
    "    \n",
    "    if os.path.exists(os.path.join(bin_file_path, pulse_height_file)):\n",
    "        pass\n",
    "    else:\n",
    "        print(f'\\r{i}...', end='')\n",
    "        median = bin_files.get_median_pulse_height(bin_file_path, 'fov-{}-scan-1'.format(i) , target)\n",
    "        count = total_counts['fov-{}-scan-1'.format(i)]\n",
    "\n",
    "        out_df = pd.DataFrame({\n",
    "            'fov': [i],\n",
    "            'MPH': [median],\n",
    "            'total_count': [count]})\n",
    "        out_df.to_csv(os.path.join(bin_file_path, pulse_height_file), index=False)"
   ]
  },
  {
   "cell_type": "markdown",
   "id": "1c4c4bf8-015c-4610-b9f5-ae5ccd497259",
   "metadata": {},
   "source": [
    "### Visualize MPH Plots"
   ]
  },
  {
   "cell_type": "code",
   "execution_count": 32,
   "id": "162f8549-6d7d-44f4-9436-09e70fcbef40",
   "metadata": {},
   "outputs": [],
   "source": [
    "# prior to generating the graphs, need to combine the data for each FOV into one combined .csv\n",
    "# saves directly to mph_dir\n",
    "pulse_heights = []\n",
    "fov_counts = []\n",
    "\n",
    "for i in range(1, len(total_counts)+1):\n",
    "    temp_df = pd.read_csv(os.path.join(bin_file_path, 'fov-{}-pulse_height.csv'.format(i)))\n",
    "    pulse_heights.append(temp_df['MPH'].values[0])\n",
    "    if i>1:\n",
    "        fov_counts.append(temp_df['total_count'].values[0] + fov_counts[i-2])\n",
    "    else:\n",
    "        fov_counts.append(temp_df['total_count'].values[0])\n",
    "                           \n",
    "combined_df = pd.DataFrame({'pulse_heights': pulse_heights, 'cum_total_count': fov_counts})\n",
    "combined_df.to_csv(os.path.join(mph_dir, 'total_count_vs_mph_data.csv'), index=False)"
   ]
  },
  {
   "cell_type": "code",
   "execution_count": 33,
   "id": "1a6da8b5-a83e-4be0-a4af-cf80838955e4",
   "metadata": {},
   "outputs": [
    {
     "data": {
      "image/png": "[encoded data removed]",
      "text/plain": [
       "<Figure size 1332x756 with 1 Axes>"
      ]
     },
     "metadata": {},
     "output_type": "display_data"
    }
   ],
   "source": [
    "# visualize the median pulse heights\n",
    "plt.style.use('dark_background')\n",
    "plt.title('FOV total counts vs median pulse height')\n",
    "plt.scatter(fov_counts, pulse_heights)\n",
    "plt.gca().set_xlabel('FOV cumulative count')\n",
    "plt.gca().set_ylabel('median pulse hight')\n",
    "plt.gcf().set_size_inches(18.5, 10.5)\n",
    "plt.xlim(0, max(fov_counts)+10000)\n",
    "\n",
    "# save plot to mph_dir\n",
    "plt.savefig(os.path.join(mph_dir, 'fov_vs_mph.jpg'))"
   ]
  }
 ],
 "metadata": {
  "kernelspec": {
   "display_name": "toffy_env",
   "language": "python",
   "name": "toffy_env"
  },
  "language_info": {
   "codemirror_mode": {
    "name": "ipython",
    "version": 3
   },
   "file_extension": ".py",
   "mimetype": "text/x-python",
   "name": "python",
   "nbconvert_exporter": "python",
   "pygments_lexer": "ipython3",
   "version": "3.8.12"
  }
 },
 "nbformat": 4,
 "nbformat_minor": 5
}
