{
 "cells": [
  {
   "cell_type": "markdown",
   "id": "4857c47b-f476-4494-9a0d-742ef35c0a85",
   "metadata": {},
   "source": [
    "# Check FOV Resolutions\n",
    "This notebook will use the run file to check the image resolution for each FOV in the run. Consistent resolution level is important for downstream processing."
   ]
  },
  {
   "cell_type": "code",
   "execution_count": null,
   "id": "353ffbc5-4784-49e1-9fd5-f1344d7892da",
   "metadata": {},
   "outputs": [],
   "source": [
    "import os\n",
    "from toffy.json_utils import check_fov_resolutions"
   ]
  },
  {
   "cell_type": "markdown",
   "id": "cd7ff391-2d75-4098-bd9d-4d98e07d45ba",
   "metadata": {},
   "source": [
    "## Required variables\n",
    "You will need to define the following argument for this notebook.\n",
    " - `run_name` should contain the exact name of the MIBI run to extract from"
   ]
  },
  {
   "cell_type": "code",
   "execution_count": null,
   "id": "4b81ca96-e7dc-4603-87ce-284edeb2d423",
   "metadata": {},
   "outputs": [],
   "source": [
    "# set up args for current run\n",
    "run_name = 'YYYY-MM-DD_run_name'\n",
    "\n",
    "bin_file_dir = os.path.join('D:\\\\Data', run_name)"
   ]
  },
  {
   "cell_type": "code",
   "execution_count": null,
   "id": "b30a4058-4976-4bdc-9714-f9babe056d85",
   "metadata": {},
   "outputs": [],
   "source": [
    "# check resolutions \n",
    "resolution_data = check_fov_resolutions(bin_file_dir, run_name)"
   ]
  }
 ],
 "metadata": {
  "kernelspec": {
   "display_name": "toffy_env",
   "language": "python",
   "name": "toffy_env"
  },
  "language_info": {
   "codemirror_mode": {
    "name": "ipython",
    "version": 3
   },
   "file_extension": ".py",
   "mimetype": "text/x-python",
   "name": "python",
   "nbconvert_exporter": "python",
   "pygments_lexer": "ipython3",
   "version": "3.11.4"
  }
 },
 "nbformat": 4,
 "nbformat_minor": 5
}
