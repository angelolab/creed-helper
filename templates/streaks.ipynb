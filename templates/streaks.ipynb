{
 "cells": [
  {
   "cell_type": "code",
   "execution_count": 1,
   "metadata": {},
   "outputs": [],
   "source": [
    "import numpy as np\n",
    "from tqdm import tqdm\n",
    "\n",
    "import xarray as xr\n",
    "import glob\n",
    "from pathlib import Path\n",
    "\n",
    "\n",
    "import sys\n",
    "sys.path.append('../')\n",
    "from toffy import streak_detection as sd\n",
    "from ark.utils import load_utils"
   ]
  },
  {
   "cell_type": "code",
   "execution_count": 2,
   "metadata": {},
   "outputs": [
    {
     "name": "stdout",
     "output_type": "stream",
     "text": [
      "[PosixPath('../toffy/data/streak/fov-31-scan-1'), PosixPath('../toffy/data/streak/fov-32-scan-1'), PosixPath('../toffy/data/streak/fov-27-scan-1')]\n"
     ]
    }
   ],
   "source": [
    "fov_dirs = list(map(Path, glob.glob(\"../toffy/data/streak/*/\")))"
   ]
  },
  {
   "cell_type": "code",
   "execution_count": 5,
   "metadata": {},
   "outputs": [
    {
     "name": "stderr",
     "output_type": "stream",
     "text": [
      "100%|██████████| 3/3 [00:09<00:00,  3.07s/it]\n"
     ]
    }
   ],
   "source": [
    "\n",
    "streak_data = {}\n",
    "\n",
    "for fov_dir in tqdm(fov_dirs):\n",
    "    streak_data[fov_dir.stem] = sd.streak_correction(\n",
    "        fov_dir, image_name=\"Noodle\", mask_data=True\n",
    "    )\n",
    "    sd.save_data(streak_data[fov_dir.stem], all_data=True)"
   ]
  },
  {
   "cell_type": "code",
   "execution_count": null,
   "metadata": {},
   "outputs": [],
   "source": []
  }
 ],
 "metadata": {
  "interpreter": {
   "hash": "5f3e7aff56d1e3ff51c3740fdeaebc6ed09367bf1b153882eec387d87f7f2df8"
  },
  "kernelspec": {
   "display_name": "Python 3.10.2 64-bit ('sandbox')",
   "language": "python",
   "name": "python3"
  },
  "language_info": {
   "codemirror_mode": {
    "name": "ipython",
    "version": 3
   },
   "file_extension": ".py",
   "mimetype": "text/x-python",
   "name": "python",
   "nbconvert_exporter": "python",
   "pygments_lexer": "ipython3",
   "version": "3.8.12"
  },
  "orig_nbformat": 4
 },
 "nbformat": 4,
 "nbformat_minor": 2
}
