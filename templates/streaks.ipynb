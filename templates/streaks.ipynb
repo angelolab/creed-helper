{
 "cells": [
  {
   "cell_type": "code",
   "execution_count": null,
   "metadata": {},
   "outputs": [],
   "source": [
    "import numpy as np\n",
    "from tqdm import tqdm\n",
    "\n",
    "import xarray as xr\n",
    "import glob\n",
    "from pathlib import Path\n",
    "\n",
    "\n",
    "import sys\n",
    "\n",
    "sys.path.append(\"../\")\n",
    "from toffy import streak_detection as sd\n",
    "from ark.utils import load_utils"
   ]
  },
  {
   "cell_type": "code",
   "execution_count": null,
   "metadata": {},
   "outputs": [],
   "source": [
    "data_dir = Path(\"../toffy/data/streak\")\n",
    "fovs = [fov.stem for fov in data_dir.glob(\"*//\") if \"corrected\" not in fov.stem]\n",
    "fovs"
   ]
  },
  {
   "cell_type": "code",
   "execution_count": null,
   "metadata": {},
   "outputs": [],
   "source": [
    "for fov in tqdm(fovs):\n",
    "\n",
    "    # Load fov\n",
    "    fov_data = sd.load_fov_data(data_dir=data_dir, fov=fov)\n",
    "\n",
    "    # Correct streaks\n",
    "    corrected_channels, streak_data = sd.streak_correction(\n",
    "        fov_data=fov_data, streak_channel=\"Noodle\", visualization_masks=True\n",
    "    )\n",
    "    # Save the corrected channels per fov.\n",
    "    sd.save_corrected_channels(\n",
    "        streak_data=streak_data,\n",
    "        corrected_channels=corrected_channels,\n",
    "        data_dir=data_dir,\n",
    "        save_streak_data = True\n",
    "    )\n",
    "    # Save Streak Masks\n",
    "    sd.save_streak_masks(streak_data=streak_data)\n"
   ]
  },
  {
   "cell_type": "code",
   "execution_count": null,
   "metadata": {},
   "outputs": [],
   "source": []
  }
 ],
 "metadata": {
  "interpreter": {
   "hash": "5f3e7aff56d1e3ff51c3740fdeaebc6ed09367bf1b153882eec387d87f7f2df8"
  },
  "kernelspec": {
   "display_name": "Python 3.10.2 64-bit ('sandbox')",
   "language": "python",
   "name": "python3"
  },
  "language_info": {
   "codemirror_mode": {
    "name": "ipython",
    "version": 3
   },
   "file_extension": ".py",
   "mimetype": "text/x-python",
   "name": "python",
   "nbconvert_exporter": "python",
   "pygments_lexer": "ipython3",
   "version": "3.8.12"
  },
  "orig_nbformat": 4
 },
 "nbformat": 4,
 "nbformat_minor": 2
}
