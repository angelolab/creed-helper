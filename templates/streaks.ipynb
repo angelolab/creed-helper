{
 "cells": [
  {
   "cell_type": "markdown",
   "metadata": {},
   "source": [
    "# Streak Detection and Correction\n",
    "\n",
    "## Background\n",
    "\n",
    "Occasionally, due to malfunctions caused by the instrument there are traces of horizontal steaks throughout each channel across an image. Each are one pixel in height and vary in length. These streaks are present in every channel with varying degrees of visibility. The purpose of this notebook is to utilize a suite of to remove these streaks from MIBI images.\n",
    "\n",
    "Here is what you will need to make full use of this notebook.\n",
    "\n",
    "1. A set of fovs, or just one fov with these streaks. In your tiff viewer of choice, you may need to adjust the exposure and gamma to make sure that you can see them with your own eyes. (do not save the exposure and gamma changes to the tiff image).\n",
    "2. This notebook. Potentially this will become another preprocessing step in the Rosetta pipeline however it can be ran here as well. "
   ]
  },
  {
   "cell_type": "code",
   "execution_count": 1,
   "metadata": {},
   "outputs": [],
   "source": [
    "import numpy as np\n",
    "from tqdm import tqdm\n",
    "from pathlib import Path\n",
    "from ark.utils import load_utils\n",
    "\n",
    "import sys\n",
    "sys.path.append(\"../\")\n",
    "from toffy import streak_detection as sd"
   ]
  },
  {
   "cell_type": "markdown",
   "metadata": {},
   "source": [
    "## 1. Load the FOV(s) paths\n",
    "\n",
    "Add the path to the directory containing the fovs."
   ]
  },
  {
   "cell_type": "code",
   "execution_count": null,
   "metadata": {},
   "outputs": [],
   "source": [
    "# The location of the fovs\n",
    "path_to_fovs: str = \"your/path/to/a/folder/of/fovs/\"\n",
    "data_dir = Path(path_to_fovs)\n",
    "fovs = [fov.stem for fov in data_dir.glob(\"*//\") if \"corrected\" not in fov.stem]"
   ]
  },
  {
   "cell_type": "markdown",
   "metadata": {},
   "source": [
    "## 2. Run Streak Detection + Correction\n",
    "\n",
    "1. Choose the channel you would like to use for streak detection for `streak_channel`. It defaults to **Noodle**. \n",
    "2. Choose if you would like to save the mask metadata for visualization purposes. In your tiff viewer of choice you would take the masks you wish to look at and lay them on top of the corrected image or the original image. This can be changed with the `visualization_masks` variable. It defaults to **False**."
   ]
  },
  {
   "cell_type": "code",
   "execution_count": null,
   "metadata": {},
   "outputs": [],
   "source": [
    "streak_channel = \"Noodle\"\n",
    "visualization_masks = False"
   ]
  },
  {
   "cell_type": "code",
   "execution_count": null,
   "metadata": {},
   "outputs": [],
   "source": [
    "for fov in tqdm(fovs):\n",
    "\n",
    "    # Load fov\n",
    "    fov_data = load_utils.load_imgs_from_tree(data_dir=data_dir, fovs=[fov], dtype=np.int32)\n",
    "\n",
    "    # Correct streaks\n",
    "    corrected_channels, streak_data = sd.streak_correction(\n",
    "        fov_data=fov_data, streak_channel=streak_channel, visualization_masks=visualization_masks\n",
    "    )\n",
    "\n",
    "    # Save the corrected channels per fov.\n",
    "    sd.save_corrected_channels(\n",
    "        streak_data=streak_data,\n",
    "        corrected_channels=corrected_channels,\n",
    "        data_dir=data_dir,\n",
    "        save_streak_data=True,\n",
    "    )\n"
   ]
  }
 ],
 "metadata": {
  "interpreter": {
   "hash": "5f3e7aff56d1e3ff51c3740fdeaebc6ed09367bf1b153882eec387d87f7f2df8"
  },
  "kernelspec": {
   "display_name": "Python 3.10.2 64-bit ('sandbox')",
   "language": "python",
   "name": "python3"
  },
  "language_info": {
   "codemirror_mode": {
    "name": "ipython",
    "version": 3
   },
   "file_extension": ".py",
   "mimetype": "text/x-python",
   "name": "python",
   "nbconvert_exporter": "python",
   "pygments_lexer": "ipython3",
   "version": "3.8.12"
  },
  "orig_nbformat": 4
 },
 "nbformat": 4,
 "nbformat_minor": 2
}
