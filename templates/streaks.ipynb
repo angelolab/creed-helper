{
 "cells": [
  {
   "cell_type": "code",
   "execution_count": 1,
   "metadata": {},
   "outputs": [],
   "source": [
    "%load_ext autoreload\n",
    "# %load_ext pyinstrument\n",
    "%autoreload 2"
   ]
  },
  {
   "cell_type": "code",
   "execution_count": 4,
   "metadata": {},
   "outputs": [],
   "source": [
    "import numpy as np\n",
    "from tqdm import tqdm\n",
    "\n",
    "import xarray\n",
    "import glob\n",
    "from pathlib import Path\n",
    "\n",
    "\n",
    "import sys\n",
    "sys.path.append('../')\n",
    "from toffy import streak_detection as sd"
   ]
  },
  {
   "cell_type": "code",
   "execution_count": 6,
   "metadata": {},
   "outputs": [
    {
     "name": "stderr",
     "output_type": "stream",
     "text": [
      "  0%|          | 0/3 [00:01<?, ?it/s]\n"
     ]
    },
    {
     "ename": "ValueError",
     "evalue": "Integer overflow from loading TIF image, try a larger dtype",
     "output_type": "error",
     "traceback": [
      "\u001b[0;31m---------------------------------------------------------------------------\u001b[0m",
      "\u001b[0;31mValueError\u001b[0m                                Traceback (most recent call last)",
      "\u001b[1;32m/home/srivarra/Angelo Lab/toffy/templates/streaks.ipynb Cell 3'\u001b[0m in \u001b[0;36m<cell line: 6>\u001b[0;34m()\u001b[0m\n\u001b[1;32m      <a href='vscode-notebook-cell://wsl%2Bubuntu-20.04/home/srivarra/Angelo%20Lab/toffy/templates/streaks.ipynb#ch0000002vscode-remote?line=3'>4</a>\u001b[0m streak_data \u001b[39m=\u001b[39m {}\n\u001b[1;32m      <a href='vscode-notebook-cell://wsl%2Bubuntu-20.04/home/srivarra/Angelo%20Lab/toffy/templates/streaks.ipynb#ch0000002vscode-remote?line=5'>6</a>\u001b[0m \u001b[39mfor\u001b[39;00m fov_dir \u001b[39min\u001b[39;00m tqdm(fov_dirs):\n\u001b[0;32m----> <a href='vscode-notebook-cell://wsl%2Bubuntu-20.04/home/srivarra/Angelo%20Lab/toffy/templates/streaks.ipynb#ch0000002vscode-remote?line=6'>7</a>\u001b[0m     streak_data[fov_dir\u001b[39m.\u001b[39mstem] \u001b[39m=\u001b[39m sd\u001b[39m.\u001b[39;49mstreak_correction(\n\u001b[1;32m      <a href='vscode-notebook-cell://wsl%2Bubuntu-20.04/home/srivarra/Angelo%20Lab/toffy/templates/streaks.ipynb#ch0000002vscode-remote?line=7'>8</a>\u001b[0m         fov_dir, image_name\u001b[39m=\u001b[39;49m\u001b[39m\"\u001b[39;49m\u001b[39mNoodle\u001b[39;49m\u001b[39m\"\u001b[39;49m, mask_data\u001b[39m=\u001b[39;49m\u001b[39mTrue\u001b[39;49;00m\n\u001b[1;32m      <a href='vscode-notebook-cell://wsl%2Bubuntu-20.04/home/srivarra/Angelo%20Lab/toffy/templates/streaks.ipynb#ch0000002vscode-remote?line=8'>9</a>\u001b[0m     )\n\u001b[1;32m     <a href='vscode-notebook-cell://wsl%2Bubuntu-20.04/home/srivarra/Angelo%20Lab/toffy/templates/streaks.ipynb#ch0000002vscode-remote?line=9'>10</a>\u001b[0m     streak_data[fov_dir\u001b[39m.\u001b[39mstem]\u001b[39m.\u001b[39msave_data(all_data\u001b[39m=\u001b[39m\u001b[39mTrue\u001b[39;00m)\n",
      "File \u001b[0;32m~/Angelo Lab/toffy/templates/../toffy/streak_detection.py:367\u001b[0m, in \u001b[0;36mstreak_correction\u001b[0;34m(fov_dir, image_name, mask_data)\u001b[0m\n\u001b[1;32m    <a href='file:///home/srivarra/Angelo%20Lab/toffy/templates/../toffy/streak_detection.py?line=363'>364</a>\u001b[0m streak_data \u001b[39m=\u001b[39m StreakData(streak_channel\u001b[39m=\u001b[39mimage_name)\n\u001b[1;32m    <a href='file:///home/srivarra/Angelo%20Lab/toffy/templates/../toffy/streak_detection.py?line=365'>366</a>\u001b[0m \u001b[39m# Open fov directory containing all the tiff files\u001b[39;00m\n\u001b[0;32m--> <a href='file:///home/srivarra/Angelo%20Lab/toffy/templates/../toffy/streak_detection.py?line=366'>367</a>\u001b[0m fov_data \u001b[39m=\u001b[39m load_utils\u001b[39m.\u001b[39;49mload_imgs_from_dir(data_dir\u001b[39m=\u001b[39;49mfov_dir)\n\u001b[1;32m    <a href='file:///home/srivarra/Angelo%20Lab/toffy/templates/../toffy/streak_detection.py?line=368'>369</a>\u001b[0m \u001b[39m#  Open the image for mask generation.\u001b[39;00m\n\u001b[1;32m    <a href='file:///home/srivarra/Angelo%20Lab/toffy/templates/../toffy/streak_detection.py?line=369'>370</a>\u001b[0m \u001b[39mwith\u001b[39;00m fov_data\u001b[39m.\u001b[39msel(fovs\u001b[39m=\u001b[39mimage_name) \u001b[39mas\u001b[39;00m data:\n\u001b[1;32m    <a href='file:///home/srivarra/Angelo%20Lab/toffy/templates/../toffy/streak_detection.py?line=370'>371</a>\u001b[0m     \u001b[39m# Reshape it from (x,x,1) to (x,x)\u001b[39;00m\n",
      "File \u001b[0;32m~/.pyenv/versions/3.8.12/envs/toffy/lib/python3.8/site-packages/ark/utils/load_utils.py:322\u001b[0m, in \u001b[0;36mload_imgs_from_dir\u001b[0;34m(data_dir, files, match_substring, trim_suffix, xr_dim_name, xr_channel_names, dtype, force_ints, channel_indices)\u001b[0m\n\u001b[1;32m    <a href='file:///home/srivarra/.pyenv/versions/3.8.12/envs/toffy/lib/python3.8/site-packages/ark/utils/load_utils.py?line=319'>320</a>\u001b[0m \u001b[39m# check to make sure that dtype wasn't too small for range of data\u001b[39;00m\n\u001b[1;32m    <a href='file:///home/srivarra/.pyenv/versions/3.8.12/envs/toffy/lib/python3.8/site-packages/ark/utils/load_utils.py?line=320'>321</a>\u001b[0m \u001b[39mif\u001b[39;00m np\u001b[39m.\u001b[39mmin(img_data) \u001b[39m<\u001b[39m \u001b[39m0\u001b[39m:\n\u001b[0;32m--> <a href='file:///home/srivarra/.pyenv/versions/3.8.12/envs/toffy/lib/python3.8/site-packages/ark/utils/load_utils.py?line=321'>322</a>\u001b[0m     \u001b[39mraise\u001b[39;00m \u001b[39mValueError\u001b[39;00m(\u001b[39m\"\u001b[39m\u001b[39mInteger overflow from loading TIF image, try a larger dtype\u001b[39m\u001b[39m\"\u001b[39m)\n\u001b[1;32m    <a href='file:///home/srivarra/.pyenv/versions/3.8.12/envs/toffy/lib/python3.8/site-packages/ark/utils/load_utils.py?line=323'>324</a>\u001b[0m \u001b[39mif\u001b[39;00m channels_first:\n\u001b[1;32m    <a href='file:///home/srivarra/.pyenv/versions/3.8.12/envs/toffy/lib/python3.8/site-packages/ark/utils/load_utils.py?line=324'>325</a>\u001b[0m     row_coords, col_coords \u001b[39m=\u001b[39m \u001b[39mrange\u001b[39m(test_img\u001b[39m.\u001b[39mshape[\u001b[39m1\u001b[39m]), \u001b[39mrange\u001b[39m(test_img\u001b[39m.\u001b[39mshape[\u001b[39m2\u001b[39m])\n",
      "\u001b[0;31mValueError\u001b[0m: Integer overflow from loading TIF image, try a larger dtype"
     ]
    }
   ],
   "source": [
    "fov_dirs = list(map(Path, glob.glob(\"../toffy/data/streak/*/\")))\n",
    "\n",
    "\n",
    "streak_data = {}\n",
    "\n",
    "for fov_dir in tqdm(fov_dirs):\n",
    "    streak_data[fov_dir.stem] = sd.streak_correction(\n",
    "        fov_dir, image_name=\"Noodle\", mask_data=True\n",
    "    )\n",
    "    streak_data[fov_dir.stem].save_data(all_data=True)\n"
   ]
  },
  {
   "cell_type": "code",
   "execution_count": null,
   "metadata": {},
   "outputs": [],
   "source": []
  }
 ],
 "metadata": {
  "interpreter": {
   "hash": "5f3e7aff56d1e3ff51c3740fdeaebc6ed09367bf1b153882eec387d87f7f2df8"
  },
  "kernelspec": {
   "display_name": "Python 3.10.2 64-bit ('sandbox')",
   "language": "python",
   "name": "python3"
  },
  "language_info": {
   "codemirror_mode": {
    "name": "ipython",
    "version": 3
   },
   "file_extension": ".py",
   "mimetype": "text/x-python",
   "name": "python",
   "nbconvert_exporter": "python",
   "pygments_lexer": "ipython3",
   "version": "3.8.12"
  },
  "orig_nbformat": 4
 },
 "nbformat": 4,
 "nbformat_minor": 2
}
