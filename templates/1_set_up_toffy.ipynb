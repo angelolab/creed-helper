{
 "cells": [
  {
   "cell_type": "markdown",
   "id": "ec35cb18-c771-48e6-859f-e10e074545d6",
   "metadata": {},
   "source": [
    "# Setting up toffy\n",
    "\n",
    "## This notebook is an example: create a copy before running it or you will get merge conflicts!"
   ]
  },
  {
   "cell_type": "markdown",
   "id": "e36293c5-aa89-4029-a3fa-e8ea841bb8b5",
   "metadata": {},
   "source": [
    "There are two parts to this notebook. \n",
    "1. The first part creates the necessary folders that toffy is expecting, and only needs to be run the first time you install it on a new CAC. \n",
    "2. The second part updates the co-registration parameters between the slide image (optical image) and the stage coordinates. This needs to be run anytime Ionpath changes the co-registration"
   ]
  },
  {
   "cell_type": "markdown",
   "id": "cb3f2573-2c06-4212-8abe-7fb41b83c878",
   "metadata": {},
   "source": [
    "## Create necessary folders (this part is still in development, and will be updated once we've finalized the QC scripts)"
   ]
  },
  {
   "cell_type": "code",
   "execution_count": null,
   "id": "e62bf338-873f-4c3f-a58c-6f908e6bdb24",
   "metadata": {},
   "outputs": [],
   "source": [
    "# TODO\n",
    "# folder_name = 'full_path_to_folder'\n",
    "\n",
    "# for folder in folders:\n",
    "#     if not os.path.exists(folder):\n",
    "#         os.makedirs(folder)"
   ]
  },
  {
   "cell_type": "markdown",
   "id": "edb13b4a-9589-4c2d-814c-0cae835cc255",
   "metadata": {},
   "source": [
    "## Update coregistration parameters\n",
    "In order to display the location of FOVs on the slide image, we need to map the location of pixels in the image to stage coordinates on the sldie. This notebook allows you to generate this information, which can change over time for a number of reasons. We use the ficudial marks, the dots on each side of the slide, to accomplish this. "
   ]
  },
  {
   "cell_type": "code",
   "execution_count": null,
   "id": "0d1bdc51-fe32-4a92-a5bb-f7d53628458c",
   "metadata": {},
   "outputs": [],
   "source": [
    "import sys\n",
    "sys.path.append('../')\n",
    "\n",
    "from datetime import datetime\n",
    "import json\n",
    "import numpy as np\n",
    "import os\n",
    "from sklearn.linear_model import LinearRegression\n",
    "\n",
    "from toffy import tiling_utils"
   ]
  },
  {
   "cell_type": "markdown",
   "id": "44bf4948-eebe-43a9-8e0e-a993dc8e726b",
   "metadata": {},
   "source": [
    "### Set stage and optical coordinates of the fiducials"
   ]
  },
  {
   "cell_type": "markdown",
   "id": "1d3cc736-faba-41e7-a406-ff900074d7fe",
   "metadata": {},
   "source": [
    "The code below will automatically prompt you to specify the coordinates of the top 3 fiducial pairs in both stage coordinate and corresponding optical coordinate values.\n",
    "\n",
    "For each fiducial:\n",
    "\n",
    "1: Use the pop-out window to open the slide image on the commercial instrument viewer.\n",
    "\n",
    "2: Open the developer console. Right click anywhere on the slide image, this menu should open:\n",
    "\n",
    "<div>\n",
    "    <img src=\"img/inspect_menu.png\" width=\"150\" height=\"137\"/>\n",
    "</div>\n",
    "\n",
    "\n",
    "Click `Inspect`. The developer console should appear on the right side:\n",
    "\n",
    "<div>\n",
    "    <img src=\"img/developer_console.png\" width=\"254\" height=\"240\"/>\n",
    "</div>\n",
    "\n",
    "3: In the console (above the tabs `What's New` and `Console`), type `logger.level=4` and hit `Enter`\n",
    "\n",
    "<div>\n",
    "    <img src=\"img/logger_level.png\" width=\"253\" height=\"76\"/>\n",
    "</div>\n",
    "\n",
    "\n",
    "4: Click on one of the slide image fiducials. Retrieve the stage coordinates on top of the image next to `Target Point`:\n",
    "\n",
    "<div>\n",
    "    <img src=\"img/stage_coords.png\" width=\"164\" height=\"21\"/>\n",
    "</div>\n",
    "\n",
    "\n",
    "\n",
    "Retrieve the corresponding optical coordinates from the console:\n",
    "\n",
    "<div>\n",
    "    <img src=\"img/optical_coords.png\" width=\"254\" height=\"51\"/>\n",
    "</div>\n",
    "\n",
    "\n",
    "\n",
    "5: For each fiducial, we prompt you for the stage x-coordinate, stage y-coordinate, optical x-coordinate, and optical y-coordinate values separately. Enter the correct value for the coordinate and hit `Enter` to continue.\n",
    "\n",
    "6: The co-registration parameter settings will be saved to the `toffy` folder."
   ]
  },
  {
   "cell_type": "code",
   "execution_count": null,
   "id": "64d6d2f5-ac4c-4917-a874-b8310f75f5e9",
   "metadata": {},
   "outputs": [],
   "source": [
    "fiducial_info = tiling_utils.read_fiducial_info()"
   ]
  },
  {
   "cell_type": "markdown",
   "id": "ce74c91b-86ef-4569-87ac-b8553ecb23bc",
   "metadata": {},
   "source": [
    "### Generate new co-registration parameters"
   ]
  },
  {
   "cell_type": "code",
   "execution_count": null,
   "id": "3db446dd-2575-420b-a00e-874802b7a3ee",
   "metadata": {},
   "outputs": [],
   "source": [
    "coreg_params = tiling_utils.generate_coreg_params(fiducial_info)"
   ]
  },
  {
   "cell_type": "markdown",
   "id": "7df88849-a7ba-400c-92bd-88e165a5b515",
   "metadata": {},
   "source": [
    "### Save co-registration settings"
   ]
  },
  {
   "cell_type": "code",
   "execution_count": null,
   "id": "f126bc6a-4695-4722-9d73-b9dc66bb7195",
   "metadata": {},
   "outputs": [],
   "source": [
    "tiling_utils.save_coreg_params(coreg_params)"
   ]
  }
 ],
 "metadata": {
  "kernelspec": {
   "display_name": "Python 3 (ipykernel)",
   "language": "python",
   "name": "python3"
  },
  "language_info": {
   "codemirror_mode": {
    "name": "ipython",
    "version": 3
   },
   "file_extension": ".py",
   "mimetype": "text/x-python",
   "name": "python",
   "nbconvert_exporter": "python",
   "pygments_lexer": "ipython3",
   "version": "3.8.12"
  }
 },
 "nbformat": 4,
 "nbformat_minor": 5
}
