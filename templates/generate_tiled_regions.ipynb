{
 "cells": [
  {
   "cell_type": "markdown",
   "metadata": {},
   "source": [
    "# Generate tiled region run file"
   ]
  },
  {
   "cell_type": "markdown",
   "metadata": {},
   "source": [
    "Automatically creates tiled regions of multiple contiguous FOVs based on user-provided input"
   ]
  },
  {
   "cell_type": "code",
   "execution_count": null,
   "metadata": {},
   "outputs": [],
   "source": [
    "import json\n",
    "import os\n",
    "\n",
    "from toffy import tiling_utils"
   ]
  },
  {
   "cell_type": "markdown",
   "metadata": {},
   "source": [
    "### Define paths to the JSON data"
   ]
  },
  {
   "cell_type": "markdown",
   "metadata": {},
   "source": [
    "Define the following parameters to set your home directory:\n",
    "\n",
    "* `base_dir`: the root folder, `json_tiling_data` should be placed here\n",
    "* `json_tiling_dir`: the directory containing the information to read and write the FOV info\n",
    "\n",
    "Define the prefix to use for your input and output file names:\n",
    "\n",
    "* `tiled_region_prefix`: defaults to `example_tiled_region`\n",
    "\n",
    "Define the following input and output paths (all prefixed by `tiled_region_prefix`):\n",
    "\n",
    "* `region_corners_path`: the JSON file containing the FOVs to use for tiling, each FOV in `region_corners_path` defines the top-left corner of a separate region\n",
    "* `tiled_json_path`: where to store JSON defining the tiled FOVs\n",
    "* `moly_path`: the path to the Moly point, needed if you want to insert this between FOVs"
   ]
  },
  {
   "cell_type": "code",
   "execution_count": null,
   "metadata": {},
   "outputs": [],
   "source": [
    "# define the tiling directory\n",
    "base_dir = \"data_dir\"\n",
    "json_tiling_dir = os.path.join(base_dir, \"json_tiling_data\")\n",
    "\n",
    "# define the prefix of each file\n",
    "tiled_region_prefix = 'example_tiled_region'\n",
    "\n",
    "# define the input and output files\n",
    "region_corners_path = os.path.join(json_tiling_dir, '%s_region_corners.json' % tiled_region_prefix)\n",
    "tiled_json_path = os.path.join(json_tiling_dir, '%s_fov_output.json' % tiled_region_prefix)\n",
    "moly_path = os.path.join(json_tiling_dir, '%s_moly_point.json' % tiled_region_prefix)"
   ]
  },
  {
   "cell_type": "markdown",
   "metadata": {
    "tags": []
   },
   "source": [
    "### Set tiling parameters"
   ]
  },
  {
   "cell_type": "markdown",
   "metadata": {},
   "source": [
    "The following parameters need to be defined for each region:\n",
    "\n",
    "* The FOV defining the top-left corner and its centroid (taken from `fov_list_path`, each entry indicates a different region)\n",
    "* Number of FOVs along the x- and y-axis (user prompt)\n",
    "* row- and column-axis step size (taken from the `fovSizeMicrons` field of each corner FOV in `fov_list_path`, same for row and column)\n",
    "* Whether to randomize the order of the FOVs or not (user prompt)\n",
    "* Whether to insert Moly points between regions (user prompt)\n",
    "* Whether to insert Moly points between FOVs at a specified interval (user prompt). Refer to this link for how Moly point insertion works: https://ark-analysis.readthedocs.io/en/latest/_markdown/ark.mibi.html#ark.mibi.tiling_utils.tiled_region_generate_fov_list"
   ]
  },
  {
   "cell_type": "code",
   "execution_count": null,
   "metadata": {},
   "outputs": [],
   "source": [
    "tiling_params = tiling_utils.set_tiled_region_params(region_corners_path)"
   ]
  },
  {
   "cell_type": "markdown",
   "metadata": {},
   "source": [
    "### Create the FOVs for each region"
   ]
  },
  {
   "cell_type": "markdown",
   "metadata": {},
   "source": [
    "FOV names correspond to their row and column position on the grid of FOVs and are 1-indexed. For example, `R1C1` means the FOV is in row 1 and column 1, `R2C1` would be the next FOV down, and `R1C2` would be the next FOV to the right. The top left FOV is `R1C1`, the bottom right FOV would be `R4C5` for a tiled region of 4x5 dimensions. "
   ]
  },
  {
   "cell_type": "code",
   "execution_count": null,
   "metadata": {},
   "outputs": [],
   "source": [
    "# generate the FOVs in each region\n",
    "fov_regions = tiling_utils.generate_tiled_region_fov_list(\n",
    "    tiling_params,\n",
    "    moly_path\n",
    ")"
   ]
  },
  {
   "cell_type": "code",
   "execution_count": null,
   "metadata": {},
   "outputs": [],
   "source": [
    "# write the tiled output\n",
    "with open(tiled_json_path, 'w', encoding='utf-8') as fop:\n",
    "    json.dump(fov_regions, fop)"
   ]
  }
 ],
 "metadata": {
  "kernelspec": {
   "display_name": "Python 3 (ipykernel)",
   "language": "python",
   "name": "python3"
  },
  "language_info": {
   "codemirror_mode": {
    "name": "ipython",
    "version": 3
   },
   "file_extension": ".py",
   "mimetype": "text/x-python",
   "name": "python",
   "nbconvert_exporter": "python",
   "pygments_lexer": "ipython3",
   "version": "3.8.12"
  }
 },
 "nbformat": 4,
 "nbformat_minor": 4
}
