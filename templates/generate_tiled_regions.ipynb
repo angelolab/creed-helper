{
 "cells": [
  {
   "cell_type": "markdown",
   "metadata": {},
   "source": [
    "# Generate tiled region run file"
   ]
  },
  {
   "cell_type": "markdown",
   "metadata": {},
   "source": [
    "Automatically creates tiled regions of multiple contiguous FOVs based on user-provided input"
   ]
  },
  {
   "cell_type": "code",
   "execution_count": 1,
   "metadata": {},
   "outputs": [],
   "source": [
    "import sys\n",
    "sys.path.append('../')"
   ]
  },
  {
   "cell_type": "code",
   "execution_count": 2,
   "metadata": {},
   "outputs": [],
   "source": [
    "import json\n",
    "import os\n",
    "from skimage.io import imread\n",
    "\n",
    "from toffy import tiling_utils\n",
    "\n",
    "# suppress mpl deprecation\n",
    "import warnings\n",
    "from matplotlib.cbook import mplDeprecation\n",
    "warnings.filterwarnings(\"ignore\", category=mplDeprecation)"
   ]
  },
  {
   "cell_type": "markdown",
   "metadata": {},
   "source": [
    "### Define paths to the JSON data"
   ]
  },
  {
   "cell_type": "markdown",
   "metadata": {},
   "source": [
    "Define the following parameters to set your home directory:\n",
    "\n",
    "* `base_dir`: the root folder, `json_tiling_data` should be placed here\n",
    "* `json_tiling_dir`: the directory containing the information to read and write the FOV info\n",
    "\n",
    "Define the following input and output paths:\n",
    "\n",
    "* `region_corners_path`: the JSON file containing the FOVs defining the top-left corner of each region\n",
    "* `tiled_region_fovs_path`: where to store JSON defining the FOVs for each tiled region\n",
    "* `moly_path`: the path to the Moly point, needed if you want to insert between FOVs"
   ]
  },
  {
   "cell_type": "code",
   "execution_count": 3,
   "metadata": {},
   "outputs": [],
   "source": [
    "# define the tiling directory\n",
    "base_dir = \"../creed/data_dir\"\n",
    "json_tiling_dir = os.path.join(base_dir, \"json_tiling_data\")\n",
    "\n",
    "# define the prefix of each file\n",
    "# tma_prefix = \"example_tiled_region\"\n",
    "tma_prefix = \"example_tma\"\n",
    "\n",
    "# define the slide path\n",
    "slide_path = os.path.join(json_tiling_dir, \"%s_slide.png\" % tma_prefix)"
   ]
  },
  {
   "cell_type": "code",
   "execution_count": 4,
   "metadata": {},
   "outputs": [],
   "source": [
    "# define the input and output files\n",
    "region_corners_path = os.path.join(json_tiling_dir, 'region_corners.json')\n",
    "tiled_region_fovs_path = os.path.splitext(region_corners_path)[0] + '_tiled_fovs.json'\n",
    "moly_path = os.path.join(json_tiling_dir, '%s_moly_point.json' % tma_prefix)\n",
    "mapping_path = os.path.join(json_tiling_dir, \"sample_tiled_region_mapping.json\")"
   ]
  },
  {
   "cell_type": "markdown",
   "metadata": {
    "tags": []
   },
   "source": [
    "### Set tiling parameters"
   ]
  },
  {
   "cell_type": "markdown",
   "metadata": {},
   "source": [
    "The following parameters need to be defined for each region:\n",
    "\n",
    "* The FOV defining the top-left corner with its centroid (taken from `region_corners_path`, each entry indicates a different region)\n",
    "* Number of FOVs along the row and column axes (user prompt)\n",
    "* row- and column-axis step size (taken from the `fovSizeMicrons` field of each corner FOV in `region_corners_path`, same for row and column)\n",
    "* Whether to randomize the order of the FOVs or not (user prompt)\n",
    "* Whether to insert Moly points between regions (user prompt)\n",
    "* Whether to insert Moly points between FOVs at a specified interval (user prompt). Refer to this link for how Moly point insertion works: https://ark-analysis.readthedocs.io/en/latest/_markdown/ark.mibi.html#ark.mibi.tiling_utils.tiled_region_generate_fov_list"
   ]
  },
  {
   "cell_type": "code",
   "execution_count": 5,
   "metadata": {},
   "outputs": [
    {
     "name": "stdout",
     "output_type": "stream",
     "text": [
      "Using start coordinates of (10000, 45000) in microns for region TheFirst\n",
      "Using FOV step size of 1000 microns for both row (y) and column (x) axis of region TheFirst\n"
     ]
    },
    {
     "name": "stdin",
     "output_type": "stream",
     "text": [
      "Enter the number of FOVs per row for region TheFirst:  3\n",
      "Enter the number of FOVs per column for region TheFirst:  4\n",
      "Randomize FOVs for region TheFirst? Y/N:  N\n"
     ]
    },
    {
     "name": "stdout",
     "output_type": "stream",
     "text": [
      "Using start coordinates of (17500, 30000) in microns for region TheSecond\n",
      "Using FOV step size of 2000 microns for both row (y) and column (x) axis of region TheSecond\n"
     ]
    },
    {
     "name": "stdin",
     "output_type": "stream",
     "text": [
      "Enter the number of FOVs per row for region TheSecond:  4\n",
      "Enter the number of FOVs per column for region TheSecond:  3\n",
      "Randomize FOVs for region TheSecond? Y/N:  N\n",
      "Insert a moly point between each tiled region? Y/N:  N\n",
      "Enter the FOV interval size to insert Moly points. If yes, enter the number of FOVs between each Moly point. If no, enter 0:  0\n"
     ]
    }
   ],
   "source": [
    "tiling_params = tiling_utils.set_tiled_region_params(region_corners_path)"
   ]
  },
  {
   "cell_type": "markdown",
   "metadata": {},
   "source": [
    "### Create the FOVs for each region"
   ]
  },
  {
   "cell_type": "markdown",
   "metadata": {},
   "source": [
    "FOV names correspond to their row and column position on the grid of FOVs and are 1-indexed. For example, `R1C1` means the FOV is in row 1 and column 1, `R2C1` would be the next FOV down, and `R1C2` would be the next FOV to the right. The top left FOV is `R1C1`, the bottom right FOV would be `R4C5` for a tiled region of 4x5 dimensions. "
   ]
  },
  {
   "cell_type": "code",
   "execution_count": 6,
   "metadata": {},
   "outputs": [],
   "source": [
    "# generate the FOVs in each region\n",
    "tiled_region_fovs = tiling_utils.generate_tiled_region_fov_list(\n",
    "    tiling_params,\n",
    "    moly_path\n",
    ")"
   ]
  },
  {
   "cell_type": "markdown",
   "metadata": {},
   "source": [
    "### Interactive FOV deselection"
   ]
  },
  {
   "cell_type": "code",
   "execution_count": 7,
   "metadata": {},
   "outputs": [],
   "source": [
    "# read the slide image in\n",
    "slide_data = imread(slide_path)"
   ]
  },
  {
   "cell_type": "code",
   "execution_count": 8,
   "metadata": {},
   "outputs": [
    {
     "data": {
      "application/vnd.jupyter.widget-view+json": {
       "model_id": "2e1e438a0e564a0586c341731dabdd28",
       "version_major": 2,
       "version_minor": 0
      },
      "text/plain": [
       "Canvas(toolbar=Toolbar(toolitems=[('Home', 'Reset original view', 'home', 'home'), ('Back', 'Back to  previous…"
      ]
     },
     "metadata": {},
     "output_type": "display_data"
    },
    {
     "name": "stdout",
     "output_type": "stream",
     "text": [
      "About to iterate over all FOVs\n",
      "Drawing for FOV TheFirst_R1C1\n",
      "(457, 537)\n",
      "(472, 537)\n",
      "(457, 551)\n",
      "14\n",
      "15\n",
      "Drawing for FOV TheFirst_R2C1\n",
      "(472, 537)\n",
      "(487, 537)\n",
      "(472, 551)\n",
      "14\n",
      "15\n",
      "Drawing for FOV TheFirst_R3C1\n",
      "(487, 537)\n",
      "(501, 537)\n",
      "(487, 551)\n",
      "14\n",
      "14\n",
      "Drawing for FOV TheFirst_R4C1\n",
      "(501, 537)\n",
      "(516, 537)\n",
      "(501, 551)\n",
      "14\n",
      "15\n",
      "Drawing for FOV TheFirst_R1C2\n",
      "(457, 551)\n",
      "(472, 551)\n",
      "(457, 566)\n",
      "15\n",
      "15\n",
      "Drawing for FOV TheFirst_R2C2\n",
      "(472, 551)\n",
      "(487, 551)\n",
      "(472, 566)\n",
      "15\n",
      "15\n",
      "Drawing for FOV TheFirst_R3C2\n",
      "(487, 551)\n",
      "(501, 551)\n",
      "(487, 566)\n",
      "15\n",
      "14\n",
      "Drawing for FOV TheFirst_R4C2\n",
      "(501, 551)\n",
      "(516, 551)\n",
      "(501, 566)\n",
      "15\n",
      "15\n",
      "Drawing for FOV TheFirst_R1C3\n",
      "(457, 566)\n",
      "(472, 566)\n",
      "(457, 580)\n",
      "14\n",
      "15\n",
      "Drawing for FOV TheFirst_R2C3\n",
      "(472, 566)\n",
      "(487, 566)\n",
      "(472, 580)\n",
      "14\n",
      "15\n",
      "Drawing for FOV TheFirst_R3C3\n",
      "(487, 566)\n",
      "(501, 566)\n",
      "(487, 580)\n",
      "14\n",
      "14\n",
      "Drawing for FOV TheFirst_R4C3\n",
      "(501, 566)\n",
      "(516, 566)\n",
      "(501, 580)\n",
      "14\n",
      "15\n",
      "Drawing for FOV TheSecond_R1C1\n",
      "(670, 638)\n",
      "(700, 638)\n",
      "(670, 667)\n",
      "29\n",
      "30\n",
      "Drawing for FOV TheSecond_R2C1\n",
      "(700, 638)\n",
      "(729, 638)\n",
      "(700, 667)\n",
      "29\n",
      "29\n",
      "Drawing for FOV TheSecond_R3C1\n",
      "(729, 638)\n",
      "(759, 638)\n",
      "(729, 667)\n",
      "29\n",
      "30\n",
      "Drawing for FOV TheSecond_R1C2\n",
      "(670, 667)\n",
      "(700, 667)\n",
      "(670, 696)\n",
      "29\n",
      "30\n",
      "Drawing for FOV TheSecond_R2C2\n",
      "(700, 667)\n",
      "(729, 667)\n",
      "(700, 696)\n",
      "29\n",
      "29\n",
      "Drawing for FOV TheSecond_R3C2\n",
      "(729, 667)\n",
      "(759, 667)\n",
      "(729, 696)\n",
      "29\n",
      "30\n",
      "Drawing for FOV TheSecond_R1C3\n",
      "(670, 696)\n",
      "(700, 696)\n",
      "(670, 726)\n",
      "30\n",
      "30\n",
      "Drawing for FOV TheSecond_R2C3\n",
      "(700, 696)\n",
      "(729, 696)\n",
      "(700, 726)\n",
      "30\n",
      "29\n",
      "Drawing for FOV TheSecond_R3C3\n",
      "(729, 696)\n",
      "(759, 696)\n",
      "(729, 726)\n",
      "30\n",
      "30\n",
      "Drawing for FOV TheSecond_R1C4\n",
      "(670, 726)\n",
      "(700, 726)\n",
      "(670, 755)\n",
      "29\n",
      "30\n",
      "Drawing for FOV TheSecond_R2C4\n",
      "(700, 726)\n",
      "(729, 726)\n",
      "(700, 755)\n",
      "29\n",
      "29\n",
      "Drawing for FOV TheSecond_R3C4\n",
      "(729, 726)\n",
      "(759, 726)\n",
      "(729, 755)\n",
      "29\n",
      "30\n"
     ]
    }
   ],
   "source": [
    "%matplotlib widget\n",
    "tiling_utils.tiled_region_interactive_remap(\n",
    "    tiled_region_fovs,\n",
    "    tiling_params,\n",
    "    slide_data,\n",
    "    mapping_path,\n",
    "    figsize=(7, 7)\n",
    ")"
   ]
  },
  {
   "cell_type": "code",
   "execution_count": 9,
   "metadata": {},
   "outputs": [],
   "source": [
    "# # write the tiled output\n",
    "# with open(tiled_region_fovs_path, 'w', encoding='utf-8') as trfp:\n",
    "#     json.dump(tiled_region_fovs, trfp)"
   ]
  }
 ],
 "metadata": {
  "kernelspec": {
   "display_name": "Python 3 (ipykernel)",
   "language": "python",
   "name": "python3"
  },
  "language_info": {
   "codemirror_mode": {
    "name": "ipython",
    "version": 3
   },
   "file_extension": ".py",
   "mimetype": "text/x-python",
   "name": "python",
   "nbconvert_exporter": "python",
   "pygments_lexer": "ipython3",
   "version": "3.8.12"
  }
 },
 "nbformat": 4,
 "nbformat_minor": 4
}
