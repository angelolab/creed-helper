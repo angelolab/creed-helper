{
 "cells": [
  {
   "cell_type": "markdown",
   "metadata": {},
   "source": [
    "# Generate tiled region run file"
   ]
  },
  {
   "cell_type": "markdown",
   "metadata": {},
   "source": [
    "Automatically creates tiled regions of multiple contiguous FOVs based on user-provided input"
   ]
  },
  {
   "cell_type": "code",
   "execution_count": 1,
   "metadata": {},
   "outputs": [],
   "source": [
    "import sys\n",
    "sys.path.append('../')"
   ]
  },
  {
   "cell_type": "code",
   "execution_count": 2,
   "metadata": {},
   "outputs": [],
   "source": [
    "import json\n",
    "import os\n",
    "from skimage.io import imread\n",
    "\n",
    "from toffy import tiling_utils\n",
    "\n",
    "# suppress mpl deprecation\n",
    "import warnings\n",
    "from matplotlib.cbook import mplDeprecation\n",
    "warnings.filterwarnings(\"ignore\", category=mplDeprecation)"
   ]
  },
  {
   "cell_type": "markdown",
   "metadata": {},
   "source": [
    "### Define paths to the JSON data"
   ]
  },
  {
   "cell_type": "markdown",
   "metadata": {},
   "source": [
    "Define the following parameters to set your home directory:\n",
    "\n",
    "* `base_dir`: the root folder, `json_tiling_data` should be placed here\n",
    "* `json_tiling_dir`: the directory containing the information to read and write the FOV info\n",
    "\n",
    "Define the following input and output paths:\n",
    "\n",
    "* `region_corners_path`: the JSON file containing the FOVs defining the top-left corner of each region\n",
    "* `tiled_region_fovs_path`: where to store JSON defining the FOVs for each tiled region\n",
    "* `moly_path`: the path to the Moly point, needed if you want to insert between FOVs"
   ]
  },
  {
   "cell_type": "code",
   "execution_count": 3,
   "metadata": {},
   "outputs": [],
   "source": [
    "# define the tiling directory\n",
    "base_dir = \"../creed/data_dir\"\n",
    "json_tiling_dir = os.path.join(base_dir, \"json_tiling_data\")\n",
    "\n",
    "# define the prefix of each file\n",
    "# tma_prefix = \"example_tiled_region\"\n",
    "tma_prefix = \"example_tma\"\n",
    "\n",
    "# define the slide path\n",
    "slide_path = os.path.join(json_tiling_dir, \"%s_slide.png\" % tma_prefix)"
   ]
  },
  {
   "cell_type": "code",
   "execution_count": 4,
   "metadata": {},
   "outputs": [],
   "source": [
    "# define the input and output files\n",
    "region_corners_path = os.path.join(json_tiling_dir, 'region_corners.json')\n",
    "tiled_region_fovs_path = os.path.splitext(region_corners_path)[0] + '_tiled_fovs.json'\n",
    "moly_path = os.path.join(json_tiling_dir, '%s_moly_point.json' % tma_prefix)\n",
    "tiled_region_path = os.path.join(json_tiling_dir, \"sample_tiled_region_mapping.json\")"
   ]
  },
  {
   "cell_type": "markdown",
   "metadata": {
    "tags": []
   },
   "source": [
    "### Set tiling parameters"
   ]
  },
  {
   "cell_type": "markdown",
   "metadata": {},
   "source": [
    "The following parameters need to be defined for each region:\n",
    "\n",
    "* The FOV defining the top-left corner with its centroid (taken from `region_corners_path`, each entry indicates a different region)\n",
    "* Number of FOVs along the row and column axes (user prompt)\n",
    "* row- and column-axis step size (taken from the `fovSizeMicrons` field of each corner FOV in `region_corners_path`, same for row and column)\n",
    "* Whether to randomize the order of the FOVs or not (user prompt)\n",
    "* Whether to insert Moly points between regions (user prompt)\n",
    "* Whether to insert Moly points between FOVs at a specified interval (user prompt). Refer to this link for how Moly point insertion works: https://ark-analysis.readthedocs.io/en/latest/_markdown/ark.mibi.html#ark.mibi.tiling_utils.tiled_region_generate_fov_list"
   ]
  },
  {
   "cell_type": "code",
   "execution_count": 5,
   "metadata": {},
   "outputs": [
    {
     "name": "stdout",
     "output_type": "stream",
     "text": [
      "Using start coordinates of (6979, 46554) in stage microns for region TheFirst\n",
      "Using FOV step size of 2500 microns for both row (y) and column (x) axis of region TheFirst\n"
     ]
    },
    {
     "name": "stdin",
     "output_type": "stream",
     "text": [
      "Enter the number of FOVs per row for region TheFirst:  3\n",
      "Enter the number of FOVs per column for region TheFirst:  4\n",
      "Randomize FOVs for region TheFirst? Y/N:  Y\n"
     ]
    },
    {
     "name": "stdout",
     "output_type": "stream",
     "text": [
      "Using start coordinates of (17448, 19448) in stage microns for region TheSecond\n",
      "Using FOV step size of 4000 microns for both row (y) and column (x) axis of region TheSecond\n"
     ]
    },
    {
     "name": "stdin",
     "output_type": "stream",
     "text": [
      "Enter the number of FOVs per row for region TheSecond:  4\n",
      "Enter the number of FOVs per column for region TheSecond:  3\n",
      "Randomize FOVs for region TheSecond? Y/N:  Y\n",
      "Insert a moly point between each tiled region? Y/N:  Y\n",
      "Enter the FOV interval size to insert Moly points. If yes, enter the number of FOVs between each Moly point. If no, enter 0:  3\n"
     ]
    }
   ],
   "source": [
    "# original coordinates:\n",
    "# TheFirst: (10000, 45000)\n",
    "# TheSecond: (17500, 30000)\n",
    "tiling_params = tiling_utils.set_tiled_region_params(region_corners_path)"
   ]
  },
  {
   "cell_type": "markdown",
   "metadata": {},
   "source": [
    "### Create the FOVs for each region"
   ]
  },
  {
   "cell_type": "markdown",
   "metadata": {},
   "source": [
    "FOV names correspond to their row and column position on the grid of FOVs and are 1-indexed. For example, `R1C1` means the FOV is in row 1 and column 1, `R2C1` would be the next FOV down, and `R1C2` would be the next FOV to the right. The top left FOV is `R1C1`, the bottom right FOV would be `R4C5` for a tiled region of 4x5 dimensions. "
   ]
  },
  {
   "cell_type": "code",
   "execution_count": 6,
   "metadata": {},
   "outputs": [],
   "source": [
    "# generate the FOVs in each region\n",
    "tiled_region_fovs = tiling_utils.generate_tiled_region_fov_list(\n",
    "    tiling_params,\n",
    "    moly_path\n",
    ")"
   ]
  },
  {
   "cell_type": "markdown",
   "metadata": {},
   "source": [
    "### Interactive FOV deselection"
   ]
  },
  {
   "cell_type": "code",
   "execution_count": 7,
   "metadata": {},
   "outputs": [],
   "source": [
    "# read the slide image in\n",
    "slide_data = imread(slide_path)"
   ]
  },
  {
   "cell_type": "code",
   "execution_count": 9,
   "metadata": {},
   "outputs": [
    {
     "data": {
      "application/vnd.jupyter.widget-view+json": {
       "model_id": "cd4cbd00c34f4cefb7161c98203771dd",
       "version_major": 2,
       "version_minor": 0
      },
      "text/plain": [
       "HBox(children=(Button(description='Delete selected FOVs', layout=Layout(width='auto'), style=ButtonStyle()), B…"
      ]
     },
     "metadata": {},
     "output_type": "display_data"
    },
    {
     "data": {
      "application/vnd.jupyter.widget-view+json": {
       "model_id": "258c3fd9682e451385bdb7a3565b640c",
       "version_major": 2,
       "version_minor": 0
      },
      "text/plain": [
       "Canvas(toolbar=Toolbar(toolitems=[('Home', 'Reset original view', 'home', 'home'), ('Back', 'Back to  previous…"
      ]
     },
     "metadata": {},
     "output_type": "display_data"
    },
    {
     "data": {
      "application/vnd.jupyter.widget-view+json": {
       "model_id": "9ba26a20b70b4675bd681321f2cdbe0f",
       "version_major": 2,
       "version_minor": 0
      },
      "text/plain": [
       "Output()"
      ]
     },
     "metadata": {},
     "output_type": "display_data"
    }
   ],
   "source": [
    "%matplotlib widget\n",
    "_ = tiling_utils.tiled_region_interactive_remap(\n",
    "    tiled_region_fovs,\n",
    "    tiling_params,\n",
    "    slide_data,\n",
    "    tiled_region_path,\n",
    "    figsize=(7, 7)\n",
    ")"
   ]
  }
 ],
 "metadata": {
  "kernelspec": {
   "display_name": "Python 3 (ipykernel)",
   "language": "python",
   "name": "python3"
  },
  "language_info": {
   "codemirror_mode": {
    "name": "ipython",
    "version": 3
   },
   "file_extension": ".py",
   "mimetype": "text/x-python",
   "name": "python",
   "nbconvert_exporter": "python",
   "pygments_lexer": "ipython3",
   "version": "3.8.12"
  }
 },
 "nbformat": 4,
 "nbformat_minor": 4
}
