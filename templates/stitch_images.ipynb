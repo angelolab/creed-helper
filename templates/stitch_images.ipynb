{
 "cells": [
  {
   "cell_type": "markdown",
   "id": "7b16dace",
   "metadata": {},
   "source": [
    "# Stitch Images Notebook\n",
    "\n",
    "This notebook allows you to stitch all images together for a specific channel. If you have not already extracted your images, please run notebook 3b_extract_images_from_bin."
   ]
  },
  {
   "cell_type": "code",
   "execution_count": 19,
   "id": "d09f9697",
   "metadata": {},
   "outputs": [],
   "source": [
    "import sys\n",
    "sys.path.append('../')"
   ]
  },
  {
   "cell_type": "code",
   "execution_count": 20,
   "id": "e13c18f8",
   "metadata": {},
   "outputs": [],
   "source": [
    "import os\n",
    "from toffy.image_stitching import stitch_images"
   ]
  },
  {
   "cell_type": "code",
   "execution_count": 5,
   "id": "83ffed12",
   "metadata": {},
   "outputs": [],
   "source": [
    "# the name of the run\n",
    "run_name = 'YYYY-MM-DD_run_name'\n",
    "\n",
    "# path to directory containing extracted files\n",
    "extraction_dir = os.path.join('D:\\\\Extracted_Images', run_name)    \n",
    "if not os.path.exists(extraction_dir):\n",
    "    os.makedirs(extraction_dir)"
   ]
  },
  {
   "cell_type": "markdown",
   "id": "00c9a15f",
   "metadata": {},
   "source": [
    "## Stitch Images\n",
    "If `channel_list` is left as none, all channels will have a stitched tiff generated. "
   ]
  },
  {
   "cell_type": "code",
   "execution_count": 18,
   "id": "c71b389f",
   "metadata": {},
   "outputs": [],
   "source": [
    "channel_list = None\n",
    "size = 2048\n",
    "cols = 7\n",
    "\n",
    "stitch_images(extraction_dir, channels=channel_list, max_img_size=size, num_cols=cols)"
   ]
  }
 ],
 "metadata": {
  "kernelspec": {
   "display_name": "toffy_env",
   "language": "python",
   "name": "toffy_env"
  },
  "language_info": {
   "codemirror_mode": {
    "name": "ipython",
    "version": 3
   },
   "file_extension": ".py",
   "mimetype": "text/x-python",
   "name": "python",
   "nbconvert_exporter": "python",
   "pygments_lexer": "ipython3",
   "version": "3.8.13"
  }
 },
 "nbformat": 4,
 "nbformat_minor": 5
}
