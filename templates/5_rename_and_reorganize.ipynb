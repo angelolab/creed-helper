{
 "cells": [
  {
   "cell_type": "markdown",
   "id": "ed3314da-20ad-4047-a2bd-be6822b232f8",
   "metadata": {},
   "source": [
    "# Reorganization Notebook"
   ]
  },
  {
   "cell_type": "markdown",
   "id": "4ac4b924-61db-462f-8882-e33f5b9ea3fc",
   "metadata": {},
   "source": [
    "The purpose of this notebook is to organize your image data following processing so that it is ready to be analyzed. \n",
    "\n",
    "**This entails three steps:**\n",
    "\n",
    "**1. Renaming each image folder to have the user-supplied name, rather than fov-x-scan-y.**\n",
    "\n",
    "**2. Combining directories together that represent the same sample/tma/run, that may have been created due to restarts or crashes.**\n",
    "\n",
    "**3. Creating a single cohort directory of images.**"
   ]
  },
  {
   "cell_type": "code",
   "execution_count": null,
   "id": "2d296e1d-bce7-43d9-b758-ece92f9fa0d9",
   "metadata": {},
   "outputs": [],
   "source": [
    "import sys\n",
    "sys.path.append('../')\n",
    "\n",
    "import os\n",
    "import shutil\n",
    "\n",
    "from toffy import reorg\n",
    "from tmi.io_utils import list_folders"
   ]
  },
  {
   "cell_type": "markdown",
   "id": "991c1203",
   "metadata": {},
   "source": [
    "Everything necessary for and subsequently outputted from this notebook is stored in the automatic directories established in `1_set_up_toffy.ipynb`. More information on the uses and locations of the directories in toffy can be found in the [README](https://github.com/angelolab/toffy#directory-structure)."
   ]
  },
  {
   "cell_type": "code",
   "execution_count": null,
   "id": "ae1a1bfd-d4ad-480a-b63c-b13336eb426c",
   "metadata": {},
   "outputs": [],
   "source": [
    "# define base file paths\n",
    "bin_base_dir = 'D:\\\\Data'\n",
    "processed_base_dir = 'D:\\\\Normalized_Images'\n",
    "cohort_image_dir = 'D:\\\\Cohorts'"
   ]
  },
  {
   "cell_type": "markdown",
   "id": "688f2301-884c-4a91-b169-4abd6b81bf1d",
   "metadata": {},
   "source": [
    "## 1. Renaming FOVs \n",
    "First, you will need to specify the names of relevant folders.\n",
    "\n",
    "- `cohort_name`: new name for the folder that will hold all of the formatted, ready to analyze tifs\n",
    "- `run_names`: list of names of the runs in your cohort"
   ]
  },
  {
   "cell_type": "code",
   "execution_count": null,
   "id": "6e5ba9a2-659b-494d-a320-1045751a5a96",
   "metadata": {},
   "outputs": [],
   "source": [
    "cohort_name = '20220101_new_cohort'\n",
    "\n",
    "# list the runs here that belong to your cohort\n",
    "run_names = ['20220101_TMA1', '20220102_TMA2']\n",
    "\n",
    "# or get all of the runs from the processed image folder\n",
    "# run_names = list_folders(processed_image_dir)"
   ]
  },
  {
   "cell_type": "code",
   "execution_count": null,
   "id": "8838d3c0-05dc-4ff3-a1a1-65a5c237db47",
   "metadata": {},
   "outputs": [],
   "source": [
    "cohort_path = os.path.join(cohort_image_dir, cohort_name)\n",
    "if not os.path.exists(cohort_path):\n",
    "    os.makedirs(cohort_path)"
   ]
  },
  {
   "cell_type": "markdown",
   "id": "d7d04f41-f2df-4d79-a92a-cfb3b318555e",
   "metadata": {},
   "source": [
    "Now we'll rename all of the FOVs within each of your runs so that they have the original name you gave them on the MIBI. For example, fov-1-scan-1 might be renamed patient_1_region_1, etc. "
   ]
  },
  {
   "cell_type": "code",
   "execution_count": null,
   "id": "8740db9f-2154-415c-99b0-4d33e7a6dcd9",
   "metadata": {},
   "outputs": [],
   "source": [
    "# rename FOVs in each of the runs in run_names\n",
    "reorg.rename_fovs_in_cohort(run_names=run_names, processed_base_dir=processed_base_dir, cohort_path=cohort_path,\n",
    "                            bin_base_dir=bin_base_dir)"
   ]
  },
  {
   "cell_type": "markdown",
   "id": "555872f2-04f1-476d-8a7e-bd5db2c95e8f",
   "metadata": {},
   "source": [
    "## 2. Combining Partial Runs\n",
    "If you have multiple runs that you would like combined together, such as 20220101_TMA1_part1 and 20220102_TMA1_part2, the cells below will automate that process. If you already have one run per experiment, this section can be skipped.\n",
    "- `run_string`: a string that is present in all of the runs you want combined together"
   ]
  },
  {
   "cell_type": "code",
   "execution_count": null,
   "id": "d6022f8b-2a3d-4e89-ba9f-10d5a345dde3",
   "metadata": {},
   "outputs": [],
   "source": [
    "# check the output of this cell to make sure you are only combining together the right folders\n",
    "run_string = 'TMA1'\n",
    "\n",
    "folders = list_folders(cohort_path, run_string)\n",
    "print(\"You selected the following subfolders: make sure all of these should be combined together {}\".format(folders))"
   ]
  },
  {
   "cell_type": "markdown",
   "id": "06566587-1007-4157-b647-df0deb0f92e8",
   "metadata": {},
   "source": [
    "Once you've verified that the correct runs are being combined together, you can run the next cell. \n",
    "\n",
    "**Note:** The function below will raise a warning if there are FOVs listed in the JSON run file that are not present in the folder. There are valid reasons that this may have happened, and it won't impact downstream analyses. **However, this provides an opportunity to double check to make sure these ommitted FOVs were intentionally left out.**"
   ]
  },
  {
   "cell_type": "code",
   "execution_count": null,
   "id": "faaf98cb-35d7-4add-b0a9-d8685534971f",
   "metadata": {},
   "outputs": [],
   "source": [
    "reorg.merge_partial_runs(cohort_dir=cohort_path, run_string=run_string)"
   ]
  },
  {
   "cell_type": "markdown",
   "id": "49e6d31c-f1e5-4757-ac25-356bbcd3d88f",
   "metadata": {},
   "source": [
    "**The two two cells above can be re-run multiple times to combine different runs together.**"
   ]
  },
  {
   "cell_type": "markdown",
   "id": "24477527-6099-43e7-9046-486cda61968b",
   "metadata": {
    "tags": []
   },
   "source": [
    "## 3. Creating a Single Cohort\n",
    "Once all of the FOVs within each folder have been renamed and all of the partial runs have been combined together, you can now get rid of the run structure and create a single cohort directory of FOVS. The function below will combine all of the FOVs within each of your distinct runs into a single directory with the run name prepended. \n",
    "\n",
    "**For example, if you have a structure like this:**\n",
    "\n",
    "*  20220101_run_1\n",
    "    *  tonsil_1\n",
    "    *  tonsil_2\n",
    "*  20220102_run_2\n",
    "    *  lymph_1\n",
    "    *  spleen_2\n",
    "\n",
    "**It will get merged into something that looks like this:**\n",
    "* image_data\n",
    "    *  20220101_run_1_tonsil_1\n",
    "    *  20220101_run_1_tonsil_2\n",
    "    *  20220102_run_2_lymph_1\n",
    "    *  20220102_run_2_spleen_2\n",
    "\n",
    "**This is not required; if you plan on processing each run separately, such as for tiled images, you can skip this step. However, if you will be doing all of your analysis at the individual FOV level, this will simplify the downstream steps.**"
   ]
  },
  {
   "cell_type": "code",
   "execution_count": null,
   "id": "41842a09-46e9-4d8d-873c-cac22fc67cdb",
   "metadata": {},
   "outputs": [],
   "source": [
    "reorg.combine_runs(cohort_dir=cohort_path)"
   ]
  }
 ],
 "metadata": {
  "kernelspec": {
   "display_name": "Python 3 (ipykernel)",
   "language": "python",
   "name": "python3"
  },
  "language_info": {
   "codemirror_mode": {
    "name": "ipython",
    "version": 3
   },
   "file_extension": ".py",
   "mimetype": "text/x-python",
   "name": "python",
   "nbconvert_exporter": "python",
   "pygments_lexer": "ipython3",
   "version": "3.8.13"
  }
 },
 "nbformat": 4,
 "nbformat_minor": 5
}
