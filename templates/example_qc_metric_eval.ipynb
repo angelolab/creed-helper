{
 "cells": [
  {
   "cell_type": "code",
   "execution_count": null,
   "id": "9ec6c826",
   "metadata": {
    "tags": [
     "import"
    ]
   },
   "outputs": [],
   "source": [
    "import sys\n",
    "sys.path.append('../')"
   ]
  },
  {
   "cell_type": "code",
   "execution_count": null,
   "id": "43a25f98-63fc-461d-81fb-4e0efb6aca4e",
   "metadata": {},
   "outputs": [],
   "source": [
    "from datetime import datetime as dt\n",
    "import os\n",
    "import pandas as pd\n",
    "\n",
    "from mibi_bin_tools import bin_files\n",
    "from toffy import qc_comp\n",
    "from ark.utils import io_utils"
   ]
  },
  {
   "cell_type": "markdown",
   "id": "e764f21a",
   "metadata": {},
   "source": [
    "### Define file parameters"
   ]
  },
  {
   "cell_type": "markdown",
   "id": "54dae734",
   "metadata": {},
   "source": [
    "* `base_dir`: this is the top-level directory to store the qc metrics from different runs\n",
    "* `bin_file_dir`: define the path to your bin file directory\n",
    "* `panel_path`: define the path to the CSV defining your panel parameters\n",
    "* `qc_dir`: define the path to write the QC metrics to"
   ]
  },
  {
   "cell_type": "code",
   "execution_count": null,
   "id": "521a6db0",
   "metadata": {
    "tags": [
     "set_mibitracker_info"
    ]
   },
   "outputs": [],
   "source": [
    "base_dir = 'C:\\\\Users\\\\Customer.ION\\\\Documents\\\\qc_metrics'\n",
    "bin_file_path = os.path.join(base_dir, 'tiny_bin_files', '2022-01-22_adam_control_moly_2700V')\n",
    "panel_path = os.path.join(base_dir, 'sample_panel_2022-01-22_adam_control_moly_2700V.csv')\n",
    "qc_dir = os.path.join(base_dir, '2022-01-22_adam_control_moly_2700V_metrics')\n",
    "\n",
    "# make qc_dir if it doesn't already exist\n",
    "if not os.path.exists(qc_dir):\n",
    "    os.mkdir(qc_dir)"
   ]
  },
  {
   "cell_type": "markdown",
   "id": "58f57192",
   "metadata": {},
   "source": [
    "### Create QC metric tables"
   ]
  },
  {
   "cell_type": "markdown",
   "id": "12a31336",
   "metadata": {},
   "source": [
    "Set the following parameters for Gaussian blurring prior to running QC metric analysis:\n",
    "\n",
    "* `gaussian_blur`: set to `True` if a Gaussian blur is desired\n",
    "* `blur_factor`: define the standard deviation of the Gaussian kernel. Higher values are more aggressive in smoothing signal. Ignored if `gaussian_blur` is `False`."
   ]
  },
  {
   "cell_type": "code",
   "execution_count": null,
   "id": "1a16f316",
   "metadata": {
    "tags": [
     "set_gaussian_blur"
    ]
   },
   "outputs": [],
   "source": [
    "gaussian_blur = True\n",
    "blur_factor = 1"
   ]
  },
  {
   "cell_type": "code",
   "execution_count": null,
   "id": "81d25c7b",
   "metadata": {
    "tags": [
     "compute_qc_data"
    ]
   },
   "outputs": [],
   "source": [
    "# run QC metric extraction, saves to specified qc_dir\n",
    "qc_comp.compute_qc_metrics(\n",
    "    bin_file_path,\n",
    "    panel_path,\n",
    "    qc_dir,\n",
    "    gaussian_blur=gaussian_blur,\n",
    "    blur_factor=blur_factor\n",
    ")"
   ]
  },
  {
   "cell_type": "markdown",
   "id": "87e82396",
   "metadata": {
    "tags": []
   },
   "source": [
    "### Visualize QC metrics"
   ]
  },
  {
   "cell_type": "markdown",
   "id": "be4ac31e",
   "metadata": {},
   "source": [
    "Note: the x-axis (FOV labels) of each graph is ordered in the FOV acquisition order"
   ]
  },
  {
   "cell_type": "code",
   "execution_count": null,
   "id": "a5dade0f",
   "metadata": {
    "tags": [
     "melt_qc"
    ]
   },
   "outputs": [],
   "source": [
    "# read the data in\n",
    "df_nonzero_mean = pd.read_csv(os.path.join(qc_dir, 'nonzero_mean_stats.csv'))\n",
    "df_total_intensity = pd.read_csv(os.path.join(qc_dir, 'total_intensity_stats.csv'))\n",
    "df_99_9_intensity = pd.read_csv(os.path.join(qc_dir, 'percentile_99_9_stats.csv'))\n",
    "\n",
    "# melt the DataFrames for visualization\n",
    "df_nonzero_mean_melt = pd.melt(df_nonzero_mean, id_vars=['fov'], value_vars=channels, var_name='channel', value_name='Non-zero mean intensity')\n",
    "df_total_intensity_melt = pd.melt(df_total_intensity, id_vars=['fov'], value_vars=channels, var_name='channel', value_name='Total intensity')\n",
    "df_99_9_intensity_melt = pd.melt(df_99_9_intensity, id_vars=['fov'], value_vars=channels, var_name='channel', value_name='99.9% intensity value')"
   ]
  },
  {
   "cell_type": "code",
   "execution_count": null,
   "id": "e97aae8d",
   "metadata": {
    "tags": [
     "viz_nonzero_mean"
    ]
   },
   "outputs": [],
   "source": [
    "# visualize the non-zero mean intensity stats\n",
    "qc_comp.visualize_qc_metrics(\n",
    "    df_nonzero_mean_melt,\n",
    "    'Non-zero mean intensity',\n",
    "    axes_size=16,\n",
    "    wrap=6,\n",
    "    dpi=None,\n",
    "    save_dir=run_folder_path\n",
    ")"
   ]
  },
  {
   "cell_type": "code",
   "execution_count": null,
   "id": "617a886d",
   "metadata": {
    "tags": [
     "viz_total_intensity"
    ]
   },
   "outputs": [],
   "source": [
    "# visualize the total intensity stats\n",
    "qc_comp.visualize_qc_metrics(\n",
    "    df_total_intensity_melt,\n",
    "    'Total intensity',\n",
    "    axes_size=16,\n",
    "    wrap=6,\n",
    "    dpi=None,\n",
    "    save_dir=run_folder_path\n",
    ")"
   ]
  },
  {
   "cell_type": "code",
   "execution_count": null,
   "id": "c65de618",
   "metadata": {
    "tags": [
     "viz_99_9"
    ]
   },
   "outputs": [],
   "source": [
    "# visualize the 99.9% intensity value stats\n",
    "qc_comp.visualize_qc_metrics(\n",
    "    df_99_9_intensity_melt,\n",
    "    '99.9% intensity value',\n",
    "    axes_size=16,\n",
    "    wrap=6,\n",
    "    dpi=None,\n",
    "    save_dir=run_folder_path\n",
    ")"
   ]
  }
 ],
 "metadata": {
  "kernelspec": {
   "display_name": "Python 3 (ipykernel)",
   "language": "python",
   "name": "python3"
  },
  "language_info": {
   "codemirror_mode": {
    "name": "ipython",
    "version": 3
   },
   "file_extension": ".py",
   "mimetype": "text/x-python",
   "name": "python",
   "nbconvert_exporter": "python",
   "pygments_lexer": "ipython3",
   "version": "3.8.12"
  }
 },
 "nbformat": 4,
 "nbformat_minor": 5
}
