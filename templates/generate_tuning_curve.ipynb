{
 "cells": [
  {
   "cell_type": "markdown",
   "id": "161300a0-eb1a-4ccd-8938-1f67cda4c930",
   "metadata": {
    "tags": []
   },
   "source": [
    "# Generating sensitivity tuning curve\n",
    "\n",
    "**NOTE: standardized tuning curves have been generated which are cross-instrument compatible. These can be found in the `tuning_curves` folder. Unless you have a specific reason to generate a new curve, please bypass this notebook and select from the `tuning_curves` folder instead.**\n",
    "\n",
    "The sensitivity of the detector will slowly decay over time, decreasing the counts recorded for the same amount of true signal. The Median Pulse Height (MPH) can be used as metric to evaluate the sensitivity of the detector.\n",
    "\n",
    "We create a tuning curve to relate MPH to the percentage of max signal to understand their relationship.\n",
    "\n",
    "Your curve should look like the image below. It's okay if your values are a bit different, but the shape of the curve should be qualitatively the same. The curve will be saved in the `sweep_path` folder you define below.\n",
    "<figure>\n",
    "    <img src=\"img/tuning_curve.png\" width=\"500\" style=\"display=block; margin:auto\"/>\n",
    "    <figcaption> The x axis is the Detector Gain, y axis is the % of Max Signal </figcaption>\n",
    "</figure>"
   ]
  },
  {
   "cell_type": "code",
   "execution_count": null,
   "id": "7aba2d6a-e8f2-4429-984b-413c150b2dca",
   "metadata": {},
   "outputs": [],
   "source": [
    "# imports\n",
    "import os, warnings\n",
    "from toffy import normalize"
   ]
  },
  {
   "cell_type": "markdown",
   "id": "5ddc9f0c-8d10-42b8-9426-af1efb1c8933",
   "metadata": {},
   "source": [
    "### Identify detector sweep\n",
    "The first step is selecting a detector sweep. The goal is for this sweep to cover the range of values most often seen during image acqusition. Therefore, it's best to pick a sweep where the suggested change in voltage following the sweep was less than 50V."
   ]
  },
  {
   "cell_type": "code",
   "execution_count": null,
   "id": "6e54837d-3cdf-4732-94ee-c1817a614a2d",
   "metadata": {},
   "outputs": [],
   "source": [
    "# pick a name for the sweep, such as the date it was run\n",
    "sweep_name = '20220417_pmma'"
   ]
  },
  {
   "cell_type": "code",
   "execution_count": null,
   "id": "b78d600c-036e-4162-a972-cae96879eb60",
   "metadata": {},
   "outputs": [],
   "source": [
    "# create a new folder with the sweep name\n",
    "normalization_dir = 'C:\\\\Users\\\\Customer.ION\\\\Documents\\\\normalization_curve'\n",
    "sweep_path = os.path.join(normalization_dir, sweep_name)\n",
    "if not os.path.exists(sweep_path):\n",
    "    os.makedirs(sweep_path)"
   ]
  },
  {
   "cell_type": "markdown",
   "id": "82cf2530-42fa-4594-836f-6fa020ab9fbb",
   "metadata": {},
   "source": [
    "Now, copy all of the FOVs from the sweep into the newly created folder, which can be found in *C:\\\\\\Users\\\\\\Customer.ION\\\\\\Documents\\\\\\normalization_curve*"
   ]
  },
  {
   "cell_type": "markdown",
   "id": "851f43b3-e8dc-4fe0-8084-fde28112402d",
   "metadata": {},
   "source": [
    "### Create tuning curve\n",
    "We'll then use these FOVs in order to create the curve. **Sometimes FOV channel counts which are too low or too high can interfere with the curve generation, so you can adjust the default range below and run the cell multiple times.** Two tuning curves will be produced, one including all of the data and one excluding values outside of the count range. \n",
    "\n",
    "A barplot will be produced below so you can determine where the channel counts seem to level off; this will indicate what the upper threshold for the count range should be. If you would like to simply use the curve with no values exlcuded, set `count_range=None` and run the cell again."
   ]
  },
  {
   "cell_type": "code",
   "execution_count": null,
   "id": "43009bc9-39bb-402d-b212-383767508582",
   "metadata": {},
   "outputs": [],
   "source": [
    "# define the name of the tuning file\n",
    "tuning_curve_file = 'default_tuning_curve.json'\n",
    "\n",
    "if os.path.exists(os.path.join('..', 'tuning_curves', tuning_curve_file)):\n",
    "    warnings.warn('Tuning curve file %s already exists, are you sure you want to overwrite?' % tuning_curve_file)"
   ]
  },
  {
   "cell_type": "code",
   "execution_count": null,
   "id": "a7715f21-8c8e-4c1f-af67-fe38809d58cb",
   "metadata": {},
   "outputs": [],
   "source": [
    "# define masses to use\n",
    "normalize.create_tuning_function(\n",
    "    sweep_path=sweep_path,\n",
    "    save_path=os.path.join('..', 'tuning_curves', tuning_curve_file),\n",
    "    count_range=(0, 3000000)\n",
    ")"
   ]
  }
 ],
 "metadata": {
  "kernelspec": {
   "display_name": "Python 3 (ipykernel)",
   "language": "python",
   "name": "python3"
  },
  "language_info": {
   "codemirror_mode": {
    "name": "ipython",
    "version": 3
   },
   "file_extension": ".py",
   "mimetype": "text/x-python",
   "name": "python",
   "nbconvert_exporter": "python",
   "pygments_lexer": "ipython3",
   "version": "3.9.16"
  }
 },
 "nbformat": 4,
 "nbformat_minor": 5
}
