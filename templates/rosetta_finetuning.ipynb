{
 "cells": [
  {
   "cell_type": "markdown",
   "id": "ca8b60ef",
   "metadata": {},
   "source": [
    "# Rosetta Testing\n",
    "## This notebook is an example: create a copy before running it or you will get merge conflicts!"
   ]
  },
  {
   "cell_type": "markdown",
   "id": "0214e5c7-ecd7-4d74-ac5f-15a8a75c2a79",
   "metadata": {},
   "source": [
    "This notebook will guide you through the process of optimizing a compensation matrix for your data."
   ]
  },
  {
   "cell_type": "code",
   "execution_count": null,
   "id": "0b3f474f",
   "metadata": {},
   "outputs": [],
   "source": [
    "import sys\n",
    "sys.path.append('../')\n",
    "\n",
    "import os\n",
    "import shutil\n",
    "\n",
    "import skimage.io as io\n",
    "from mibi_bin_tools import bin_files\n",
    "from toffy import rosetta\n",
    "from toffy.panel_utils import load_panel\n",
    "from ark.utils.io_utils import list_folders, list_files"
   ]
  },
  {
   "cell_type": "markdown",
   "id": "d1db8364",
   "metadata": {
    "tags": []
   },
   "source": [
    "## 1. Setup\n",
    "\n",
    "Below, you will set up the necessary structure for testing rosetta on all of your runs.\n",
    "- `cohort_name` is a descriptive name for the data comprised of all of your related runs\n",
    "- `run_names` is a list of all the runs you would like to retrieve FOV images from for testing\n",
    "- `panel_path` should point to a panel csv specifying the targets on your panel (see [panel format](https://github.com/angelolab/toffy#panel-format) for more information)\n",
    "- `rosetta_testing_dir` is the base directory for which all rosetta testing to be conducted in\n",
    "- `extracted_imgs_dir` is the directory containg the run folders for your extracted images "
   ]
  },
  {
   "cell_type": "code",
   "execution_count": null,
   "id": "7955e002",
   "metadata": {},
   "outputs": [],
   "source": [
    "# run specifications\n",
    "cohort_name = '20220101_new_cohort'\n",
    "run_names = ['20220101_TMA1', '20220102_TMA2']\n",
    "panel_path = 'C:\\\\Users\\\\Customer.ION\\\\Documents\\\\panel_files\\\\my_cool_panel.csv'"
   ]
  },
  {
   "cell_type": "markdown",
   "id": "58d8471b-b4e4-454b-8655-6de8eabd7a4f",
   "metadata": {},
   "source": [
    "By default, the `commercial_rosetta_matrix_v1.csv` from the `files` directory of toffy will be used for rosetta. If you would like to use a different matrix, specify the path below. \n",
    "\n",
    "A new directory based on the provided `cohort_name` above will be created within `rosetta_testing_dir`; this folder will contain all the files need for and produced in **Section 2** of the notebook."
   ]
  },
  {
   "cell_type": "code",
   "execution_count": null,
   "id": "267afe31-8076-48d0-ac93-15de8009751b",
   "metadata": {},
   "outputs": [],
   "source": [
    "# default rosetta matrix provided in toffy\n",
    "default_matrix_path = os.path.join('..', 'files', 'commercial_rosetta_matrix_v1.csv')\n",
    "\n",
    "rosetta_testing_dir = 'C:\\\\Users\\\\Customer.ION\\\\Documents\\\\rosetta_testing'\n",
    "extracted_imgs_dir = 'D:\\\\Extracted_Images'\n",
    "\n",
    "# Read in toffy panel file\n",
    "panel = load_panel(panel_path)"
   ]
  },
  {
   "cell_type": "markdown",
   "id": "d0ab49c5",
   "metadata": {
    "tags": []
   },
   "source": [
    "**The below code will copy 10 random FOVs from your provided run folders to normalize and then test rosetta on. The rosetta matrix provided by the path above will also be copied into the new testing directory.**"
   ]
  },
  {
   "cell_type": "code",
   "execution_count": null,
   "id": "c49d5357",
   "metadata": {},
   "outputs": [],
   "source": [
    "# copy random fovs from each run\n",
    "rosetta.copy_image_files(cohort_name, run_names, rosetta_testing_dir, \n",
    "                         extracted_imgs_dir, fov_number=10)\n",
    "\n",
    "# copy rosetta matrix for editing\n",
    "shutil.copyfile(default_matrix_path, \n",
    "                os.path.join(rosetta_testing_dir, cohort_name, 'commercial_rosetta_matrix.csv'))\n",
    "\n",
    "# normalize images to allow direct comparison with rosetta\n",
    "img_out_dir = os.path.join(rosetta_testing_dir, cohort_name, 'extracted_images')\n",
    "fovs = list_folders(img_out_dir)\n",
    "for fov in fovs:\n",
    "    fov_dir = os.path.join(img_out_dir, fov)\n",
    "    sub_dir = os.path.join(fov_dir, 'normalized')\n",
    "    os.makedirs(sub_dir)\n",
    "    chans = list_files(fov_dir)\n",
    "    for chan in chans:\n",
    "        img = io.imread(os.path.join(fov_dir, chan))\n",
    "        img = (img / 100).astype('float32')\n",
    "        io.imsave(os.path.join(sub_dir, chan), img, check_contrast=False)"
   ]
  },
  {
   "cell_type": "markdown",
   "id": "7239e333",
   "metadata": {},
   "source": [
    "## 2. Rosetta Testing - Optimize Compensation Matrix\n",
    "\n",
    "Now that we have our image data, we can test out different values for the compensation matrix. We'll be testing out coefficients in proportion to their value in the default matrix. For example, specifying multipliers of 0.5, 1, and 2 would test coefficients that are half the size, the same size, and twice the size of the coefficients in the default matrix, respectively. \n",
    "\n",
    "**The cells below can be run multiple times to hone in on the specific coefficient that works the best.** In general, it is best to optimize the value of one channel's coefficient at a time. The channel that often needs to be optimized is Noodle. However, you can optimize the coefficient for any channel that causes problems"
   ]
  },
  {
   "cell_type": "code",
   "execution_count": null,
   "id": "6558a44d-0a6f-4211-bd61-56efff73f026",
   "metadata": {},
   "outputs": [],
   "source": [
    "# Pick the channel that you will be optimizing the coefficient for\n",
    "current_channel_name = 'Noodle'\n",
    "\n",
    "\n",
    "# UPDATE THE BELOW ARGS WHEN RE-RUNNING\n",
    "# set multipliers\n",
    "multipliers = [0.25, 1, 4]\n",
    "\n",
    "# pick an informative name\n",
    "folder_name = 'give_a_name_for_this_folder'\n",
    "\n",
    "# If you only want to look at the output for a subset of the channels once you've picked good coefficients for the rest, \n",
    "# update this variable for fast processing. Otherwise, all channels will be compensated and saved\n",
    "output_channel_names = None # e.g. output_channel_names = ['Au', 'CD45', 'PanCK']"
   ]
  },
  {
   "cell_type": "code",
   "execution_count": null,
   "id": "9b91311d",
   "metadata": {},
   "outputs": [],
   "source": [
    "# everything from here and below will run automatically\n",
    "current_channel_mass = rosetta.get_masses_from_channel_names([current_channel_name], panel)\n",
    "\n",
    "if output_channel_names is not None:\n",
    "    output_masses = rosetta.get_masses_from_channel_names(output_channel_names, panel)\n",
    "else:\n",
    "    output_masses = None\n",
    "\n",
    "# create sub-folder to hold images and files from this set of multipliers\n",
    "folder_path = os.path.join(rosetta_testing_dir, cohort_name, folder_name)\n",
    "if os.path.exists(folder_path):\n",
    "    raise ValueError('This folder {} already exists, please' \n",
    "                     'pick a new name for each set of parameters'.format(folder_name))\n",
    "else:\n",
    "    os.makedirs(folder_path)\n",
    "\n",
    "rosetta_mat_path = os.path.join(rosetta_testing_dir, cohort_name, 'commercial_rosetta_matrix.csv')\n",
    "\n",
    "# generate rosseta matrices for each multiplier\n",
    "rosetta.create_rosetta_matrices(default_matrix=rosetta_mat_path,\n",
    "                               multipliers=multipliers, masses=current_channel_mass,\n",
    "                               save_dir=folder_path)\n",
    "\n",
    "# loop over each multiplier and compensate the data\n",
    "rosetta_dirs = [img_out_dir]\n",
    "for multiplier in multipliers:\n",
    "    rosetta_mat_path = os.path.join(folder_path, 'commercial_rosetta_matrix_mult_{}.csv'.format(multiplier))\n",
    "    rosetta_out_dir = os.path.join(folder_path, 'compensated_data_{}'.format(multiplier))\n",
    "    rosetta_dirs.append(rosetta_out_dir)\n",
    "    os.makedirs(rosetta_out_dir)\n",
    "    rosetta.compensate_image_data(raw_data_dir=img_out_dir, comp_data_dir=rosetta_out_dir,comp_mat_path=rosetta_mat_path, \n",
    "                                  raw_data_sub_folder='normalized', panel_info=panel, batch_size=1, norm_const=1, output_masses=output_masses)"
   ]
  },
  {
   "cell_type": "markdown",
   "id": "1e0c72cb",
   "metadata": {},
   "source": [
    "Now that we've generated the compensated data for the given multipliers, we'll generate stitched images to make comparing the different multipliers easier."
   ]
  },
  {
   "cell_type": "code",
   "execution_count": null,
   "id": "a05d772c",
   "metadata": {},
   "outputs": [],
   "source": [
    "# stitch images together to enable easy visualization of outputs\n",
    "stitched_dir = os.path.join(folder_path, 'stitched_images')\n",
    "os.makedirs(stitched_dir)\n",
    "\n",
    "rosetta.create_tiled_comparison(input_dir_list=rosetta_dirs, output_dir=stitched_dir, channels=output_channel_names)\n",
    "\n",
    "# add the source channel as first row to make evaluation easier\n",
    "output_dir = os.path.join(folder_path, 'stitched_with_' + current_channel_name)\n",
    "os.makedirs(output_dir)\n",
    "rosetta.add_source_channel_to_tiled_image(raw_img_dir=img_out_dir, tiled_img_dir=stitched_dir,\n",
    "                                             output_dir=output_dir, source_channel=current_channel_name)"
   ]
  },
  {
   "cell_type": "markdown",
   "id": "7b2274b4",
   "metadata": {},
   "source": [
    "There will now be a folder named *stitched_with_channel_name* present within the sub-folder you created. You can look through these stitched images to determine whether the multiplier needs to be higher, lower, or the same.\n",
    "\n",
    "**For each channel, pick the multiplier that worked the best. Then, open the commercial_rosetta_matrix.csv file in your cohort testing directory and update the corresponding coefficient in that cell to be the `previous_value * coefficient`.** If you're happy with the new coefficients, you can take your modified matrix and move on to the next step. If not, you can re-run the three cells above with new `multipliers` and a new `folder_name` to further narrow in on the best value. \n",
    "\n",
    "**Once you've finalized your coefficients, please let us know [here](https://github.com/angelolab/toffy/issues/55).**"
   ]
  },
  {
   "cell_type": "code",
   "execution_count": null,
   "id": "7fafe3ed-f938-4169-a5fc-bc9ced9b79fa",
   "metadata": {},
   "outputs": [],
   "source": [
    "# rename your rosetta matrix and put the path to final file here\n",
    "final_rosetta_path = 'path/to/final/rosetta_matrix.csv'"
   ]
  },
  {
   "cell_type": "markdown",
   "id": "bd4f51e0-8bcc-4b5b-b2d3-6bc00140e0ca",
   "metadata": {},
   "source": [
    "## 3. Rosetta - Compensate your Runs\n",
    "**Once you're satisfied with your test Rosetta compensated images, you can use the final matrix to process your run.** First select the runs you want to process, and define the relevant top-level folders. Everything necessary for and subsequently outputted from this section of the notebook is stored in the automatic directories established in `1_set_up_toffy.ipynb`. More information on the uses and locations of the directories in toffy can be found in the [README](https://github.com/angelolab/toffy#directory-structure)."
   ]
  },
  {
   "cell_type": "code",
   "execution_count": null,
   "id": "cc7b8a9a-3fa5-47ca-b845-e0e08b5ad190",
   "metadata": {},
   "outputs": [],
   "source": [
    "# list of run names you would like to compensate images for, \n",
    "# by default uses the run list provided in Step 1 for testing\n",
    "runs = run_names\n",
    "\n",
    "# specify the path to folder containing your extracted images\n",
    "extracted_image_dir = 'D:\\\\Extracted_Images'\n",
    "\n",
    "# specify path to save rosetta images\n",
    "rosetta_image_dir = 'D:\\\\Rosetta_Compensated_Images'"
   ]
  },
  {
   "cell_type": "code",
   "execution_count": null,
   "id": "13d28546-47db-4827-9283-1a7fc7eb8ec2",
   "metadata": {},
   "outputs": [],
   "source": [
    "# perform rosetta on the provided runs\n",
    "for run in runs:\n",
    "    print(\"processing run {}\".format(run))\n",
    "    raw_img_dir = os.path.join(extracted_image_dir, run)\n",
    "    out_dir = os.path.join(rosetta_image_dir, run)\n",
    "    if not os.path.exists(out_dir):\n",
    "        os.makedirs(out_dir)\n",
    "    rosetta.compensate_image_data(raw_data_dir=raw_img_dir, comp_data_dir=out_dir, \n",
    "                                 comp_mat_path=final_rosetta_path, panel_info=panel, batch_size=1)"
   ]
  }
 ],
 "metadata": {
  "kernelspec": {
   "display_name": "Python 3 (ipykernel)",
   "language": "python",
   "name": "python3"
  },
  "language_info": {
   "codemirror_mode": {
    "name": "ipython",
    "version": 3
   },
   "file_extension": ".py",
   "mimetype": "text/x-python",
   "name": "python",
   "nbconvert_exporter": "python",
   "pygments_lexer": "ipython3",
   "version": "3.8.13"
  }
 },
 "nbformat": 4,
 "nbformat_minor": 5
}
