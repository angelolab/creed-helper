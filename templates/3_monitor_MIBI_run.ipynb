{
 "cells": [
  {
   "cell_type": "markdown",
   "metadata": {},
   "source": [
    "# Monitoring an ongoing MIBI run\n",
    "\n",
    "This notebook can be run alongside an active MIBIScope run.  As images are generated, this notebook will automatically pass the data through pre-specified functions, like tiff \n",
    "extraction, qc metric computation, etc. Eventually, all of the processing steps in the toffy repo will be incorporated into the Watcher functionality here. For now, this notebook will automatically extract tifs and generate QC plots of your data. \n",
    "\n",
    "## This notebook is an example: create a copy before running it or you will get merge conflicts!"
   ]
  },
  {
   "cell_type": "code",
   "execution_count": null,
   "metadata": {},
   "outputs": [],
   "source": [
    "import os\n",
    "import pandas as pd\n",
    "\n",
    "from toffy.fov_watcher import start_watcher\n",
    "from toffy.watcher_callbacks import build_extract_callback, build_qc_callback"
   ]
  },
  {
   "cell_type": "markdown",
   "metadata": {},
   "source": [
    "## Required variables\n",
    "\n",
    " - `run_name` should contain the exact name of the MIBI run that will be monitored. \n",
    " - `panel_path` should point to a panel csv specifying the targets on your panel. For an example, see the [example panel file](https://github.com/angelolab/toffy/blob/main/files/example_panel_file.csv)"
   ]
  },
  {
   "cell_type": "code",
   "execution_count": null,
   "metadata": {},
   "outputs": [],
   "source": [
    "# the name of the run\n",
    "run_name = 'YYYY-MM-DD_run_name'\n",
    "\n",
    "# path to user panel\n",
    "panel_path = 'C:\\\\Users\\\\Customer.ION\\\\Documents\\\\my_cool_panel.csv'\n",
    "\n",
    "\n",
    "# these are set automatically\n",
    "base_dir = os.path.join('D:\\\\Data', run_name)\n",
    "\n",
    "# path to log folder\n",
    "log_path = os.path.join('C:\\\\Users\\\\Customer.ION\\\\Documents\\\\watcher_logs', run_name)\n",
    "\n",
    "# load panel\n",
    "panel = pd.read_csv(panel_path)"
   ]
  },
  {
   "cell_type": "markdown",
   "metadata": {
    "tags": []
   },
   "source": [
    "## Callback initialization\n",
    "\n",
    "Callbacks listed in `per_fov` will be run on each completed FoV, the moment both the .bin & .json\n",
    "are found. Callbacks listed in `per_run` will be run only once all expected FoV's have been\n",
    "discovered and processed.  Currently, no callbacks have been specified `per_run`.\n",
    "\n",
    "Each callback will need a location to save its relevant data. This notebooks will generate\n",
    "that location\n",
    "\n",
    "`build_extract_callback` specifies that every FoV generate tiffs according to the supplied `panel`.\n",
    "Additional arguments are `intensities` which when set to True, will extract the intensity data, and\n",
    "`time_res` which will overwrite the default time resolution.\n",
    "\n",
    "`build_qc_callback` will run all currently available qc metrics on the FoV.  Additional arguments\n",
    "are `gaussian_blur` and `blur_factor`."
   ]
  },
  {
   "cell_type": "code",
   "execution_count": null,
   "metadata": {},
   "outputs": [],
   "source": [
    "extraction_dir = os.path.join('D:\\\\Extracted_Images', run_name)\n",
    "qc_dir = os.path.join('C:\\\\Users\\\\Customer.ION\\\\Documents\\\\run_metrics', run_name)\n",
    "\n",
    "per_fov = [\n",
    "    build_extract_callback(extraction_dir, panel, intensities=True),\n",
    "    build_qc_callback(qc_dir, panel)\n",
    "]\n",
    "per_run = []"
   ]
  },
  {
   "cell_type": "code",
   "execution_count": null,
   "metadata": {},
   "outputs": [],
   "source": [
    "start_watcher(base_dir, log_path, per_fov, per_run)"
   ]
  }
 ],
 "metadata": {
  "kernelspec": {
   "display_name": "Python 3 (ipykernel)",
   "language": "python",
   "name": "python3"
  },
  "language_info": {
   "codemirror_mode": {
    "name": "ipython",
    "version": 3
   },
   "file_extension": ".py",
   "mimetype": "text/x-python",
   "name": "python",
   "nbconvert_exporter": "python",
   "pygments_lexer": "ipython3",
   "version": "3.8.12"
  }
 },
 "nbformat": 4,
 "nbformat_minor": 4
}
