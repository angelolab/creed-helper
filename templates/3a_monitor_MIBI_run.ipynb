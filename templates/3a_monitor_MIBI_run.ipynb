{
 "cells": [
  {
   "cell_type": "markdown",
   "metadata": {},
   "source": [
    "# Monitoring an ongoing MIBI run\n",
    "\n",
    "This notebook can be run alongside an active MIBIScope run.  As images are generated, this notebook will automatically pass the data through pre-specified functions, like tiff \n",
    "extraction, qc metric computation, etc. Eventually, all of the processing steps in the toffy repo will be incorporated into the Watcher functionality here. For now, this notebook will automatically extract tifs and generate QC plots of your data. \n",
    "\n",
    "## This notebook is an example: create a copy before running it or you will get merge conflicts!"
   ]
  },
  {
   "cell_type": "code",
   "execution_count": null,
   "metadata": {},
   "outputs": [],
   "source": [
    "import sys\n",
    "sys.path.append('../')\n",
    "\n",
    "import os\n",
    "import pandas as pd\n",
    "\n",
    "from toffy.fov_watcher import start_watcher\n",
    "from toffy.watcher_callbacks import build_callbacks"
   ]
  },
  {
   "cell_type": "markdown",
   "metadata": {},
   "source": [
    "## Required variables\n",
    "\n",
    " - `run_name` should contain the exact name of the MIBI run that will be monitored. \n",
    " - `panel_path` should point to a panel csv specifying the targets on your panel. For an example, see the [example panel file](https://github.com/angelolab/toffy/blob/main/files/example_panel_file.csv)"
   ]
  },
  {
   "cell_type": "code",
   "execution_count": null,
   "metadata": {},
   "outputs": [],
   "source": [
    "# the name of the run\n",
    "run_name = 'YYYY-MM-DD_run_name'\n",
    "\n",
    "# path to user panel\n",
    "panel_path = 'C:\\\\Users\\\\Customer.ION\\\\Documents\\\\panel_files\\\\my_cool_panel.csv'\n",
    "\n",
    "\n",
    "# these are set automatically\n",
    "base_dir = os.path.join('D:\\\\Data', run_name)\n",
    "\n",
    "# path to log folder\n",
    "log_path = os.path.join('C:\\\\Users\\\\Customer.ION\\\\Documents\\\\watcher_logs', run_name)\n",
    "\n",
    "# load panel\n",
    "panel = pd.read_csv(panel_path)"
   ]
  },
  {
   "cell_type": "markdown",
   "metadata": {
    "tags": []
   },
   "source": [
    "## Callback initialization\n",
    "\n",
    "Callbacks listed in the `run_callbacks` argument will be run only once all expected FoV's have been\n",
    "discovered and processed. Callbacks listed in `fov_callbacks` arugment will be run on each\n",
    "completed FoV, the moment both the .bin & .json are found.\n",
    "\n",
    "Some run callbacks depend on certain fov callbacks.  You do not need to manually set these, as\n",
    "setting a run callback will automatically set the prerequisite fov callbacks to run.\n",
    "\n",
    "Each callback will need a location to save its relevant data. These are passed as *_out_dir\n",
    "arguments to the `build_callbacks` function.  If required arguments are not set by the user,\n",
    "this cell will throw an error and list the missing requireed arguments.\n",
    "\n",
    "The `extract_tiffs` fov callback specifies that every FoV generate tiffs according to the supplied\n",
    "`panel`. Additional arguments are `intensities` which when set to True, will extract the intensity\n",
    "data, and `time_res` which will overwrite the default time resolution.\n",
    "\n",
    "The `plot_qc_metrics` run callback will run all currently available qc metrics on each FoV, and \n",
    "plot the results once the run has completed. Additional arguments are:\n",
    "    - `gaussian_blur`\n",
    "    - `blur_factor`\n",
    "    - `axes_size`\n",
    "    - `wrap`\n",
    "    - `dpi`\n",
    "    - `save_dir`\n",
    "    \n",
    "The `plot_mph_metrics` run callback will compute the median pulse height data for each \n",
    "FoV, and plot the results once the run has completed. Additional arguments are:\n",
    "`regression` which when set to True will also plot the linear regression line for the data."
   ]
  },
  {
   "cell_type": "code",
   "execution_count": null,
   "metadata": {},
   "outputs": [],
   "source": [
    "extraction_dir = os.path.join('D:\\\\Extracted_Images', run_name)\n",
    "qc_dir = os.path.join('C:\\\\Users\\\\Customer.ION\\\\Documents\\\\run_metrics', run_name)\n",
    "\n",
    "fov_callback, run_callback = build_callbacks(\n",
    "    run_callbacks = ['plot_qc_metrics', 'plot_mph_metrics'],\n",
    "    fov_callbacks = ['extract_tiffs'],\n",
    "    tiff_out_dir=extraction_dir,\n",
    "    qc_out_dir=qc_dir,\n",
    "    mph_out_dir=qc_dir,\n",
    "    plot_dir=qc_dir,\n",
    "    panel=panel,\n",
    "    intensities=False,\n",
    "    regression=False,\n",
    ")"
   ]
  },
  {
   "cell_type": "code",
   "execution_count": null,
   "metadata": {},
   "outputs": [],
   "source": [
    "start_watcher(base_dir, log_path, fov_callback, run_callback)"
   ]
  }
 ],
 "metadata": {
  "kernelspec": {
   "display_name": "toffy_env",
   "language": "python",
   "name": "toffy_env"
  },
  "language_info": {
   "codemirror_mode": {
    "name": "ipython",
    "version": 3
   },
   "file_extension": ".py",
   "mimetype": "text/x-python",
   "name": "python",
   "nbconvert_exporter": "python",
   "pygments_lexer": "ipython3",
   "version": "3.8.13"
  }
 },
 "nbformat": 4,
 "nbformat_minor": 4
}
