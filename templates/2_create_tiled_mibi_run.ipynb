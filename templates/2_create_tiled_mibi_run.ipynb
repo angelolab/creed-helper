{
 "cells": [
  {
   "cell_type": "markdown",
   "metadata": {},
   "source": [
    "# Generate tiled region run file\n",
    "\n",
    "## This notebook is an example: create a copy before running it or you will get merge conflicts!"
   ]
  },
  {
   "cell_type": "markdown",
   "metadata": {},
   "source": [
    "**NOTE**: Before running this notebook for the first time, make sure you've coregistered your instrument using the *update coregistration parameters* section of  `1_set_up_toffy.ipynb`. This will ensure your FOVs display correctly on the slide.\n",
    "\n",
    "This notebook automatically generates FOVs across multiple tiled regions on a sample and allows you to remove unneeded FOVs created during the process."
   ]
  },
  {
   "cell_type": "code",
   "execution_count": 2,
   "metadata": {},
   "outputs": [],
   "source": [
    "import sys\n",
    "sys.path.append('../')"
   ]
  },
  {
   "cell_type": "code",
   "execution_count": 3,
   "metadata": {},
   "outputs": [],
   "source": [
    "import json\n",
    "import os\n",
    "from skimage.io import imread\n",
    "\n",
    "from toffy.json_utils import read_json_file, write_json_file, split_run_file\n",
    "from toffy import tiling_utils\n",
    "\n",
    "# suppress mpl deprecation\n",
    "import warnings\n",
    "from matplotlib.cbook import mplDeprecation\n",
    "warnings.filterwarnings(\"ignore\", category=mplDeprecation)"
   ]
  },
  {
   "cell_type": "markdown",
   "metadata": {},
   "source": [
    "## Define the data paths"
   ]
  },
  {
   "cell_type": "markdown",
   "metadata": {},
   "source": [
    "### Set *json_tiling_dir*, the name of the directory to place and write all of your files. This directory should be placed in *C:\\\\\\Users\\\\\\Customer.ION\\\\\\Documents\\\\\\tiled_run_jsons*.\n",
    "\n",
    "### After running the data paths section, the *json_tiling_dir* directory structure should look like:\n",
    "\n",
    "- `C:\\\\Users\\\\Customer.ION\\\\Documents\\\\tiled_run_jsons`\n",
    "    - `json_tiling_dir`\n",
    "        - `region_corners_path` (a JSON file defining the position and name of each region to tile)\n",
    "        - `slide_path` (a PNG or BMP file containing the slide you want to tile over)\n",
    "        - `moly_path` (an optional JSON file defining a Moly point to separate FOVs in the run file)"
   ]
  },
  {
   "cell_type": "code",
   "execution_count": null,
   "metadata": {},
   "outputs": [],
   "source": [
    "# define the name of the directory to use in tiled_run_jsons\n",
    "json_tiling_dir = 'YYYY-MM-DD_test'"
   ]
  },
  {
   "cell_type": "code",
   "execution_count": null,
   "metadata": {},
   "outputs": [],
   "source": [
    "# convert the name to an absolute path, DO NOT CHANGE THIS\n",
    "json_tiling_dir = os.path.join('C:\\\\Users\\\\Customer.ION\\\\Documents\\\\tiled_run_jsons', json_tiling_dir)"
   ]
  },
  {
   "cell_type": "markdown",
   "metadata": {},
   "source": [
    "### Define a name prefix to use for the input and output files to place in *json_tiling_dir*. **All files must conform to this naming scheme**."
   ]
  },
  {
   "cell_type": "code",
   "execution_count": null,
   "metadata": {},
   "outputs": [],
   "source": [
    "# define the prefix for each file\n",
    "tiled_region_prefix = 'example_tiled_region'"
   ]
  },
  {
   "cell_type": "markdown",
   "metadata": {},
   "source": [
    "### To identify each desired tiled region on the image, you must provide a region_corners_path that defines the top-left corner FOV for each of them.\n",
    "\n",
    "### To generate these FOVs, use the Mibitracker to select the top-left FOV for each desired tiled region. Name each FOV to the corresponding desired name of the tiled region it defines, then download the file (in JSON format). *region_corners_path* should be formatted just like a commercial instrument run file, with each top-left FOV contained in the *'fovs'* key. Place this file directly into the path specified in *json_tiling_dir*. Ensure this file is renamed *{tiled_region_prefix}_region_corners.json* (ex. if you set *tiled_region_prefix = test* in the notebook, the file should be renamed *test_tiled_region_corners.json*)."
   ]
  },
  {
   "cell_type": "code",
   "execution_count": null,
   "metadata": {},
   "outputs": [],
   "source": [
    "region_corners_path = os.path.join(json_tiling_dir, '%s_region_corners.json' % tiled_region_prefix) "
   ]
  },
  {
   "cell_type": "markdown",
   "metadata": {},
   "source": [
    "### Place *slide_path*, the optical image file containing the slide to visualize the tiled regions over, directly in *json_tiling_dir*. The image should be saved in *.png* or *.bmp* format."
   ]
  },
  {
   "cell_type": "code",
   "execution_count": null,
   "metadata": {},
   "outputs": [],
   "source": [
    "slide_path = os.path.join(json_tiling_dir, \"%s_slide.png\" % tiled_region_prefix)"
   ]
  },
  {
   "cell_type": "markdown",
   "metadata": {},
   "source": [
    "### Place *moly_path*, the JSON file defining a Moly point, directly in *json_tiling_dir*. The Moly point JSON file should also be downloaded off of the Mibitracker.\n",
    "\n",
    "### This is needed if you want to insert Moly points at certain intervals between FOVs for calibration purposes."
   ]
  },
  {
   "cell_type": "code",
   "execution_count": null,
   "metadata": {},
   "outputs": [],
   "source": [
    "moly_path = os.path.join(json_tiling_dir, '%s_moly_point.json' % tiled_region_prefix)"
   ]
  },
  {
   "cell_type": "markdown",
   "metadata": {},
   "source": [
    "### Define *tiled_region_path*, the output file in *json_tiling_dir* to write the final set of FOVs for each tiled region after the notebook is complete."
   ]
  },
  {
   "cell_type": "code",
   "execution_count": null,
   "metadata": {},
   "outputs": [],
   "source": [
    "tiled_region_path = os.path.join(json_tiling_dir, \"%s_tiled_region_mapping.json\" % tiled_region_prefix)"
   ]
  },
  {
   "cell_type": "markdown",
   "metadata": {
    "tags": []
   },
   "source": [
    "## Set tiling parameters"
   ]
  },
  {
   "cell_type": "markdown",
   "metadata": {},
   "source": [
    "### Run following cell, which will ask you to enter additional info for each specified region in *region_corners_path*. This will include the number of FOVs along the row and column axes, whether to randomize the order of FOVs in a tiled region, whether to insert Moly points between tiled regions, and whether to insert Moly points between FOVs at a specified interval. "
   ]
  },
  {
   "cell_type": "code",
   "execution_count": null,
   "metadata": {},
   "outputs": [],
   "source": [
    "tiling_params = tiling_utils.set_tiled_region_params(region_corners_path)"
   ]
  },
  {
   "cell_type": "markdown",
   "metadata": {},
   "source": [
    "## Create the FOVs for each region"
   ]
  },
  {
   "cell_type": "markdown",
   "metadata": {},
   "source": [
    "### FOV names correspond to their row and column position on the grid of FOVs and are 1-indexed. For example, *R1C1* means the FOV is in row 1 and column 1, *R2C1* would be the next FOV down, and *R1C2* would be the next FOV to the right. The top left FOV is *R1C1*, the bottom right FOV would be *R4C5* for a tiled region of 4x5 dimensions. "
   ]
  },
  {
   "cell_type": "code",
   "execution_count": null,
   "metadata": {},
   "outputs": [],
   "source": [
    "# generate the FOVs in each region\n",
    "tiled_region_fovs = tiling_utils.generate_tiled_region_fov_list(\n",
    "    tiling_params,\n",
    "    moly_path\n",
    ")"
   ]
  },
  {
   "cell_type": "markdown",
   "metadata": {},
   "source": [
    "## Interactive FOV deselection"
   ]
  },
  {
   "cell_type": "markdown",
   "metadata": {},
   "source": [
    "### The grid defining an ROI may cover more area than you wish to tile. This GUI allows you to interactively delete FOVs from *tiled_region_fovs* prior to saving:\n",
    "\n",
    "### 1. Click on a FOV to propose it for removal. The border of proposed FOVs will be highlighted. Click again to unpropose the FOV.\n",
    "### 2.Once you've selected all the FOVs you want to remove, click *Delete selected FOVs* to remove them. **This action cannot be undone!**\n",
    "### 3. You can always remove more FOVs even after saving. Just remember to re-save.\n",
    "### 4. After you're done removing all the FOVs, click *Save mapping* to save your truncated set of FOVs to *tiled_region_path*."
   ]
  },
  {
   "cell_type": "code",
   "execution_count": null,
   "metadata": {},
   "outputs": [],
   "source": [
    "# read the slide image in\n",
    "slide_data = imread(slide_path)"
   ]
  },
  {
   "cell_type": "code",
   "execution_count": null,
   "metadata": {},
   "outputs": [],
   "source": [
    "%matplotlib widget\n",
    "_ = tiling_utils.tiled_region_interactive_remap(\n",
    "    tiled_region_fovs,\n",
    "    tiling_params,\n",
    "    slide_data,\n",
    "    tiled_region_path,\n",
    "    figsize=(7, 7)\n",
    ")"
   ]
  },
  {
   "cell_type": "markdown",
   "metadata": {},
   "source": [
    "### Run JSON adjustment\n",
    "\n",
    "#### If you would like to break up your tiled file into smaller JSONs containing a specified amount of FOVs in each, you can do that using the code below. \n",
    "\n",
    "#### `file_split` is a list of values detailing how many FOVs to included in each new file, and must sum to the total number of FOVs in the run file."
   ]
  },
  {
   "cell_type": "code",
   "execution_count": 5,
   "metadata": {},
   "outputs": [],
   "source": [
    "file_split = []\n",
    "\n",
    "split_run_file(json_tiling_dir, os.path.basename(tiled_region_fovs_path), file_split)"
   ]
  }
 ],
 "metadata": {
  "kernelspec": {
   "display_name": "Python 3 (ipykernel)",
   "language": "python",
   "name": "python3"
  },
  "language_info": {
   "codemirror_mode": {
    "name": "ipython",
    "version": 3
   },
   "file_extension": ".py",
   "mimetype": "text/x-python",
   "name": "python",
   "nbconvert_exporter": "python",
   "pygments_lexer": "ipython3",
   "version": "3.8.12"
  }
 },
 "nbformat": 4,
 "nbformat_minor": 4
}
