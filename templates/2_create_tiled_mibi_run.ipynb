{
 "cells": [
  {
   "cell_type": "markdown",
   "metadata": {},
   "source": [
    "# Generate tiled region run file\n",
    "\n",
    "## This notebook is an example: create a copy before running it or you will get merge conflicts!"
   ]
  },
  {
   "cell_type": "markdown",
   "metadata": {},
   "source": [
    "**NOTE**: Before running this notebook for the first time, make sure you've coregistered your instrument using the *update coregistration parameters* section of  `1_set_up_toffy.ipynb`. This will ensure your FOVs display correctly on the slide.\n",
    "\n",
    "This notebook allows you to automatically set up large tiled runs of contiguous FOVs. You can specify the dimensions of the tiled image, for example 5x5, and select specific FOVs you wish to exclude from the final tile."
   ]
  },
  {
   "cell_type": "code",
   "execution_count": 2,
   "metadata": {},
   "outputs": [],
   "source": [
    "import sys\n",
    "sys.path.append('../')"
   ]
  },
  {
   "cell_type": "code",
   "execution_count": 3,
   "metadata": {},
   "outputs": [],
   "source": [
    "import json\n",
    "import os\n",
    "from skimage.io import imread\n",
    "\n",
    "from toffy.json_utils import read_json_file, write_json_file, split_run_file\n",
    "from toffy import tiling_utils\n",
    "\n",
    "# suppress mpl deprecation\n",
    "import warnings\n",
    "from matplotlib.cbook import mplDeprecation\n",
    "warnings.filterwarnings(\"ignore\", category=mplDeprecation)"
   ]
  },
  {
   "cell_type": "markdown",
   "metadata": {},
   "source": [
    "## 1. Define the data paths"
   ]
  },
  {
   "cell_type": "markdown",
   "metadata": {},
   "source": [
    "Set *json_tiling_dir*, the name of the directory to place and write all of your files. This directory should be set as  *C:\\\\\\Users\\\\\\Customer.ION\\\\\\Documents\\\\\\tiled_run_jsons*. <b>Do not change this path</b>.\n",
    "\n",
    "After running the data paths section, the directory structure should look like:\n",
    "\n",
    "```\n",
    "C:\\\\Users\\\\Customer.ION\\\\Documents\\\\tiled_run_jsons\n",
    "│   region_corners_path (JSON file defining the position and name of each region to tile)\n",
    "│   slide_path (image file containing the slide you want to tile over)\n",
    "```"
   ]
  },
  {
   "cell_type": "code",
   "execution_count": null,
   "metadata": {},
   "outputs": [],
   "source": [
    "# define the name of the directory to use in tiled_run_jsons\n",
    "json_tiling_dir = 'C:\\\\Users\\\\Customer.ION\\\\Documents\\\\tiled_run_jsons'"
   ]
  },
  {
   "cell_type": "markdown",
   "metadata": {},
   "source": [
    "Set a prefix to use for the input and output files to place in *json_tiling_dir*. **All file names must use this prefix**.\n",
    "\n",
    "The default is *'example_tiled_region'*, but you should change it to something relevant to your study, such as *'BRCA_TMA_1'*."
   ]
  },
  {
   "cell_type": "code",
   "execution_count": null,
   "metadata": {},
   "outputs": [],
   "source": [
    "# define the prefix for each file\n",
    "tiled_region_prefix = 'example_tiled_region'"
   ]
  },
  {
   "cell_type": "markdown",
   "metadata": {},
   "source": [
    "Set the path to the JSON defining the top-left corner FOV of each tiled region.\n",
    "\n",
    "This file is generated using MIBIcontrol. Give each top-left FOV selected a descriptive name of the tiled region it defines. Move the downloaded file to *json_tiling_dir*, and rename it *{tiled_region_prefix}_region_corners.json*."
   ]
  },
  {
   "cell_type": "code",
   "execution_count": null,
   "metadata": {},
   "outputs": [],
   "source": [
    "region_corners_path = os.path.join(json_tiling_dir, '%s_region_corners.json' % tiled_region_prefix) "
   ]
  },
  {
   "cell_type": "markdown",
   "metadata": {},
   "source": [
    "Set the path to the slide image to take the tiled regions from. This image can be found at *D:\\\\\\Data\\\\\\optical-image*. Move the file to *json_tiling_dir* and rename it *{tiled_region_prefix}_slide.{slide_path_ext}*."
   ]
  },
  {
   "cell_type": "code",
   "execution_count": null,
   "metadata": {},
   "outputs": [],
   "source": [
    "# Change `slide_path_ext` to '.jpg' or '.png' if needed\n",
    "slide_path_ext = '.bmp'\n",
    "\n",
    "slide_path = os.path.join(json_tiling_dir, \"%s_slide\" % tiled_region_prefix + slide_path_ext)"
   ]
  },
  {
   "cell_type": "markdown",
   "metadata": {},
   "source": [
    "Set the path in *json_tiling_dir* to write the final run JSON containing the final set of FOVs for each tiled region."
   ]
  },
  {
   "cell_type": "code",
   "execution_count": null,
   "metadata": {},
   "outputs": [],
   "source": [
    "tiled_region_path = os.path.join(json_tiling_dir, \"%s_tiled_region_mapping.json\" % tiled_region_prefix)"
   ]
  },
  {
   "cell_type": "markdown",
   "metadata": {
    "tags": []
   },
   "source": [
    "## 2. Set tiling parameters"
   ]
  },
  {
   "cell_type": "markdown",
   "metadata": {},
   "source": [
    "Set the dimensions and randomization parameters of each tiled region."
   ]
  },
  {
   "cell_type": "code",
   "execution_count": null,
   "metadata": {},
   "outputs": [],
   "source": [
    "tiling_params = tiling_utils.set_tiled_region_params(region_corners_path)"
   ]
  },
  {
   "cell_type": "markdown",
   "metadata": {},
   "source": [
    "## 3. Create the FOVs for each region"
   ]
  },
  {
   "cell_type": "markdown",
   "metadata": {},
   "source": [
    "FOV names correspond to their row and column position on the grid of FOVs and are 1-indexed. For example, *R1C1* means the FOV is in row 1 and column 1, *R2C1* would be the next FOV down, and *R1C2* would be the next FOV to the right. The top left FOV is *R1C1*, the bottom right FOV would be *R4C5* for a tiled region of 4x5 dimensions. "
   ]
  },
  {
   "cell_type": "code",
   "execution_count": null,
   "metadata": {},
   "outputs": [],
   "source": [
    "# generate the FOVs in each region\n",
    "tiled_region_fovs = tiling_utils.generate_tiled_region_fov_list(tiling_params)"
   ]
  },
  {
   "cell_type": "markdown",
   "metadata": {},
   "source": [
    "## 4. Interactive FOV deselection"
   ]
  },
  {
   "cell_type": "markdown",
   "metadata": {},
   "source": [
    "The grid defining an ROI may cover more area than you wish to tile. This GUI allows you to interactively delete FOVs from *tiled_region_fovs* prior to saving:\n",
    "\n",
    "<b>NOTE: if you run the widget and do not need to run deselection, click *Save mapping* immediately to generate the final run file with all the FOVs generated.</b>\n",
    "\n",
    "1. Click on a FOV to propose it for removal. The border of proposed FOVs will be highlighted. Click again to unpropose the FOV.\n",
    "2.Once you've selected all the FOVs you want to remove, click *Delete selected FOVs* to remove them. **This action cannot be undone!**\n",
    "3. You can always remove more FOVs even after saving. Just remember to re-save.\n",
    "4. After you're done removing all the FOVs, click *Save mapping* to save your truncated set of FOVs to *tiled_region_path*."
   ]
  },
  {
   "cell_type": "code",
   "execution_count": null,
   "metadata": {},
   "outputs": [],
   "source": [
    "# read the slide image in\n",
    "slide_data = imread(slide_path)"
   ]
  },
  {
   "cell_type": "code",
   "execution_count": null,
   "metadata": {},
   "outputs": [],
   "source": [
    "%matplotlib widget\n",
    "_ = tiling_utils.tiled_region_interactive_remap(\n",
    "    tiled_region_fovs,\n",
    "    tiling_params,\n",
    "    slide_data,\n",
    "    tiled_region_path,\n",
    "    figsize=(7, 7)\n",
    ")"
   ]
  },
  {
   "cell_type": "markdown",
   "metadata": {},
   "source": [
    "## 5. Run JSON adjustment\n",
    "\n",
    "If you would like to break up your tiled file into smaller JSONs containing a specified amount of FOVs in each, you can do that using the code below. \n",
    "\n",
    "`file_split` is a list of values detailing how many FOVs to included in each new file, and must sum to the total number of FOVs in the run file."
   ]
  },
  {
   "cell_type": "code",
   "execution_count": 5,
   "metadata": {},
   "outputs": [],
   "source": [
    "file_split = []\n",
    "\n",
    "split_run_file(json_tiling_dir, os.path.basename(tiled_region_path), file_split)"
   ]
  }
 ],
 "metadata": {
  "kernelspec": {
   "display_name": "Python 3 (ipykernel)",
   "language": "python",
   "name": "python3"
  },
  "language_info": {
   "codemirror_mode": {
    "name": "ipython",
    "version": 3
   },
   "file_extension": ".py",
   "mimetype": "text/x-python",
   "name": "python",
   "nbconvert_exporter": "python",
   "pygments_lexer": "ipython3",
   "version": "3.8.13"
  }
 },
 "nbformat": 4,
 "nbformat_minor": 4
}
