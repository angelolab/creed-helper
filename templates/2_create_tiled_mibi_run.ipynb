{
 "cells": [
  {
   "cell_type": "markdown",
   "metadata": {},
   "source": [
    "# Generate tiled region run file\n",
    "\n",
    "## This notebook is an example: create a copy before running it or you will get merge conflicts!"
   ]
  },
  {
   "cell_type": "markdown",
   "metadata": {},
   "source": [
    "Automatically creates tiled regions of multiple contiguous FOVs based on user-provided input"
   ]
  },
  {
   "cell_type": "code",
   "execution_count": 3,
   "metadata": {},
   "outputs": [],
   "source": [
    "import sys\n",
    "sys.path.append('../')"
   ]
  },
  {
   "cell_type": "code",
   "execution_count": 2,
   "metadata": {},
   "outputs": [
    {
     "ename": "ModuleNotFoundError",
     "evalue": "No module named 'ark'",
     "output_type": "error",
     "traceback": [
      "\u001b[0;31m---------------------------------------------------------------------------\u001b[0m",
      "\u001b[0;31mModuleNotFoundError\u001b[0m                       Traceback (most recent call last)",
      "Input \u001b[0;32mIn [2]\u001b[0m, in \u001b[0;36m<cell line: 3>\u001b[0;34m()\u001b[0m\n\u001b[1;32m      1\u001b[0m \u001b[38;5;28;01mimport\u001b[39;00m \u001b[38;5;21;01mjson\u001b[39;00m\n\u001b[1;32m      2\u001b[0m \u001b[38;5;28;01mimport\u001b[39;00m \u001b[38;5;21;01mos\u001b[39;00m\n\u001b[0;32m----> 3\u001b[0m \u001b[38;5;28;01mfrom\u001b[39;00m \u001b[38;5;21;01mtoffy\u001b[39;00m\u001b[38;5;21;01m.\u001b[39;00m\u001b[38;5;21;01mjson_utils\u001b[39;00m \u001b[38;5;28;01mimport\u001b[39;00m read_json_file, write_json_file, split_run_file\n\u001b[1;32m      4\u001b[0m \u001b[38;5;28;01mfrom\u001b[39;00m \u001b[38;5;21;01mtoffy\u001b[39;00m \u001b[38;5;28;01mimport\u001b[39;00m tiling_utils\n",
      "File \u001b[0;32m~/PycharmProjects/toffy/templates/../toffy/json_utils.py:5\u001b[0m, in \u001b[0;36m<module>\u001b[0;34m\u001b[0m\n\u001b[1;32m      2\u001b[0m \u001b[38;5;28;01mimport\u001b[39;00m \u001b[38;5;21;01mjson\u001b[39;00m\n\u001b[1;32m      3\u001b[0m \u001b[38;5;28;01mimport\u001b[39;00m \u001b[38;5;21;01mos\u001b[39;00m\n\u001b[0;32m----> 5\u001b[0m \u001b[38;5;28;01mfrom\u001b[39;00m \u001b[38;5;21;01mark\u001b[39;00m\u001b[38;5;21;01m.\u001b[39;00m\u001b[38;5;21;01mutils\u001b[39;00m \u001b[38;5;28;01mimport\u001b[39;00m io_utils\n\u001b[1;32m      8\u001b[0m \u001b[38;5;28;01mdef\u001b[39;00m \u001b[38;5;21mrename_missing_fovs\u001b[39m(fov_data):\n\u001b[1;32m      9\u001b[0m     \u001b[38;5;124;03m\"\"\"Identify FOVs that are missing the 'name' key and create one with value placeholder_{n}\u001b[39;00m\n\u001b[1;32m     10\u001b[0m \u001b[38;5;124;03m    Args:\u001b[39;00m\n\u001b[1;32m     11\u001b[0m \u001b[38;5;124;03m        fov_data (dict): the FOV run JSON data\u001b[39;00m\n\u001b[0;32m   (...)\u001b[0m\n\u001b[1;32m     14\u001b[0m \u001b[38;5;124;03m        dict: a copy of the run JSON data with placeholder names for FOVs that lack one\u001b[39;00m\n\u001b[1;32m     15\u001b[0m \u001b[38;5;124;03m       \"\"\"\u001b[39;00m\n",
      "\u001b[0;31mModuleNotFoundError\u001b[0m: No module named 'ark'"
     ]
    }
   ],
   "source": [
    "import json\n",
    "import os\n",
    "from toffy.json_utils import read_json_file, write_json_file, split_run_file\n",
    "from toffy import tiling_utils"
   ]
  },
  {
   "cell_type": "markdown",
   "metadata": {},
   "source": [
    "### Define paths to the JSON data"
   ]
  },
  {
   "cell_type": "markdown",
   "metadata": {},
   "source": [
    "Define the following input and output paths:\n",
    "\n",
    "* `json_tiling_dir`: the directory containing the information to read and write the FOV info\n",
    "* `region_corners_path`: the JSON file containing the FOVs defining the top-left corner of each region\n",
    "* `tiled_region_fovs_path`: where to store JSON defining the FOVs for each tiled region\n",
    "* `moly_path`: the path to the Moly point, needed if you want to insert between FOVs"
   ]
  },
  {
   "cell_type": "code",
   "execution_count": null,
   "metadata": {},
   "outputs": [],
   "source": [
    "# define the tiling directory\n",
    "json_tiling_dir = 'C:\\\\Users\\\\Customer.ION\\\\Documents\\\\tiled_run_jsons'\n",
    "\n",
    "# define the name of manually created file\n",
    "region_corners_path = os.path.join(json_tiling_dir, '20220101_test_region_corners.json') \n",
    "\n",
    "# define the input and output files\n",
    "tiled_region_fovs_path = os.path.splitext(region_corners_path)[0] + '_tiled_fovs.json'\n",
    "moly_path = os.path.join(json_tiling_dir, 'moly_point.json')"
   ]
  },
  {
   "cell_type": "markdown",
   "metadata": {
    "tags": []
   },
   "source": [
    "### Set tiling parameters"
   ]
  },
  {
   "cell_type": "markdown",
   "metadata": {},
   "source": [
    "The following parameters need to be defined for each region:\n",
    "\n",
    "* The FOV defining the top-left corner with its centroid (taken from `region_corners_path`, each entry indicates a different region)\n",
    "* Number of FOVs along the row and column axes (user prompt)\n",
    "* row- and column-axis step size (taken from the `fovSizeMicrons` field of each corner FOV in `region_corners_path`, same for row and column)\n",
    "* Whether to randomize the order of the FOVs or not (user prompt)\n",
    "* Whether to insert Moly points between regions (user prompt)\n",
    "* Whether to insert Moly points between FOVs at a specified interval (user prompt). Refer to this link for how Moly point insertion works: https://ark-analysis.readthedocs.io/en/latest/_markdown/ark.mibi.html#ark.mibi.tiling_utils.tiled_region_generate_fov_list"
   ]
  },
  {
   "cell_type": "code",
   "execution_count": null,
   "metadata": {},
   "outputs": [],
   "source": [
    "tiling_params = tiling_utils.set_tiled_region_params(region_corners_path)"
   ]
  },
  {
   "cell_type": "markdown",
   "metadata": {},
   "source": [
    "### Create the FOVs for each region"
   ]
  },
  {
   "cell_type": "markdown",
   "metadata": {},
   "source": [
    "FOV names correspond to their row and column position on the grid of FOVs and are 1-indexed. For example, `R1C1` means the FOV is in row 1 and column 1, `R2C1` would be the next FOV down, and `R1C2` would be the next FOV to the right. The top left FOV is `R1C1`, the bottom right FOV would be `R4C5` for a tiled region of 4x5 dimensions. "
   ]
  },
  {
   "cell_type": "code",
   "execution_count": null,
   "metadata": {},
   "outputs": [],
   "source": [
    "# generate the FOVs in each region\n",
    "tiled_region_fovs = tiling_utils.generate_tiled_region_fov_list(\n",
    "    tiling_params,\n",
    "    moly_path\n",
    ")"
   ]
  },
  {
   "cell_type": "code",
   "execution_count": null,
   "metadata": {},
   "outputs": [],
   "source": [
    "# write the tiled output\n",
    "write_json_file(json_path=tiled_region_fovs_path, json_object=tiled_region_fovs, encoding='utf-8')"
   ]
  },
  {
   "cell_type": "markdown",
   "metadata": {},
   "source": [
    "### Run JSON adjustment\n",
    "If you would like to break up your run file into smaller JSONs containing a specified amount of FOVs in each, you can do that using the code below. \n",
    "- `file_split` is a list of values detailing how many FOVs to included in each new file, and must sum to the total number of FOVs in the run file"
   ]
  },
  {
   "cell_type": "code",
   "execution_count": 4,
   "metadata": {},
   "outputs": [],
   "source": [
    "import sys\n",
    "sys.path.append('../')\n",
    "\n",
    "import os\n",
    "from toffy.json_utils import split_run_file"
   ]
  },
  {
   "cell_type": "code",
   "execution_count": null,
   "metadata": {},
   "outputs": [],
   "source": [
    "run_name = 'YYYY-MM-DD_run_name'\n",
    "run_dir = os.path.join('D:\\\\Data', run_name)\n",
    "file_split = []\n",
    "\n",
    "split_run_file(run_dir, run_name+'.json', file_split)"
   ]
  }
 ],
 "metadata": {
  "kernelspec": {
   "display_name": "toffy_env",
   "language": "python",
   "name": "toffy_env"
  },
  "language_info": {
   "codemirror_mode": {
    "name": "ipython",
    "version": 3
   },
   "file_extension": ".py",
   "mimetype": "text/x-python",
   "name": "python",
   "nbconvert_exporter": "python",
   "pygments_lexer": "ipython3",
   "version": "3.8.13"
  }
 },
 "nbformat": 4,
 "nbformat_minor": 4
}
