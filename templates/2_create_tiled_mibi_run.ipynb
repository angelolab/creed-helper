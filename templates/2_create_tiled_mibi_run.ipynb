{
 "cells": [
  {
   "cell_type": "markdown",
   "metadata": {},
   "source": [
    "# Generate tiled region run file\n",
    "\n",
    "## This notebook is an example: create a copy before running it or you will get merge conflicts!"
   ]
  },
  {
   "cell_type": "markdown",
   "metadata": {},
   "source": [
    "**NOTE**: Before running this notebook for the first time, make sure you've coregistered your instrument using the *update coregistration parameters* section of  `1_set_up_toffy.ipynb`. This will ensure your FOVs display correctly on the slide.\n",
    "\n",
    "This notebook allows you to automatically set up large tiled runs of contiguous FOVs. You can specify the dimensions of the tiled image, for example 5x5, and select specific FOVs you wish to exclude from the final tile."
   ]
  },
  {
   "cell_type": "code",
   "execution_count": null,
   "metadata": {},
   "outputs": [],
   "source": [
    "import sys\n",
    "sys.path.append('../')"
   ]
  },
  {
   "cell_type": "code",
   "execution_count": null,
   "metadata": {},
   "outputs": [],
   "source": [
    "import json\n",
    "import os\n",
    "from skimage.io import imread\n",
    "\n",
    "from toffy.json_utils import read_json_file, write_json_file, split_run_file\n",
    "from toffy import tiling_utils\n",
    "\n",
    "# suppress mpl deprecation\n",
    "import warnings\n",
    "from matplotlib.cbook import mplDeprecation\n",
    "warnings.filterwarnings(\"ignore\", category=mplDeprecation)"
   ]
  },
  {
   "cell_type": "markdown",
   "metadata": {},
   "source": [
    "## 1. Define the data paths"
   ]
  },
  {
   "cell_type": "markdown",
   "metadata": {},
   "source": [
    "You will first need to define the prefix to use for all of the files associated with this specific TMA. The default is `'example_tiled_region'`, but you should change it to something relevant to your study, such as `'BRCA_TMA_1'`.\n",
    "\n",
    "Once you have picked your prefix for this specific TMA, you'll need to ensure that all of the necessary files are in the appropriate directory with the correct names\n",
    "\n",
    "* `region_corners_path`: this file, which contains the top-left corner FOV of each tiled region, should be named `{tiled_region_prefix}_region_corners.json`. Generate this file using MIBIcontrol and give each top-left FOV a descriptive name of the tiled region it defines.\n",
    "* `slide_path`: this file, which contains the image of your slide, should be named `{tiled_region_prefix}.bmp` or `{tiled_region_prefix}.jpg`. <b>This file can be found on the CAC at: `D:\\\\Data\\\\optical-image\\\\`</b>.\n",
    "\n",
    "Each of these files should be copied over to `C:\\\\Users\\\\Customer.ION\\\\Documents\\\\tiled_run_jsons`. More information on the uses and locations of the directories in toffy can be found in the <a href=\"https://github.com/angelolab/toffy#directory-structure\">README</a>."
   ]
  },
  {
   "cell_type": "code",
   "execution_count": null,
   "metadata": {},
   "outputs": [],
   "source": [
    "# define the prefix for each file\n",
    "tiled_region_prefix = 'example_tiled_region'"
   ]
  },
  {
   "cell_type": "code",
   "execution_count": null,
   "metadata": {},
   "outputs": [],
   "source": [
    "# user created files\n",
    "tiled_regions_dir = os.path.join('C:\\\\Users\\\\Customer.ION\\\\Documents\\\\tiled_run_jsons')\n",
    "region_corners_path = os.path.join(tiled_regions_dir, '%s_region_corners.json' % tiled_region_prefix)\n",
    "\n",
    "# change slide_path_ext to '.jpg' if needed\n",
    "slide_path_ext = '.bmp'\n",
    "slide_path = os.path.join(tiled_regions_dir, tiled_region_prefix + slide_path_ext)\n",
    "\n",
    "# the final run file the notebook will generate\n",
    "tiled_region_path = os.path.join(tiled_regions_dir, \"%s_tiled_region_mapping.json\" % tiled_region_prefix)"
   ]
  },
  {
   "cell_type": "markdown",
   "metadata": {
    "tags": []
   },
   "source": [
    "## 2. Generate the FOVs for each region"
   ]
  },
  {
   "cell_type": "markdown",
   "metadata": {},
   "source": [
    "This cell will prompt you to set the dimensions and randomization parameters of each tiled region. The parameters will be used to generate the FOVs over each tiled region."
   ]
  },
  {
   "cell_type": "code",
   "execution_count": null,
   "metadata": {},
   "outputs": [],
   "source": [
    "# set the tiling parameters\n",
    "tiling_params = tiling_utils.set_tiled_region_params(region_corners_path)\n",
    "\n",
    "# generate the FOVs in each region using tiling_params\n",
    "tiled_region_fovs = tiling_utils.generate_tiled_region_fov_list(tiling_params)"
   ]
  },
  {
   "cell_type": "markdown",
   "metadata": {},
   "source": [
    "## 3. Interactive FOV deselection"
   ]
  },
  {
   "cell_type": "markdown",
   "metadata": {},
   "source": [
    "The grid defining an ROI may cover more area than you wish to tile. This GUI allows you to interactively delete FOVs from *tiled_region_fovs* prior to saving:\n",
    "\n",
    "<b>NOTE: if you run the widget and do not need to run deselection, click *Save mapping* immediately to generate the final run file with all the FOVs generated.</b>\n",
    "\n",
    "1. Inspect using Zoom feature.\n",
    "\n",
    "<div>\n",
    "    <img src=\"img/tiled_region_zoom.gif\" width=\"300\" height=\"274\"/>\n",
    "</div>\n",
    "\n",
    "2. Propose/unpropose FOVs for removal by clicking. Click *Detele selected FOVs* to remove proposed FOVs. <b>This action cannot be undone!</b>\n",
    "\n",
    "<div>\n",
    "    <img src=\"img/tiled_region_selection.gif\" width=\"300\" height=\"274\"/>\n",
    "</div>\n",
    "\n",
    "4. You can always remove more FOVs even after saving. Just remember to re-save.\n",
    "5. After you're done, click *Save mapping*. The final run file will be saved to *tiled_region_path*."
   ]
  },
  {
   "cell_type": "code",
   "execution_count": null,
   "metadata": {},
   "outputs": [],
   "source": [
    "# read the slide image in\n",
    "slide_data = imread(slide_path)\n",
    "\n",
    "%matplotlib widget\n",
    "_ = tiling_utils.tiled_region_interactive_remap(\n",
    "    tiled_region_fovs,\n",
    "    tiling_params,\n",
    "    slide_data,\n",
    "    tiled_region_path,\n",
    "    figsize=(7, 7)\n",
    ")"
   ]
  },
  {
   "cell_type": "markdown",
   "metadata": {},
   "source": [
    "## 5. Run JSON adjustment\n",
    "\n",
    "If you would like to break up your tiled file into smaller JSONs containing a specified amount of FOVs in each, you can do that using the code below. \n",
    "\n",
    "`file_split` is a list of values detailing how many FOVs to included in each new file, and must sum to the total number of FOVs in the run file."
   ]
  },
  {
   "cell_type": "code",
   "execution_count": null,
   "metadata": {},
   "outputs": [],
   "source": [
    "file_split = []\n",
    "\n",
    "split_run_file(tiled_regions_dir, os.path.basename(tiled_region_path), file_split)"
   ]
  }
 ],
 "metadata": {
  "kernelspec": {
   "display_name": "Python 3 (ipykernel)",
   "language": "python",
   "name": "python3"
  },
  "language_info": {
   "codemirror_mode": {
    "name": "ipython",
    "version": 3
   },
   "file_extension": ".py",
   "mimetype": "text/x-python",
   "name": "python",
   "nbconvert_exporter": "python",
   "pygments_lexer": "ipython3",
   "version": "3.8.13"
  }
 },
 "nbformat": 4,
 "nbformat_minor": 4
}
