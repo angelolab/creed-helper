{
 "cells": [
  {
   "cell_type": "code",
   "execution_count": null,
   "metadata": {},
   "outputs": [],
   "source": [
    "import os\n",
    "\n",
    "from toffy.fov_watcher import start_watcher\n",
    "from toffy.watcher_callbacks import build_extract_and_compute_qc_callback"
   ]
  },
  {
   "cell_type": "code",
   "execution_count": null,
   "metadata": {},
   "outputs": [],
   "source": [
    "# data_dir should contain *.bin's and *.json's, no subdirs for now\n",
    "base_dir = 'D:\\\\Data\\\\YYYY-MM-DD_run_name'\n",
    "\n",
    "# create a new folder to hold callback outputs\n",
    "watcher_out = os.path.join(base_dir, 'watcher_out')\n",
    "if not os.path.exists(watcher_out):\n",
    "    os.makedirs(watcher_out)\n",
    "\n",
    "# specify panel (global per-target mass range tuple)\n",
    "panel = (-0.3, 0.0)\n",
    "# or pd.Dataframe (ex. from csv)\n",
    "# panel = pd.read_csv(path_to_panel)"
   ]
  },
  {
   "cell_type": "code",
   "execution_count": null,
   "metadata": {},
   "outputs": [],
   "source": [
    "per_fov = [build_extract_and_compute_qc_callback(panel)]\n",
    "per_run = []"
   ]
  },
  {
   "cell_type": "code",
   "execution_count": null,
   "metadata": {},
   "outputs": [],
   "source": [
    "start_watcher(base_dir, per_fov, per_run)"
   ]
  }
 ],
 "metadata": {
  "language_info": {
   "name": "python"
  },
  "orig_nbformat": 4
 },
 "nbformat": 4,
 "nbformat_minor": 2
}
