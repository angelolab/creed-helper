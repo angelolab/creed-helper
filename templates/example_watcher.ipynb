{
 "cells": [
  {
   "cell_type": "markdown",
   "metadata": {},
   "source": [
    "# FoV Watching Notebook\n",
    "\n",
    "This notebook can be run alongside an active MIBIScope run.  As data is copied from the instrument\n",
    "compute, this notebook will pass the data through pre-specified functions, which can perform\n",
    "extraction, qc metric computation, rosetta corrections, etc. while data is being collected.\n",
    "\n",
    "This notebook shows the use of the extraction and qc metric computation 'callbacks'\n",
    "\n",
    "You will need the path to the folder data is copied in to, as well as a panel csv file."
   ]
  },
  {
   "cell_type": "code",
   "execution_count": null,
   "metadata": {},
   "outputs": [],
   "source": [
    "import os\n",
    "import pandas as pd\n",
    "\n",
    "from toffy.fov_watcher import start_watcher\n",
    "from toffy.watcher_callbacks import build_extract_callback, build_qc_callback"
   ]
  },
  {
   "cell_type": "markdown",
   "metadata": {},
   "source": [
    "## Path specification\n",
    "\n",
    " - `base_dir` should point to your run folder i.e where .bin and .json files are transfered to.\n",
    " - `panel_path` should point to a panel csv, with columns `Mass, Target, Start, Stop`.\n",
    " - `log_path` should point to where a log files should be written"
   ]
  },
  {
   "cell_type": "code",
   "execution_count": null,
   "metadata": {},
   "outputs": [],
   "source": [
    "# data_dir should contain *.bin's and *.json's, no subdirs for now\n",
    "run_name = 'YYYY-MM-DD_run_name'\n",
    "base_dir = os.path.join('D:\\\\Data', run_name)\n",
    "\n",
    "# path to user panel\n",
    "panel_path = 'C:\\\\Users\\\\Ionpath\\\\my_cool_panel.csv'\n",
    "\n",
    "# path to log folder\n",
    "log_path = 'D:\\\\WatcherLogs'\n",
    "\n",
    "# load panel\n",
    "panel = pd.read_csv(panel_path)"
   ]
  },
  {
   "cell_type": "markdown",
   "metadata": {},
   "source": [
    "## Callback initialization\n",
    "\n",
    "Callbacks listed in `per_fov` will be run on each completed FoV, the moment both the .bin & .json\n",
    "are found. Callbacks listed in `per_run` will be run only once all expected FoV's have been\n",
    "discovered and processed.  Currently, no callbacks have been specified `per_run`.\n",
    "\n",
    "Each callback will need a location to save its relevant data. This notebooks will generate\n",
    "that location\n",
    "\n",
    "`build_extract_callback` specifies that every FoV generate tiffs according to the supplied `panel`.\n",
    "Additional arguments are `intensities` which when set to True, will extract the intensity data, and\n",
    "`time_res` which will overwrite the default time resolution.\n",
    "\n",
    "`build_qc_callback` will run all currently available qc metrics on the FoV.  Additional arguments\n",
    "are `gaussian_blur` and `blur_factor`."
   ]
  },
  {
   "cell_type": "code",
   "execution_count": null,
   "metadata": {},
   "outputs": [],
   "source": [
    "extraction_dir = os.path.join('D:\\\\ExtractedData', run_name)\n",
    "qc_dir = os.path.join('C:\\\\Users\\\\Ionpath\\\\Documents\\\\qc_data', run_name)\n",
    "\n",
    "per_fov = [\n",
    "    build_extract_callback(extraction_dir, panel, intensities=True),\n",
    "    build_qc_callback(qc_dir, panel)\n",
    "]\n",
    "per_run = []"
   ]
  },
  {
   "cell_type": "code",
   "execution_count": null,
   "metadata": {},
   "outputs": [],
   "source": [
    "start_watcher(base_dir, log_path, per_fov, per_run)"
   ]
  }
 ],
 "metadata": {
  "language_info": {
   "name": "python"
  },
  "orig_nbformat": 4
 },
 "nbformat": 4,
 "nbformat_minor": 2
}
