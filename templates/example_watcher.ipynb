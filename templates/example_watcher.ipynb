{
 "cells": [
  {
   "cell_type": "markdown",
   "metadata": {},
   "source": [
    "# FoV Watching Notebook\n",
    "\n",
    "This notebook can be run alongside an active MIBIScope run.  As data is copied from the instrument\n",
    "compute, this notebook will pass the data through pre-specified functions, which can perform\n",
    "extraction, qc metric computation, rosetta corrections, etc. while data is being collected.\n",
    "\n",
    "This notebook shows the use of the extraction and qc metric computation 'callbacks'\n",
    "\n",
    "You will need the path to the folder data is copied in to, as well as a panel csv file."
   ]
  },
  {
   "cell_type": "code",
   "execution_count": null,
   "metadata": {},
   "outputs": [],
   "source": [
    "import os\n",
    "import pandas as pd\n",
    "\n",
    "from toffy.fov_watcher import start_watcher\n",
    "from toffy.watcher_callbacks import build_extract_callback, build_qc_callback"
   ]
  },
  {
   "cell_type": "code",
   "execution_count": null,
   "metadata": {},
   "outputs": [],
   "source": [
    "# data_dir should contain *.bin's and *.json's, no subdirs for now\n",
    "base_dir = 'D:\\\\Data\\\\YYYY-MM-DD_run_name'\n",
    "\n",
    "# path to user panel\n",
    "panel_path = 'D:\\\\Users\\\\Ionpath\\\\my_cool_panel.csv'\n",
    "\n",
    "# path to desired watcher ouptut directory\n",
    "# run will create its own subfolder\n",
    "# each callback will create its own subfolder within said run subfolder\n",
    "watcher_out = 'D\\\\Users\\\\Ionpath\\\\this_is_wherever_you_want_your_outputs'\n",
    "\n",
    "panel = pd.read_csv(panel_path)"
   ]
  },
  {
   "cell_type": "code",
   "execution_count": null,
   "metadata": {},
   "outputs": [],
   "source": [
    "per_fov = [\n",
    "    build_extract_callback(panel, intensities=True),\n",
    "    build_qc_callback(panel)\n",
    "]\n",
    "per_run = []"
   ]
  },
  {
   "cell_type": "code",
   "execution_count": null,
   "metadata": {},
   "outputs": [],
   "source": [
    "start_watcher(base_dir, watcher_out, per_fov, per_run)"
   ]
  }
 ],
 "metadata": {
  "language_info": {
   "name": "python"
  },
  "orig_nbformat": 4
 },
 "nbformat": 4,
 "nbformat_minor": 2
}
