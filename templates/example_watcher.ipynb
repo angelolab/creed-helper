{
 "cells": [
  {
   "cell_type": "code",
   "execution_count": null,
   "metadata": {},
   "outputs": [],
   "source": [
    "import os\n",
    "\n",
    "from toffy.fov_watcher import start_watcher"
   ]
  },
  {
   "cell_type": "code",
   "execution_count": null,
   "metadata": {},
   "outputs": [],
   "source": [
    "# data_dir should contain *.bin's and *.json's, no subdirs for now\n",
    "base_dir = 'D:\\\\Data\\\\2021-12-12_run_name'\n",
    "\n",
    "# create a new folder to hold callback outputs\n",
    "watcher_out = os.path.join(base_dir, 'watcher_out')\n",
    "if not os.path.exists(watcher_out):\n",
    "    os.makedirs(watcher_out)"
   ]
  },
  {
   "cell_type": "code",
   "execution_count": null,
   "metadata": {},
   "outputs": [],
   "source": [
    "# TODO: set up watching functions...\n",
    "\n",
    "per_fov = []\n",
    "per_run = []"
   ]
  },
  {
   "cell_type": "code",
   "execution_count": null,
   "metadata": {},
   "outputs": [],
   "source": [
    "start_watcher(base_dir, per_fov, per_run)"
   ]
  }
 ],
 "metadata": {
  "language_info": {
   "name": "python"
  },
  "orig_nbformat": 4
 },
 "nbformat": 4,
 "nbformat_minor": 2
}
