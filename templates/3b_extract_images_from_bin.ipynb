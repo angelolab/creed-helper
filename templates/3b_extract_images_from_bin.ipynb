{
 "cells": [
  {
   "cell_type": "markdown",
   "id": "156d1120-5faf-4914-8b92-fee3761aacde",
   "metadata": {
    "tags": []
   },
   "source": [
    "# Extract Bin Files\n",
    "\n",
    "This notebook will check for the previously extracted FOVs in an image directory and proceed to extract any remaining FOVs from the provided base directory."
   ]
  },
  {
   "cell_type": "code",
   "execution_count": null,
   "id": "57186f2e-8030-436d-85ff-b4a3aa4a446f",
   "metadata": {
    "tags": []
   },
   "outputs": [],
   "source": [
    "import os\n",
    "\n",
    "from toffy.panel_utils import generate_prof_panel, load_panel\n",
    "from toffy.bin_extraction import extract_missing_fovs"
   ]
  },
  {
   "cell_type": "markdown",
   "id": "e2ba233e-6904-409c-b324-162dc9ff10e7",
   "metadata": {},
   "source": [
    "## Required variables\n",
    "You will need to define the following two arguments for this notebook.\n",
    " - `run_name` should contain the exact name of the MIBI run to extract from\n",
    " - `panel_path` should point to a panel csv specifying the targets on your panel. You can download your panel online from the Ionpath MibiTracker and then copy the file to the `C:\\\\Users\\\\Customer.ION\\\\Documents\\panel_files` directory (see [panel format](https://github.com/angelolab/toffy#panel-format) for more information)"
   ]
  },
  {
   "cell_type": "code",
   "execution_count": null,
   "id": "2726b808-9378-41e5-a8d1-788a693e6937",
   "metadata": {
    "tags": []
   },
   "outputs": [],
   "source": [
    "# set up args for current run\n",
    "run_name = 'YYYY-MM-DD_run_name'\n",
    "panel_path = 'C:\\\\Users\\\\Customer.ION\\\\Documents\\\\panel_files\\\\my_cool_panel.csv'"
   ]
  },
  {
   "cell_type": "markdown",
   "id": "4491bec6",
   "metadata": {},
   "source": [
    "Everything necessary for and subsequently outputted from this notebook is stored in the automatic directories established in `1_set_up_toffy.ipynb`. More information on the uses and locations of the directories in toffy can be found in the [README](https://github.com/angelolab/toffy#directory-structure)."
   ]
  },
  {
   "cell_type": "code",
   "execution_count": null,
   "id": "6ffdb7b9-40d3-46a1-96c2-17bfa3605774",
   "metadata": {
    "tags": []
   },
   "outputs": [],
   "source": [
    "# read in panel information\n",
    "panel = load_panel(panel_path)\n",
    "\n",
    "# path to the directory containing the FOV bin files\n",
    "base_dir = os.path.join('D:\\\\Data', run_name) \n",
    "\n",
    "# path to directory containing extracted files\n",
    "extraction_dir = os.path.join('D:\\\\Extracted_Images', run_name)    \n",
    "if not os.path.exists(extraction_dir):\n",
    "    os.makedirs(extraction_dir)\n",
    "    \n",
    "# path to directory containing mass-proficient extracted files (for long-term storage)\n",
    "extraction_prof_dir = os.path.join('D:\\\\Extracted_Images', run_name + '_proficient')\n",
    "if not os.path.exists(extraction_prof_dir):\n",
    "    os.makedirs(extraction_prof_dir)"
   ]
  },
  {
   "cell_type": "markdown",
   "id": "8767f85a-6c91-4e4e-9fe1-2a1603fdf384",
   "metadata": {},
   "source": [
    "## Extract FOV bin files\n",
    "The function below will skip any previously extracted FOVs and print \"Extraction completed!\" when done. If you receive a warning message stating \"no viable bin files were found\", then all of the necessary FOVs have already been extracted."
   ]
  },
  {
   "cell_type": "code",
   "execution_count": null,
   "id": "cd6eda88-3003-496f-8c66-1697d570f05d",
   "metadata": {},
   "outputs": [],
   "source": [
    "# base extraction\n",
    "extract_missing_fovs(base_dir, extraction_dir, panel)\n",
    "\n",
    "# mass proficient extraction (for long-term storage)\n",
    "extract_missing_fovs(base_dir, extraction_prof_dir, generate_prof_panel(panel))"
   ]
  }
 ],
 "metadata": {
  "kernelspec": {
   "display_name": "Python 3 (ipykernel)",
   "language": "python",
   "name": "python3"
  },
  "language_info": {
   "codemirror_mode": {
    "name": "ipython",
    "version": 3
   },
   "file_extension": ".py",
   "mimetype": "text/x-python",
   "name": "python",
   "nbconvert_exporter": "python",
   "pygments_lexer": "ipython3",
   "version": "3.8.15"
  }
 },
 "nbformat": 4,
 "nbformat_minor": 5
}
