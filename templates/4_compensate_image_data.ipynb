{
 "cells": [
  {
   "cell_type": "markdown",
   "id": "ca8b60ef",
   "metadata": {},
   "source": [
    "## This notebook is an example: create a copy before running it or you will get merge conflicts!"
   ]
  },
  {
   "cell_type": "code",
   "execution_count": null,
   "id": "0b3f474f",
   "metadata": {},
   "outputs": [],
   "source": [
    "import sys\n",
    "sys.path.append('../')\n",
    "\n",
    "import os\n",
    "import shutil\n",
    "\n",
    "import skimage.io as io\n",
    "import pandas as pd\n",
    "from mibi_bin_tools import bin_files\n",
    "from toffy import rosetta\n",
    "\n",
    "from ark.utils.io_utils import list_folders, list_files"
   ]
  },
  {
   "cell_type": "markdown",
   "id": "d1db8364",
   "metadata": {},
   "source": [
    "### First, make a folder to hold all of the files related to rosetta processing, and put the full path below"
   ]
  },
  {
   "cell_type": "code",
   "execution_count": null,
   "id": "7955e002",
   "metadata": {},
   "outputs": [],
   "source": [
    "base_dir = 'path/to/base/dir'"
   ]
  },
  {
   "cell_type": "markdown",
   "id": "64aa3139",
   "metadata": {},
   "source": [
    "### Next, copy over the .bin files for the ~10 FOVs will you use for testing. In addition to the .bin files, make sure to copy over the .JSON files with the same name into this folder. Place them in a folder named *example_bins*.\n",
    "\n",
    "#### For example, fov-1-scan-1.bin, fov-1-scan-1.json, fov-23-scan-1.bin, fov-23-scan-1.json, etc"
   ]
  },
  {
   "cell_type": "code",
   "execution_count": null,
   "id": "952e3323",
   "metadata": {},
   "outputs": [],
   "source": [
    "# this folder should contain the bins and JSONs for the ~10 fovs\n",
    "test_bin_dir = os.path.join(base_dir, 'bin_files')"
   ]
  },
  {
   "cell_type": "markdown",
   "id": "e0647556",
   "metadata": {},
   "source": [
    "### Next, copy the *commercial_rosetta_matrix.csv* and the *example_panel_file.csv* files from the *files* directory of toffy into *base_dir*. Make sure to update the Target column of *example_panel_file.csv* with the details of your panel. For targets you aren't using, just leave the rows as is, don't delete them. Once you've updated the panel file, put the new name below. "
   ]
  },
  {
   "cell_type": "code",
   "execution_count": null,
   "id": "267afe31-8076-48d0-ac93-15de8009751b",
   "metadata": {},
   "outputs": [],
   "source": [
    "panel_file_name = 'example_panel_file.csv'"
   ]
  },
  {
   "cell_type": "markdown",
   "id": "d0ab49c5",
   "metadata": {},
   "source": [
    "### We'll then use this panel file to extract the images from the bin files\n"
   ]
  },
  {
   "cell_type": "code",
   "execution_count": null,
   "id": "c49d5357",
   "metadata": {},
   "outputs": [],
   "source": [
    "# specify folder to hold extracted files\n",
    "img_out_dir = os.path.join(base_dir, 'extracted_images')\n",
    "\n",
    "# Read in updated panel file\n",
    "panel = pd.read_csv(os.path.join(base_dir, panel_file_name))\n",
    "\n",
    "# extract the bin files\n",
    "bin_files.extract_bin_files(test_bin_dir, img_out_dir, panel=panel, intensities=['Au', 'chan_39'])\n",
    "\n",
    "# replace count images with intensity images\n",
    "rosetta.replace_with_intensity_image(run_dir=img_out_dir, channel='Au')\n",
    "rosetta.replace_with_intensity_image(run_dir=img_out_dir, channel='chan_39')\n",
    "\n",
    "# clean up dirs\n",
    "rosetta.remove_sub_dirs(run_dir=img_out_dir, sub_dirs=['intensities', 'intensity_times_width'])\n",
    "\n",
    "# normalize images to allow direct comparison with rosetta\n",
    "fovs = list_folders(img_out_dir)\n",
    "for fov in fovs:\n",
    "    fov_dir = os.path.join(img_out_dir, fov)\n",
    "    sub_dir = os.path.join(fov_dir, 'normalized')\n",
    "    os.makedirs(sub_dir)\n",
    "    chans = list_files(fov_dir)\n",
    "    for chan in chans:\n",
    "        img = io.imread(os.path.join(fov_dir, chan))\n",
    "        img = img / 100\n",
    "        io.imsave(os.path.join(sub_dir, chan), img, check_contrast=False)"
   ]
  },
  {
   "cell_type": "markdown",
   "id": "7239e333",
   "metadata": {},
   "source": [
    "### We'll now process the images with rosetta to remove signal contamination"
   ]
  },
  {
   "cell_type": "code",
   "execution_count": null,
   "id": "9b91311d",
   "metadata": {},
   "outputs": [],
   "source": [
    "# pick an informative name\n",
    "output_folder = 'rosetta_output'\n",
    "\n",
    "# create sub-folder to hold images and files from this set of multipliers\n",
    "output_folder_path = os.path.join(base_dir, output_folder)\n",
    "os.makedirs(output_folder_path)\n",
    "\n",
    "# compensate the data\n",
    "rosetta_mat_path = os.path.join(base_dir, 'commercial_rosetta_matrix.csv')\n",
    "rosetta.compensate_image_data(raw_data_dir=img_out_dir, comp_data_dir=output_folder_path,comp_mat_path=rosetta_mat_path, \n",
    "                              raw_data_sub_folder='normalized', panel_info=panel, batch_size=1, norm_const=1)"
   ]
  },
  {
   "cell_type": "markdown",
   "id": "1e0c72cb",
   "metadata": {},
   "source": [
    "### Now that we've generated the compensated data, we'll generate stitched images to visualize what signal was removed"
   ]
  },
  {
   "cell_type": "code",
   "execution_count": null,
   "id": "a05d772c",
   "metadata": {},
   "outputs": [],
   "source": [
    "# stitch images together to enable easy visualization of outputs\n",
    "stitched_dir = os.path.join(base_dir, 'stitched_images')\n",
    "os.makedirs(stitched_dir)\n",
    "\n",
    "rosetta.create_tiled_comparison(input_dir_list=[img_out_dir, output_folder_path], output_dir=stitched_dir)\n",
    "\n",
    "# add the source channel for gold and Noodle\n",
    "for channel in ['Au', 'Noodle']:\n",
    "    output_dir = os.path.join(base_dir, 'stitched_with_' + channel)\n",
    "    os.makedirs(output_dir)\n",
    "    rosetta.add_source_channel_to_tiled_image(raw_img_dir=img_out_dir, tiled_img_dir=stitched_dir,\n",
    "                                                 output_dir=output_dir, source_channel=channel)"
   ]
  },
  {
   "cell_type": "markdown",
   "id": "7b2274b4",
   "metadata": {},
   "source": [
    "### There will now be a folder named *stitched_with_Au* and *stitched_with_Noodle* within the *base_dir*. You can look through these stitched images to visualize what signal is being removed from the two most common source channels."
   ]
  },
  {
   "cell_type": "markdown",
   "id": "bd4f51e0-8bcc-4b5b-b2d3-6bc00140e0ca",
   "metadata": {},
   "source": [
    "### Once you're satisfied that the Rosetta is working appropriately, you can use it to process your entire dataset"
   ]
  },
  {
   "cell_type": "code",
   "execution_count": null,
   "id": "cc7b8a9a-3fa5-47ca-b845-e0e08b5ad190",
   "metadata": {},
   "outputs": [],
   "source": [
    "# Specify necessary folders\n",
    "\n",
    "# This should be a folder of run folders. Each folder within bin_file_dir should contain all of the .bin and .json files for that run\n",
    "bin_file_dir = 'path/to/cohort/all_runs'\n",
    "\n",
    "# This folder is where all of the extracted images will get saved\n",
    "extracted_image_dir = 'path/to/cohort/extracted_runs'"
   ]
  },
  {
   "cell_type": "code",
   "execution_count": null,
   "id": "791ed5c9-e98a-4966-afc4-d61625e2bd07",
   "metadata": {},
   "outputs": [],
   "source": [
    "# If you only want to extract a subset of your runs, specify their names here; otherwise, leave as None\n",
    "runs = None\n",
    "if runs is None:\n",
    "    runs = list_folders(bin_file_dir)\n",
    "\n",
    "for run in runs:\n",
    "    print(\"processing run {}\".format(run))\n",
    "    current_bin = os.path.join(bin_file_dir, run)\n",
    "    current_out = os.path.join(extracted_image_dir, run)\n",
    "    if not os.path.exists(current_out):\n",
    "        os.makedirs(current_out)\n",
    "        \n",
    "    # extract bins and replace gold image\n",
    "    bin_files.extract_bin_files(current_bin, current_out, panel=panel, intensities=['Au', 'chan_39'])\n",
    "    rosetta.replace_with_intensity_image(run_dir=current_out, channel='Au')\n",
    "    rosetta.replace_with_intensity_image(run_dir=current_out, channel='chan_39')\n",
    "    \n",
    "    # clean up dirs\n",
    "    rosetta.remove_sub_dirs(run_dir=current_out, sub_dirs=['intensities', 'intensity_times_width'])"
   ]
  },
  {
   "cell_type": "code",
   "execution_count": null,
   "id": "ce583c8d-2fff-4a87-9d41-3c02246eb56d",
   "metadata": {},
   "outputs": [],
   "source": [
    "# specify path to save rosetta images\n",
    "rosetta_image_dir = base_dir + 'rosetta_run_output'"
   ]
  },
  {
   "cell_type": "code",
   "execution_count": null,
   "id": "13d28546-47db-4827-9283-1a7fc7eb8ec2",
   "metadata": {},
   "outputs": [],
   "source": [
    "# Perform rosetta on extracted images\n",
    "for run in runs:\n",
    "    print(\"processing run {}\".format(run))\n",
    "    raw_img_dir = os.path.join(extracted_image_dir, run)\n",
    "    out_dir = os.path.join(rosetta_image_dir, run)\n",
    "    if not os.path.exists(out_dir):\n",
    "        os.makedirs(out_dir)\n",
    "    rosetta.compensate_image_data(raw_data_dir=raw_img_dir, comp_data_dir=out_dir, \n",
    "                                 comp_mat_path=rosetta_mat_path, panel_info=panel, batch_size=1)"
   ]
  }
 ],
 "metadata": {
  "kernelspec": {
   "display_name": "Python 3 (ipykernel)",
   "language": "python",
   "name": "python3"
  },
  "language_info": {
   "codemirror_mode": {
    "name": "ipython",
    "version": 3
   },
   "file_extension": ".py",
   "mimetype": "text/x-python",
   "name": "python",
   "nbconvert_exporter": "python",
   "pygments_lexer": "ipython3",
   "version": "3.8.12"
  }
 },
 "nbformat": 4,
 "nbformat_minor": 5
}
