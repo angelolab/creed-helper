{
 "cells": [
  {
   "cell_type": "markdown",
   "id": "4b462d6b-60ea-4b60-80cd-92ced4b456a6",
   "metadata": {},
   "source": [
    "# Image Compensation (Rosetta  Round 2)"
   ]
  },
  {
   "cell_type": "markdown",
   "id": "1ee3f423-8ad5-4fec-9e0b-5b016976f441",
   "metadata": {},
   "source": [
    "After Rosetta Round 1, an unlikely scenario may occur that cause a channel(s) to still retain sources of background/noise as a result of residual contamination from another channel. This notebook allows you to apply an additional round of compensation by limiting the scope of Rosetta to problematic sets of channels. To learn more about the Rosetta algorithm, please refer to the [base Rosetta notebook](https://github.com/angelolab/toffy/blob/main/templates/4a_compensate_image_data.ipynb). <b>Note that you must have ran `4a_compensate_image_data.ipynb` before using this notebook</b>.\n",
    "\n",
    "The Rosetta matrix contains rows for each of the sources of noise, and columns for each of the output channels. Each entry in the matrix represents the proportional contamination from a given noise channel to a given output channel. Unlike Rosetta Round 1, all default values in the compensation matrix of Rosetta Round 2 will be 0, since only specific user-defined channels will be compensated further. As in Round 1 with the Noodle coefficient, Round 2 allows the user to modify the coefficient for the problematic output channel.\n",
    "\n",
    "In the following Rosetta matrix example:\n",
    "\n",
    "<img src=\"./img/rosetta_matrix_entry.png\"/>\n",
    "\n",
    "we're applying a 0.25 multiplier to compensate output channel 144 from input channel 147."
   ]
  },
  {
   "cell_type": "markdown",
   "id": "fb7f41ec-6265-408f-8abf-f71bfcd67a15",
   "metadata": {},
   "source": [
    "## This notebook consists of 3 steps:\n",
    "\n",
    "**1. Define directories, which includes the path to the test set you generated for Round 1 Rosetta.**\n",
    "\n",
    "**2. Test Rosetta on this subset of FOVs to find good coefficients for the Round 2 compensation matrix.**\n",
    "\n",
    "**3. Use the finalized Round 2 matrix to process all of the data.**"
   ]
  },
  {
   "cell_type": "code",
   "execution_count": null,
   "id": "fd1fa38e-c44b-47df-91a5-305c8c900f43",
   "metadata": {},
   "outputs": [],
   "source": [
    "import sys\n",
    "sys.path.append('../')\n",
    "\n",
    "import os\n",
    "import shutil\n",
    "\n",
    "import skimage.io as io\n",
    "from toffy import rosetta\n",
    "from toffy.panel_utils import load_panel\n",
    "from toffy.image_stitching import get_max_img_size\n",
    "from alpineer.io_utils import list_folders, list_files"
   ]
  },
  {
   "cell_type": "markdown",
   "id": "7f9a974a-b622-44aa-a282-302dd3cdde66",
   "metadata": {},
   "source": [
    "## 1. Setup"
   ]
  },
  {
   "cell_type": "markdown",
   "id": "209edc4c-fc3e-400f-affe-017d4834ffea",
   "metadata": {},
   "source": [
    "Below, you will set up the necessary structure for testing rosetta on all of your runs.\n",
    "- `cohort_name` is the name of the cohort you used in `4a_compensate_image_data.ipynb`\n",
    "- `panel_path` should point to a panel csv specifying the targets on your panel (see [panel format](https://github.com/angelolab/toffy#panel-format) for more information)"
   ]
  },
  {
   "cell_type": "code",
   "execution_count": null,
   "id": "8c140a4c-9328-4032-b7ac-b9c62b578b48",
   "metadata": {},
   "outputs": [],
   "source": [
    "# run specifications\n",
    "cohort_name = '20220101_new_cohort'\n",
    "panel_path = 'C:\\\\Users\\\\Customer.ION\\\\Documents\\\\panel_files\\\\my_cool_panel.csv'"
   ]
  },
  {
   "cell_type": "markdown",
   "id": "c699866a-a6b1-4db1-ab4c-712e8d4fc8c2",
   "metadata": {},
   "source": [
    "By default, the `commercial_rosetta_matrix_round2.csv` from the `files` directory of toffy will be used for rosetta.\n",
    "\n",
    "* `default_matrix_path`: the default path points to a `.csv` file with all zeros. You will need to provide your own `.csv` which contains the values you need."
   ]
  },
  {
   "cell_type": "code",
   "execution_count": null,
   "id": "e872c7b9-5507-4b1e-8af9-34119b4ea07e",
   "metadata": {},
   "outputs": [],
   "source": [
    "# default rosetta matrix provided in toffy\n",
    "default_matrix_path = os.path.join('..', 'files', 'commercial_rosetta_matrix_round2.csv')\n",
    "\n",
    "rosetta_testing_dir = 'C:\\\\Users\\\\Customer.ION\\\\Documents\\\\rosetta_testing'\n",
    "\n",
    "# read in toffy panel file\n",
    "panel = load_panel(panel_path)"
   ]
  },
  {
   "cell_type": "markdown",
   "id": "ad93ed28-3ebe-4eb5-9ef0-6ae75d743a4f",
   "metadata": {},
   "source": [
    "The rosetta matrix provided by the path above will be copied into the cohort's testing directory, suffixed with `_round2` to prevent ambiguity. Additionally, the script verifies that test data has been generated for this cohort."
   ]
  },
  {
   "cell_type": "code",
   "execution_count": null,
   "id": "1d4cc951-aac2-4cff-9c17-3fc29a5c22c1",
   "metadata": {},
   "outputs": [],
   "source": [
    "# verify that testing data has been generated for this cohort\n",
    "if not os.path.exists(os.path.join(rosetta_testing_dir, cohort_name)):\n",
    "    raise ValueError('Cohort %s does not have testing data in %s: please double check these variables' % (rosetta_testing_dir, cohort_name))\n",
    "\n",
    "# copy rosetta matrix\n",
    "shutil.copyfile(default_matrix_path, \n",
    "                os.path.join(rosetta_testing_dir, cohort_name, 'commercial_rosetta_matrix_round2.csv'))\n",
    "                     \n",
    "img_out_dir = os.path.join(rosetta_testing_dir, cohort_name, 'extracted_images')"
   ]
  },
  {
   "cell_type": "markdown",
   "id": "df619a8a-e033-4165-820c-1b537fa21746",
   "metadata": {},
   "source": [
    "## 2. Rosetta - Remove Signal Contamination\n",
    "\n",
    "We'll now process the images with rosetta to remove signal contamination at varying levels. **We'll be testing out coefficient multipliers in proportion to their value in the default matrix for the specified `current_channel_name`, compensated against the channel(s) in `output_channel_names`.** For example, specifying multipliers of 0.5, 1, and 2 would test coefficients that are half the size, the same size, and twice the size of the `current_channel_name` coefficients in the default matrix, respectively. **This will give us a new set of compensated images, using different values in each compensation matrix.**\n",
    "\n",
    "* `current_channel_name`: the channel that you will be optimizing the coefficient for.\n",
    "* `multipliers`: the range of values to multiply the default matrix by to get new coefficients.\n",
    "* `folder_name`: the name of the folder to store the Rosetta data. This will be placed in `rosetta_testing_dir/cohort_name`.\n",
    "* `output_channel_names`: the channel(s) that you will be compensating for"
   ]
  },
  {
   "cell_type": "code",
   "execution_count": null,
   "id": "ebbc1465-46dd-41c3-bb25-a096e1623ec1",
   "metadata": {},
   "outputs": [],
   "source": [
    "# pick the channel that you will be optimizing the coefficient for\n",
    "current_channel_name = 'Noodle'\n",
    "\n",
    "# set multipliers\n",
    "multipliers = [0.5, 1, 2]\n",
    "\n",
    "# pick an informative name\n",
    "folder_name = 'rosetta_test1'\n",
    "\n",
    "# channel(s) you will be compensating for\n",
    "output_channel_names = ['Ecadherin']"
   ]
  },
  {
   "cell_type": "markdown",
   "id": "be81aefd-0a1b-4e7f-ba5c-8a7df38e167f",
   "metadata": {},
   "source": [
    "Run compensation on example images. This should be much faster than `4a_compensate_image_data.ipynb` since far fewer channels are being compensated against."
   ]
  },
  {
   "cell_type": "code",
   "execution_count": null,
   "id": "254685d9-e785-45e4-94e4-2f15e3f8cb67",
   "metadata": {},
   "outputs": [],
   "source": [
    "rosetta_mat_path = os.path.join(rosetta_testing_dir, cohort_name, 'commercial_rosetta_matrix_round2.csv')\n",
    "\n",
    "# create sub-folder to hold images and files from this set of multipliers\n",
    "folder_path = os.path.join(rosetta_testing_dir, cohort_name, folder_name)\n",
    "if os.path.exists(folder_path):\n",
    "    raise ValueError('This folder {} already exists, please' \n",
    "                     'pick a new name for each set of parameters'.format(folder_name))\n",
    "else:\n",
    "    os.makedirs(folder_path)\n",
    "\n",
    "# compensate the example fov images\n",
    "rosetta.generate_rosetta_test_imgs(rosetta_mat_path, img_out_dir, multipliers, folder_path, \n",
    "                                   panel, current_channel_name, output_channel_names=output_channel_names,\n",
    "                                   gaus_rad=0, norm_const=1)"
   ]
  },
  {
   "cell_type": "markdown",
   "id": "943a4322-cca7-498d-8b78-4731098d0fe2",
   "metadata": {},
   "source": [
    "Now that we've generated the compensated data for the given multipliers, we'll generate stitched images to make comparing the different coefficients easier."
   ]
  },
  {
   "cell_type": "code",
   "execution_count": null,
   "id": "d99998d9-7e14-46f6-a2ab-9eca8ccd34c0",
   "metadata": {},
   "outputs": [],
   "source": [
    "# stitch images together to enable easy visualization of outputs\n",
    "stitched_dir = os.path.join(folder_path, 'stitched_images')\n",
    "os.makedirs(stitched_dir)\n",
    "\n",
    "rosetta_dirs=[img_out_dir]\n",
    "for mult in multipliers:\n",
    "    rosetta_dirs.append(os.path.join(folder_path, f'compensated_data_{mult}'))\n",
    "\n",
    "img_size = get_max_img_size(img_out_dir)\n",
    "rosetta.create_tiled_comparison(input_dir_list=rosetta_dirs, output_dir=stitched_dir, max_img_size=img_size, \n",
    "                                channels=output_channel_names)\n",
    "\n",
    "# add the source channel as first row to make evaluation easier\n",
    "output_dir = os.path.join(rosetta_testing_dir, cohort_name, folder_name + '-stitched_with_' + current_channel_name)\n",
    "os.makedirs(output_dir)\n",
    "rosetta.add_source_channel_to_tiled_image(raw_img_dir=img_out_dir, tiled_img_dir=stitched_dir,\n",
    "                                          output_dir=output_dir, source_channel=current_channel_name,\n",
    "                                          max_img_size=img_size, img_sub_folder='rescaled',\n",
    "                                          percent_norm=None)\n",
    "\n",
    "# remove the intermediate compensated_data_{mult} and stitched_image dirs\n",
    "rosetta.clean_rosetta_test_dir(folder_path)"
   ]
  },
  {
   "cell_type": "markdown",
   "id": "6ed163f3-0fca-432a-9521-9fa696a22585",
   "metadata": {},
   "source": [
    "There will now exist a folder named `{folder_name}-stitched_with_{current_channel_name}` (based on the folder name you provided above for this test) in your cohort testing directory. You can look through these stitched images to visualize what signal is being removed from the Noodle channel.\n",
    "\n",
    "The output format of the images will be similar to `4a_compensate_image_data.ipynb`. Please refer to [that notebook](https://github.com/angelolab/toffy/blob/main/templates/4a_compensate_image_data.ipynb) to see an example."
   ]
  },
  {
   "cell_type": "markdown",
   "id": "3c3581f8-9f4a-4ba3-9d43-a91a449b1dcb",
   "metadata": {},
   "source": [
    "Within the `folder_name` directory, you will find matrices files updated with the provided multipliers. If you're happy with one multiplier (e.g. 0.5), **find the corresponding matrix** `commercial_rosetta_matrix_mult_0.5.csv` **and rename it**. You can then run the cell below with your updated `final_matrix_name` and move on to the final section. \n",
    "    \n",
    "**A copy of your final rosetta matrix will be saved to `C:\\\\Users\\\\Customer.ION\\\\Documents\\\\rosetta_matrices`.**"
   ]
  },
  {
   "cell_type": "code",
   "execution_count": null,
   "id": "5a93476e-ab06-4926-92f3-b3fce4d7aa03",
   "metadata": {},
   "outputs": [],
   "source": [
    "# rename your rosetta matrix and put the path to final file here\n",
    "final_matrix_name = 'cohort_name_rosetta_matrix_round2.csv'\n",
    "\n",
    "rosetta_path = os.path.join(rosetta_testing_dir, cohort_name, folder_name, final_matrix_name)\n",
    "\n",
    "# copy final rosetta matrix to matrix folder\n",
    "rosetta_matrix_dir = 'C:\\\\Users\\\\Customer.ION\\\\Documents\\\\rosetta_matrices'\n",
    "shutil.copyfile(rosetta_path, os.path.join(rosetta_matrix_dir, final_matrix_name))"
   ]
  },
  {
   "cell_type": "markdown",
   "id": "219282a9-73ca-4ff3-893b-b22664e5dc8b",
   "metadata": {},
   "source": [
    "### (Optional) Optimize Your Compensation Matrix\n",
    "However, if you would like to further adjust the amount of noise being removed, you can **re-run the code cells in Section 2** to optimize the compensation matrix for your data; you can try new multiplier values until you find one that is able to give you your desired images. When re-running the code, you will need to update the `multipliers` variable and a provide a new `folder_name`. The previously generated stitched images can help you determine whether the new multipliers need to be higher or lower.\n",
    "\n",
    "**After re-running rosetta, examine your new set of stitched images and check if you are happy with the images produced. Be sure to rename and save your chosen compensation matrix before proceeding to step 3.** "
   ]
  },
  {
   "cell_type": "markdown",
   "id": "b2f8c9bb-031d-4254-8eb8-e8a5d8408087",
   "metadata": {},
   "source": [
    "## 3. Rosetta - Compensate Your Runs"
   ]
  },
  {
   "cell_type": "markdown",
   "id": "b8384bff-b4ba-4a2a-b688-77f21de4accb",
   "metadata": {},
   "source": [
    "**Once you're satisfied that the Rosetta is working appropriately, you can use it to process your runs.** First select the runs you want to process, and define the relevant top-level folders.\n",
    "- `runs` is a list of all the runs you would like to process, this should be the same as the runs list you used in `4a_compensate_image_data.ipynb`\n",
    "- `final_matrix_name` is the name of the matrix you wish to use for compensation, stored in **`C:\\\\Users\\\\Customer.ION\\\\Documents\\\\rosetta_matrices`**"
   ]
  },
  {
   "cell_type": "code",
   "execution_count": null,
   "id": "7bcb297e-5260-4419-8399-49ebab3d8730",
   "metadata": {},
   "outputs": [],
   "source": [
    "# replace this with the run list used in 4a_compensate_image_data.ipynb\n",
    "runs = ['example_run_1', 'example_run_2']\n",
    "\n",
    "# provide the matrix file name\n",
    "final_matrix_name = 'cohort_name_rosetta_matrix_round2.csv'\n",
    "\n",
    "# rosetta compensated directory from previous round\n",
    "extracted_imgs_dir = 'D:\\\\Rosetta_Compensated_Images'\n",
    "\n",
    "# if you would like to process all of the run folders in the image dir instead of just the runs tested, you can use the below line\n",
    "# runs = list_folders(extracted_imgs_dir)"
   ]
  },
  {
   "cell_type": "markdown",
   "id": "de8b08f5-d52f-4dea-8603-ec4d8a2516dd",
   "metadata": {},
   "source": [
    "Everything necessary for and subsequently outputted from this section of the notebook is stored in the automatic directories established in `1_set_up_toffy.ipynb`. More information on the uses and locations of the directories in toffy can be found in the [README](https://github.com/angelolab/toffy#directory-structure).\n",
    "\n",
    "* `rosetta_image_dir`: rename to the directory you wish to write Rosetta Round 2 data to\n",
    "* `extracted_imgs_dir`: the directory containing Rosetta compensated data generated from Round 1 (`4a_compensate_image_data.ipynb`)"
   ]
  },
  {
   "cell_type": "code",
   "execution_count": null,
   "id": "bb5334bc-a400-4765-98f8-d54995d6342e",
   "metadata": {},
   "outputs": [],
   "source": [
    "# holds the post-rosetta round 2 images\n",
    "rosetta_image_dir = 'D:\\\\Rosetta_Compensated_Images\\\\Round2'\n",
    "\n",
    "rosetta_matrix_dir = 'C:\\\\Users\\\\Customer.ION\\\\Documents\\\\rosetta_matrices'\n",
    "final_rosetta_path = os.path.join(rosetta_matrix_dir, final_matrix_name)"
   ]
  },
  {
   "cell_type": "markdown",
   "id": "6550b53f-af70-4540-932c-f921f054e6a7",
   "metadata": {},
   "source": [
    "Now, you can compensate the data using rosetta. Depending on how many runs and FOVs you will be processing, this can take a while. Feel free to leave the notebook running overnight (do not to close jupyter lab or the terminal window), and also make sure you have enough storage space for the new images produced.\n",
    "\n",
    "* `final_output_channel_names`: if you compensated multiple output channels during the previous step, make sure to specify all the ones used in this variable"
   ]
  },
  {
   "cell_type": "code",
   "execution_count": null,
   "id": "2246a4ce-7f5a-4bb4-8236-fddb309aa183",
   "metadata": {},
   "outputs": [],
   "source": [
    "# final channel(s) you will be compensating for\n",
    "final_output_channel_names = ['Ecadherin']\n",
    "\n",
    "# generate the output masses from the channels provided\n",
    "output_masses = rosetta.get_masses_from_channel_names(final_output_channel_names, panel)\n",
    "\n",
    "# generate the other target names, these will need to be copied from extracted_imgs_dir (V1 Rosetta)\n",
    "non_output_targets = list(panel[~panel['Target'].isin(final_output_channel_names)]['Target'].values)\n",
    "\n",
    "# perform rosetta on the provided runs, copy over necessary files from Rosetta V1\n",
    "for run in runs:\n",
    "    print(\"processing run {}\".format(run))\n",
    "    if not os.path.exists(os.path.join(rosetta_image_dir, run)):\n",
    "        os.makedirs(os.path.join(rosetta_image_dir, run))\n",
    "    rosetta.compensate_image_data(raw_data_dir=os.path.join(extracted_imgs_dir, run), \n",
    "                                  comp_data_dir=os.path.join(rosetta_image_dir, run), \n",
    "                                  comp_mat_path=final_rosetta_path, panel_info=panel,\n",
    "                                  raw_data_sub_folder='rescaled', batch_size=1,\n",
    "                                  gaus_rad=0, norm_const=1, output_masses=output_masses)\n",
    "\n",
    "rosetta.copy_round_one_compensated_images(rosetta_image_dir, extracted_imgs_dir, non_output_targets)"
   ]
  }
 ],
 "metadata": {
  "kernelspec": {
   "display_name": "Python 3 (ipykernel)",
   "language": "python",
   "name": "python3"
  },
  "language_info": {
   "codemirror_mode": {
    "name": "ipython",
    "version": 3
   },
   "file_extension": ".py",
   "mimetype": "text/x-python",
   "name": "python",
   "nbconvert_exporter": "python",
   "pygments_lexer": "ipython3",
   "version": "3.8.15"
  }
 },
 "nbformat": 4,
 "nbformat_minor": 5
}
