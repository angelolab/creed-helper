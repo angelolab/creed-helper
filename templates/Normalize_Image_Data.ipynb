{
 "cells": [
  {
   "cell_type": "markdown",
   "id": "8e012798-3632-4107-8d5a-5f47e7671a9d",
   "metadata": {
    "tags": []
   },
   "source": [
    "## Preamble goes here"
   ]
  },
  {
   "cell_type": "code",
   "execution_count": 1,
   "id": "c9751084-7855-4005-b152-55895ff40823",
   "metadata": {},
   "outputs": [],
   "source": [
    "import sys\n",
    "sys.path.append('../')\n",
    "\n",
    "from toffy import detector_sweep, watcher_functions, normalize"
   ]
  },
  {
   "cell_type": "code",
   "execution_count": null,
   "id": "108b1fb0-822b-42c0-ae27-8272afc4557b",
   "metadata": {},
   "outputs": [],
   "source": [
    "bin_file_dir = 'path_to_top_level_directory'\n",
    "extracted_tif_dir = 'path_to_extracted_tifs'\n",
    "normalized_tif_dir = 'path_to_normalized_tifs'"
   ]
  },
  {
   "cell_type": "code",
   "execution_count": null,
   "id": "bf875fb2-d459-4a77-9b3c-9e27dffc445b",
   "metadata": {},
   "outputs": [],
   "source": [
    "# Identify the detector sweep(s) to be used for generating the normalization function. Each tuple should contain the \n",
    "# start and end FOV name corresponding to a single detector sweep\n",
    "detector_sweep_names = [('Detector_2000v_2022-02-02_12-01-01', 'Detector_2250v_2022-02-02_12-07-01'), \n",
    "                        ('Detector_2000v_2022-02-05_13-10-01', 'Detector_2250v_2022-02-05_13-12-01')]\n",
    "all_fovs = []\n",
    "for detector_names in detector_sweep_names:\n",
    "    all_fovs.extend(detector_sweep(data_dir=bin_file_dir, first_fov=detector_names[0], last_fov=detector_names[1]))\n",
    "\n",
    "all_folders = [os.path.join(bin_file_dir, fov) for fov in all_fovs]"
   ]
  },
  {
   "cell_type": "code",
   "execution_count": null,
   "id": "0296d8a0-532a-4730-916e-45a47c274420",
   "metadata": {},
   "outputs": [],
   "source": [
    "# compute pulse heights for each FOV if not already computed\n",
    "for fov in all_fovs:\n",
    "    if not os.path.exists(os.path.join(base_dir, fov, 'fov-1-scan-1_pulse_heights.csv')):\n",
    "        watcher_functions.compute_pulse_heights # TODO"
   ]
  },
  {
   "cell_type": "code",
   "execution_count": null,
   "id": "c04451f5-b6f1-4528-a462-ce9ce54e355c",
   "metadata": {},
   "outputs": [],
   "source": [
    "# compute channel counts for each FOV if not already computed\n",
    "for fov in all_fovs:\n",
    "    if not os.path.exists(os.path.join(base_dir, fov, 'fov-1-scan-1_pulse_heights.csv')):\n",
    "        watcher_functions.compute_pulse_heights # TODO"
   ]
  },
  {
   "cell_type": "code",
   "execution_count": null,
   "id": "d93086fe-cd00-4527-ae95-4949af6df36b",
   "metadata": {},
   "outputs": [],
   "source": [
    "# combine data together into single df\n",
    "combined_norm_data = normalize.combine_tuning_curve_metrics(all_folders)"
   ]
  },
  {
   "cell_type": "code",
   "execution_count": null,
   "id": "64519788-ac9d-4613-90cf-5353e89797e4",
   "metadata": {},
   "outputs": [],
   "source": [
    "# Fit the calibr"
   ]
  }
 ],
 "metadata": {
  "kernelspec": {
   "display_name": "Python 3 (ipykernel)",
   "language": "python",
   "name": "python3"
  },
  "language_info": {
   "codemirror_mode": {
    "name": "ipython",
    "version": 3
   },
   "file_extension": ".py",
   "mimetype": "text/x-python",
   "name": "python",
   "nbconvert_exporter": "python",
   "pygments_lexer": "ipython3",
   "version": "3.8.12"
  }
 },
 "nbformat": 4,
 "nbformat_minor": 5
}
