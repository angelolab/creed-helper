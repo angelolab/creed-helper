{
 "cells": [
  {
   "cell_type": "markdown",
   "id": "156d1120-5faf-4914-8b92-fee3761aacde",
   "metadata": {
    "tags": []
   },
   "source": [
    "# Extract Bin Files\n",
    "\n",
    "## This notebook is an example: create a copy before running it or you will get merge conflicts!"
   ]
  },
  {
   "cell_type": "code",
   "execution_count": 1,
   "id": "57186f2e-8030-436d-85ff-b4a3aa4a446f",
   "metadata": {},
   "outputs": [],
   "source": [
    "import os\n",
    "\n",
    "from toffy.bin_extraction import extract_missing_fovs\n",
    "from mibi_bin_tools import bin_files, io_utils"
   ]
  },
  {
   "cell_type": "markdown",
   "id": "e2ba233e-6904-409c-b324-162dc9ff10e7",
   "metadata": {},
   "source": [
    "## Required variables\n",
    "\n",
    " - `run_name` should contain the exact name of the MIBI run to extract from\n",
    " - `panel_path` should point to a panel csv specifying the targets on your panel. For an example, see the [example panel file](https://github.com/angelolab/toffy/blob/main/files/example_panel_file.csv)"
   ]
  },
  {
   "cell_type": "code",
   "execution_count": 10,
   "id": "2726b808-9378-41e5-a8d1-788a693e6937",
   "metadata": {},
   "outputs": [],
   "source": [
    "# the name of the run\n",
    "run_name = 'YYYY-MM-DD_run_name'\n",
    "\n",
    "# path to user panel\n",
    "panel_path = 'C:\\\\Users\\\\Customer.ION\\\\Documents\\\\panel_files\\\\my_cool_panel.csv'\n",
    "panel = pd.read_csv(panel_path) \n",
    "\n",
    "# path to the directory containing the FOV bin files\n",
    "base_dir = os.path.join('D:\\\\Data', run_name) \n",
    "\n",
    "# path to directory containing extracted files\n",
    "extraction_dir = os.path.join('D:\\\\Extracted_Images', run_name)    \n",
    "if not os.path.exists(extraction_dir):\n",
    "    os.makedirs(extraction_dir)"
   ]
  },
  {
   "cell_type": "markdown",
   "id": "8767f85a-6c91-4e4e-9fe1-2a1603fdf384",
   "metadata": {},
   "source": [
    "## Extract FOV bin files\n",
    "\n",
    "The default for `extract_bin_files` is to not extract the intensity data."
   ]
  },
  {
   "cell_type": "code",
   "execution_count": 14,
   "id": "cd6eda88-3003-496f-8c66-1697d570f05d",
   "metadata": {},
   "outputs": [
    {
     "name": "stdout",
     "output_type": "stream",
     "text": [
      " \n"
     ]
    }
   ],
   "source": [
    "# whether to extract the intensitiy and intensity * width images\n",
    "# if a List, specific peaks can be extracted while the others only extract pulse count images\n",
    "extract_intensities = False\n",
    "# extract_intensities = []\n",
    "\n",
    "extract_missing_fovs(base_dir, extraction_dir, panel, extract_intensities)"
   ]
  }
 ],
 "metadata": {
  "kernelspec": {
   "display_name": "toffy_env",
   "language": "python",
   "name": "toffy_env"
  },
  "language_info": {
   "codemirror_mode": {
    "name": "ipython",
    "version": 3
   },
   "file_extension": ".py",
   "mimetype": "text/x-python",
   "name": "python",
   "nbconvert_exporter": "python",
   "pygments_lexer": "ipython3",
   "version": "3.8.12"
  }
 },
 "nbformat": 4,
 "nbformat_minor": 5
}
