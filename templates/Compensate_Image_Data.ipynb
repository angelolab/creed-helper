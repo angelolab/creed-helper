{
 "cells": [
  {
   "cell_type": "markdown",
   "id": "f8ad6781",
   "metadata": {},
   "source": [
    "### This notebook will guide you through the process of optimizing a compensation matrix for your data. Before starting, it is recommended that you pick ~10 representative FOVs from your cohort that demonstrate the full spectrum of cell types and marker expressions you expect to see"
   ]
  },
  {
   "cell_type": "code",
   "execution_count": null,
   "id": "07fbafa6",
   "metadata": {},
   "outputs": [],
   "source": [
    "import sys\n",
    "sys.path.append('../')\n",
    "\n",
    "import os\n",
    "\n",
    "import pandas as pd\n",
    "from mibi_bin_tools import bin_files\n",
    "from toffy import rosetta"
   ]
  },
  {
   "cell_type": "markdown",
   "id": "e99edf6f",
   "metadata": {},
   "source": [
    "### First, make a folder to hold all of the iterations of parameter testing, then put the full path to that folder below"
   ]
  },
  {
   "cell_type": "code",
   "execution_count": 4,
   "id": "80553717",
   "metadata": {},
   "outputs": [],
   "source": [
    "base_dir = 'path_to_folder`"
   ]
  },
  {
   "cell_type": "markdown",
   "id": "4f08e431",
   "metadata": {},
   "source": [
    "### Next, copy over the .bin files for the ~10 FOVs will you use for testing. In addition to the .bin files, make sure to copy over the .JSON files with the same name into this folder. \n",
    "\n",
    "#### For example, fov-1-scan-1.bin, fov-1-scan-1.json, fov-23-scan-1.bin, fov-23-scan-1.json, etc"
   ]
  },
  {
   "cell_type": "code",
   "execution_count": null,
   "id": "1127e38c",
   "metadata": {},
   "outputs": [],
   "source": [
    "# this folder should contain the bins and JSONs for the ~10 fovs\n",
    "bin_file_dir = os.path.join(base_dir, 'example_bins')\n",
    "os.makedirs(bin_file_dir)"
   ]
  },
  {
   "cell_type": "markdown",
   "id": "1a245bd9",
   "metadata": {},
   "source": [
    "### Next, copy the *commercial_rosetta_matrix.csv* and the *example_panel_file.csv* files from the *files* directory of toffy into *base_dir*. Make sure to update the Target column of *example_panel_file.csv* with the details of your panel. For targets you aren't using, just leave the rows as is, don't delete them. Once you've updated the panel file, put the new name below."
   ]
  },
  {
   "cell_type": "code",
   "execution_count": null,
   "id": "4735af4e",
   "metadata": {},
   "outputs": [],
   "source": [
    "panel_file_name = 'your_file_name_here.csv'"
   ]
  },
  {
   "cell_type": "markdown",
   "id": "eef5304c",
   "metadata": {},
   "source": [
    "### We'll then use this panel file to extract the images from the bin files\n"
   ]
  },
  {
   "cell_type": "code",
   "execution_count": null,
   "id": "82a7f82a",
   "metadata": {},
   "outputs": [],
   "source": [
    "# create a new folder to hold extracted files\n",
    "img_out_dir = os.path.join(base_dir, 'example_images')\n",
    "if not os.path.exists(img_out_dir):\n",
    "    os.makedirs(img_out_dir)\n",
    "\n",
    "# Column names should be uppercased: 'Mass', 'Target', 'Start', 'Stop'\n",
    "panel = pd.read_csv(os.path.join(base_dir, panel_file_name))\n",
    "\n",
    "# extract the bin files\n",
    "bin_files.extract_bin_files(base_dir, img_out_dir, panel=panel, intensities=['Au'])\n",
    "\n",
    "# replace gold count image with gold intensity image\n",
    "rosetta.replace_with_intensity_image(base_dir=base_dir, channel='Au', folders=['example_images'])"
   ]
  },
  {
   "cell_type": "markdown",
   "id": "c10a2c3e",
   "metadata": {},
   "source": [
    "### Now that we've generated the image data, we can test out different values for the compensation matrix. We'll be testing out coefficients in proportion to their value in the default matrix. For example, specifying multipliers of 0.5, 1, and 2 would test coefficients that are half the size, the same size, and twice the size of the coefficients in the default matrix, respectively. \n",
    "\n",
    "### The cell below can be run multiple times to hone in on the speficic coefficient that works the best."
   ]
  },
  {
   "cell_type": "code",
   "execution_count": null,
   "id": "63ff455e",
   "metadata": {},
   "outputs": [],
   "source": [
    "# set multipliers\n",
    "multipliers = [0.5, 1, 2]\n",
    "\n",
    "# create sub-folder to hold images and files from this set of multipliers\n",
    "folder_name = 'give_a_name_for_this_folder'\n",
    "folder_path = os.path.join(base_dir, folder_name)\n",
    "if os.path.exists(folder_path):\n",
    "    raise ValueError('This folder already exists, please pick a new name for each set of parameters')\n",
    "\n",
    "# generate rosseta matrices for each multiplier\n",
    "rosetta.create_rosetta_matrices(default_matrix=os.path.join(base_dir, 'commercial_rosetta_matrix.csv'),\n",
    "                               multipliers=multipliers, channels=['Au', 'Noodle'],\n",
    "                               save_dir=folder_path)\n",
    "\n",
    "# loop over each multiplier and compensate the data\n",
    "rosetta_dirs = []\n",
    "for multiplier in multipliers:\n",
    "    rosetta_mat_path = os.path.join(folder_path, 'rosetta_{}.csv'.format(multiplier))\n",
    "    rosetta_out_dir = os.path.join(folder_name, 'compensated_data_{}'.format(multiplier))\n",
    "    rosetta_dirs.append(rosetta_out_dir)\n",
    "    os.makedirs(rosetta_out_dir)\n",
    "    rosetta.compensate_image_data(raw_data_dir=img_out_dir, comp_data_dir=rosetta_out_dir, \n",
    "                                 comp_mat_path=rosetta_mat_path, panel_info_path=panel)"
   ]
  },
  {
   "cell_type": "markdown",
   "id": "52d53e6a",
   "metadata": {},
   "source": [
    "### Now that we've generated the compensated data for the given multipliers, we'll generate stitched images to make comparing the different multipliers easier. In general, we find that modifications only need to be made to the Noodle channel and the gold (Au) channel."
   ]
  },
  {
   "cell_type": "code",
   "execution_count": null,
   "id": "a5f97f1f",
   "metadata": {},
   "outputs": [],
   "source": [
    "# stitch images together to enable easy visualization of outputs\n",
    "stitched_dir = os.path.join(folder_path, 'stitched_images')\n",
    "os.makedirs(stitched_dir)\n",
    "rosetta.create_tiled_comparison(input_dir_list=rosetta_dirs, stitched_dir)\n",
    "\n",
    "# add the noodle channel and gold channel as first row to make evaluation easier\n",
    "for channel in ['Au', 'Noodle']:\n",
    "    output_dir = os.path.join(folder_path, 'stitched_with_' + channel)\n",
    "    os.makedirs(output_dir)\n",
    "    rosetta.add_source_channel_to_tiled_image(raw_img_dir=img_out_dir, tiled_img_dir=stitched_dir,\n",
    "                                             output_dir=output_dir, source_channel=channel)"
   ]
  },
  {
   "cell_type": "markdown",
   "id": "90ab8825",
   "metadata": {},
   "source": [
    "### There will now be a folder named *stitched_with_Au* and *stitched_with_Noodle* present within the sub-folder you created. You can look through these stitched images, one for each channel, to determine whether the multiplier needs to be higher, lower, or the same.\n",
    "\n",
    "### For each channel, pick the value that worked the best. If you're happy with your multipliers, you can take that rosetta matrix and move on to the next step. If not, you can rerun the two cells above starting with the updated multipliers you selected to further narrow in on the best value"
   ]
  },
  {
   "cell_type": "code",
   "execution_count": null,
   "id": "cad757f7",
   "metadata": {},
   "outputs": [],
   "source": [
    "# TODO: validate that rosetta_matrix is all floats. Change rosetta function to take panel instead of path to panel"
   ]
  }
 ],
 "metadata": {
  "kernelspec": {
   "display_name": "Python 3 (ipykernel)",
   "language": "python",
   "name": "python3"
  },
  "language_info": {
   "codemirror_mode": {
    "name": "ipython",
    "version": 3
   },
   "file_extension": ".py",
   "mimetype": "text/x-python",
   "name": "python",
   "nbconvert_exporter": "python",
   "pygments_lexer": "ipython3",
   "version": "3.8.12"
  }
 },
 "nbformat": 4,
 "nbformat_minor": 5
}
