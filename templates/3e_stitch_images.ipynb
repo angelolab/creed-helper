{
 "cells": [
  {
   "cell_type": "markdown",
   "id": "7b16dace",
   "metadata": {},
   "source": [
    "# Stitch Images Notebook\n",
    "## This notebook is an example: create a copy before running it or you will get merge conflicts!\n",
    "\n",
    "This notebook will create a single stitched image for each channel in your panel across all of the FOVs in your run, allowing you to quickly inspect your data. By default, images will be stitched together based on acquisition order. If you would like to generate images based on the original tiled shape specified in [2_create_tiled_mibi_run](./2_create_tiled_mibi_run.ipynb), make sure to specify so with `tiled_image=True`.\n",
    "\n",
    "**If you have not already extracted your images, please run notebook [3b_extract_images_from_bin](./3b_extract_images_from_bin.ipynb).**"
   ]
  },
  {
   "cell_type": "code",
   "execution_count": 19,
   "id": "d09f9697",
   "metadata": {},
   "outputs": [],
   "source": [
    "import os\n",
    "from toffy.image_stitching import stitch_images"
   ]
  },
  {
   "cell_type": "markdown",
   "id": "cba4089e-c167-4523-b359-1474f63b396e",
   "metadata": {},
   "source": [
    "## Required variables\n",
    "You will need to define the run name argument for this notebook, with three optional arguments.\n",
    " - `run_name` should contain the exact name of the MIBI run to stitch images for\n",
    " <br> <br>\n",
    "  - `tiled_image` whether the image should be stitched together into the original tiled FOV shape (as specified in [2_create_tiled_mibi_run](./2_create_tiled_mibi_run.ipynb))\n",
    " - `sub_dir` optional name of image sub-folder within each fov, if not applicable leave as None\n",
    " - `channel_list` optional channel list specifying which to stitch images for, when left as None will run on all extracted channels "
   ]
  },
  {
   "cell_type": "code",
   "execution_count": 5,
   "id": "83ffed12",
   "metadata": {},
   "outputs": [],
   "source": [
    "# the name of the run\n",
    "run_name = 'YYYY-MM-DD_run_name'\n",
    "\n",
    "tiled_image = False\n",
    "sub_dir = None\n",
    "channel_list = None"
   ]
  },
  {
   "cell_type": "code",
   "execution_count": null,
   "id": "1780ae73-e967-4792-b5de-dcdd3632a0bb",
   "metadata": {},
   "outputs": [],
   "source": [
    "# path to directory containing the run file, required for tiled images\n",
    "# can be set to None if there's no run file for the images you're stitching\n",
    "base_dir = os.path.join('D:\\\\Data', run_name) \n",
    "\n",
    "# path to directory containing extracted files\n",
    "extraction_dir = os.path.join('D:\\\\Extracted_Images', run_name)"
   ]
  },
  {
   "cell_type": "markdown",
   "id": "00c9a15f",
   "metadata": {},
   "source": [
    "## Stitch Images\n",
    "Stitched images are saved to the subdirectory `D:\\\\Extracted_Images\\\\run_name\\\\stitched_images` (or `\\\\stitched_images_tiled`)."
   ]
  },
  {
   "cell_type": "code",
   "execution_count": 18,
   "id": "c71b389f",
   "metadata": {},
   "outputs": [],
   "source": [
    "stitch_images(extraction_dir, base_dir, channels=channel_list, img_sub_folder=sub_dir, tiled=tiled_image, \n",
    "              img_size_scale=0.25)"
   ]
  }
 ],
 "metadata": {
  "kernelspec": {
   "display_name": "Python 3 (ipykernel)",
   "language": "python",
   "name": "python3"
  },
  "language_info": {
   "codemirror_mode": {
    "name": "ipython",
    "version": 3
   },
   "file_extension": ".py",
   "mimetype": "text/x-python",
   "name": "python",
   "nbconvert_exporter": "python",
   "pygments_lexer": "ipython3",
   "version": "3.9.16"
  }
 },
 "nbformat": 4,
 "nbformat_minor": 5
}
