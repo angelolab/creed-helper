{
 "cells": [
  {
   "cell_type": "markdown",
   "id": "4857c47b-f476-4494-9a0d-742ef35c0a85",
   "metadata": {},
   "source": [
    "# FOV checks\n",
    "This notebook will perform two checks on your completed run: ensure all FOVs are the same resolution and verify there are no missing FOV data files."
   ]
  },
  {
   "cell_type": "markdown",
   "id": "f8a1d486-4576-464a-bfe3-7e1f584f9a78",
   "metadata": {},
   "source": [
    "# FOV checks\n",
    "This notebook will perform two checks on your completed run which ensure all FOVs are the same resolution and verify there are no missing FOV data files."
   ]
  },
  {
   "cell_type": "code",
   "execution_count": null,
   "id": "353ffbc5-4784-49e1-9fd5-f1344d7892da",
   "metadata": {},
   "outputs": [],
   "source": [
    "import os\n",
    "from toffy.json_utils import check_fov_resolutions, missing_fov_check\n",
    "from toffy.image_stitching import fix_image_resolutions"
   ]
  },
  {
   "cell_type": "markdown",
   "id": "cd7ff391-2d75-4098-bd9d-4d98e07d45ba",
   "metadata": {},
   "source": [
    "## Required variables\n",
    "You will need to define the following argument for this notebook.\n",
    " - `run_name` should contain the exact name of the MIBI run to extract from"
   ]
  },
  {
   "cell_type": "code",
   "execution_count": null,
   "id": "4b81ca96-e7dc-4603-87ce-284edeb2d423",
   "metadata": {},
   "outputs": [],
   "source": [
    "# set up args for current run\n",
    "run_name = 'YYYY-MM-DD_run_name'\n",
    "\n",
    "bin_file_dir = os.path.join('D:\\\\Data', run_name)\n",
    "extraction_dir = os.path.join('D:\\\\Extracted_Images', run_name) "
   ]
  },
  {
   "cell_type": "markdown",
   "id": "adba5c6c-7b6b-4a7f-8723-b589df680317",
   "metadata": {},
   "source": [
    "## FOV resolutions\n",
    "This section will use the run file to check the image resolution for each FOV in the run. Consistent resolution level is important for downstream processing, so it is advised to change the image size of any problematic FOVs."
   ]
  },
  {
   "cell_type": "markdown",
   "id": "b4edefe7-7f3a-4883-bcb3-47158753c837",
   "metadata": {},
   "source": [
    "**Step 1: Check resolutions**"
   ]
  },
  {
   "cell_type": "code",
   "execution_count": null,
   "id": "b30a4058-4976-4bdc-9714-f9babe056d85",
   "metadata": {},
   "outputs": [],
   "source": [
    "# check resolutions \n",
    "resolution_data = check_fov_resolutions(bin_file_dir, run_name, save_path=None)"
   ]
  },
  {
   "cell_type": "markdown",
   "id": "4dd4ce41-a637-4358-abdd-2d333a64e4d8",
   "metadata": {
    "execution": {
     "iopub.execute_input": "2023-08-15T18:57:42.867715Z",
     "iopub.status.busy": "2023-08-15T18:57:42.866942Z",
     "iopub.status.idle": "2023-08-15T18:57:42.879774Z",
     "shell.execute_reply": "2023-08-15T18:57:42.878978Z",
     "shell.execute_reply.started": "2023-08-15T18:57:42.867666Z"
    },
    "tags": []
   },
   "source": [
    "**Step 2: Change image sizes (if necessary)**"
   ]
  },
  {
   "cell_type": "code",
   "execution_count": null,
   "id": "1d94033d-8c99-4c2a-8f5d-112f1197bd57",
   "metadata": {},
   "outputs": [],
   "source": [
    "# change image size for any FOVs with inconsistent resolutions\n",
    "fix_image_resolutions(resolution_data, extraction_dir)"
   ]
  },
  {
   "cell_type": "markdown",
   "id": "23bac7b6-e67e-41ac-aee2-903cc6ab7e27",
   "metadata": {},
   "source": [
    "## Missing Fovs\n",
    "Sometimes FOVs will fail to be generated due to instrument issues, so the function below checks that each FOV specified in the run json has the corresponding (non-empty) output files."
   ]
  },
  {
   "cell_type": "code",
   "execution_count": null,
   "id": "b3f3b134-2f6d-43b7-bba9-4eb4303555ad",
   "metadata": {},
   "outputs": [],
   "source": [
    "# check for .bin and .json files\n",
    "missing_fov_check(bin_file_dir, run_name)"
   ]
  }
 ],
 "metadata": {
  "kernelspec": {
   "display_name": "toffy_env",
   "language": "python",
   "name": "toffy_env"
  },
  "language_info": {
   "codemirror_mode": {
    "name": "ipython",
    "version": 3
   },
   "file_extension": ".py",
   "mimetype": "text/x-python",
   "name": "python",
   "nbconvert_exporter": "python",
   "pygments_lexer": "ipython3",
   "version": "3.11.4"
  }
 },
 "nbformat": 4,
 "nbformat_minor": 5
}
