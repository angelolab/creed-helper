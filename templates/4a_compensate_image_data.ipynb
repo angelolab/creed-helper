{
 "cells": [
  {
   "cell_type": "markdown",
   "id": "ca8b60ef",
   "metadata": {},
   "source": [
    "# Image Compensation\n",
    "## This notebook is an example: create a copy before running it or you will get merge conflicts!"
   ]
  },
  {
   "cell_type": "markdown",
   "id": "237267d0",
   "metadata": {},
   "source": [
    "Rosetta is the normalization process for your images produced by the MIBI. By normalizing the images you can reduce forms contamination that may show up.\n",
    "\n",
    "For example, we illustrate Pre and Post Rosetta processing on the CD11c channel.\n",
    "\n",
    "<table><tr>\n",
    "    <td> <img src=\"./img/CD11c_pre_rosetta_cropped.png\" style=\"width:100%\"/> </td>\n",
    "    <td> <img src=\"./img/CD11c_post_rosetta_cropped.png\" style=\"width:100%\"/> </td>\n",
    "</tr></table>\n"
   ]
  },
  {
   "cell_type": "code",
   "execution_count": null,
   "id": "0b3f474f",
   "metadata": {},
   "outputs": [],
   "source": [
    "import sys\n",
    "sys.path.append('../')\n",
    "\n",
    "import os\n",
    "import shutil\n",
    "\n",
    "import skimage.io as io\n",
    "from toffy import rosetta\n",
    "from toffy.panel_utils import load_panel\n",
    "from ark.utils.io_utils import list_folders, list_files"
   ]
  },
  {
   "cell_type": "markdown",
   "id": "95eb4672",
   "metadata": {},
   "source": [
    "## 1. Setup"
   ]
  },
  {
   "cell_type": "markdown",
   "id": "d1db8364",
   "metadata": {},
   "source": [
    "Below, you will set up the necessary structure for testing rosetta on all of your runs.\n",
    "- `cohort_name` is a descriptive name for the data comprised of all of your related runs\n",
    "- `run_names` is a list of all the runs you would like to retrieve FOV images from for testing\n",
    "- `panel_path` should point to a panel csv specifying the targets on your panel (see [panel format](https://github.com/angelolab/toffy#panel-format) for more information)\n",
    "- `output_folder` will be the name of the folder containing the rosetta compensated images"
   ]
  },
  {
   "cell_type": "code",
   "execution_count": null,
   "id": "e91ef0fd-77ae-4c93-a3ca-e27181368a57",
   "metadata": {},
   "outputs": [],
   "source": [
    "# run specifications\n",
    "cohort_name = '20220101_new_cohort'\n",
    "run_names = ['20220101_TMA1', '20220102_TMA2']\n",
    "panel_path = 'C:\\\\Users\\\\Customer.ION\\\\Documents\\\\panel_files\\\\my_cool_panel.csv'\n",
    "\n",
    "# pick an informative name\n",
    "output_folder = 'rosetta_output'"
   ]
  },
  {
   "cell_type": "markdown",
   "id": "eea948ca-5983-4644-bfc1-418ad79a4ec6",
   "metadata": {},
   "source": [
    "By default, the `commercial_rosetta_matrix_v1.csv` from the `files` directory of toffy will be used for rosetta. If you would like to use a different matrix, specify the path below. \n",
    "\n",
    "A new directory based on the provided `cohort_name` above will be created within `C:\\\\Users\\\\Customer.ION\\\\Documents\\\\rosetta_testing`; this folder will contain all the files need for and produced in **Section 2** of the notebook."
   ]
  },
  {
   "cell_type": "code",
   "execution_count": null,
   "id": "21593608-e2d5-498a-8c76-1f8a135547c2",
   "metadata": {},
   "outputs": [],
   "source": [
    "# default rosetta matrix provided in toffy\n",
    "rosetta_mat_path = '..\\\\files\\\\commercial_rosetta_matrix_v1.csv'\n",
    "\n",
    "rosetta_testing_dir = 'C:\\\\Users\\\\Customer.ION\\\\Documents\\\\rosetta_testing'\n",
    "extracted_imgs_dir = 'D:\\\\Extracted_Images'\n",
    "\n",
    "# Read in toffy panel file\n",
    "panel = load_panel(panel_path)"
   ]
  },
  {
   "cell_type": "markdown",
   "id": "a4522356-44eb-4348-839b-08956bedf0a6",
   "metadata": {},
   "source": [
    "With the provided run names, we will randomly choose 10 FOVs to normalize and then test rosetta on."
   ]
  },
  {
   "cell_type": "code",
   "execution_count": null,
   "id": "c49d5357",
   "metadata": {},
   "outputs": [],
   "source": [
    "# copy random fovs from each run\n",
    "rosetta.copy_image_files(cohort_name, run_names, rosetta_testing_dir, \n",
    "                         extracted_imgs_dir, fov_number=10)\n",
    "\n",
    "# normalize images to allow direct comparison with rosetta\n",
    "img_out_dir = os.path.join(rosetta_testing_dir, cohort_name, 'extracted_images')\n",
    "fovs = list_folders(img_out_dir)\n",
    "for fov in fovs:\n",
    "    fov_dir = os.path.join(img_out_dir, fov)\n",
    "    sub_dir = os.path.join(fov_dir, 'normalized')\n",
    "    os.makedirs(sub_dir)\n",
    "    chans = list_files(fov_dir)\n",
    "    for chan in chans:\n",
    "        img = io.imread(os.path.join(fov_dir, chan))\n",
    "        img = (img / 100).astype('float32')\n",
    "        io.imsave(os.path.join(sub_dir, chan), img, check_contrast=False)"
   ]
  },
  {
   "cell_type": "markdown",
   "id": "7239e333",
   "metadata": {},
   "source": [
    "## 2. Rosetta - Remove Signal Contamination\n",
    "We'll now process the images with rosetta to remove signal contamination. This will give us a new set of compensated images."
   ]
  },
  {
   "cell_type": "code",
   "execution_count": null,
   "id": "9b91311d",
   "metadata": {
    "tags": []
   },
   "outputs": [],
   "source": [
    "# create sub-folder to hold images and files from this set of multipliers\n",
    "output_folder_path = os.path.join(rosetta_testing_dir, cohort_name, output_folder)\n",
    "os.makedirs(output_folder_path)\n",
    "\n",
    "# compensate the data\n",
    "rosetta.compensate_image_data(raw_data_dir=img_out_dir, comp_data_dir=output_folder_path, comp_mat_path=rosetta_mat_path, \n",
    "                              raw_data_sub_folder='normalized', panel_info=panel, batch_size=1, norm_const=1)"
   ]
  },
  {
   "cell_type": "markdown",
   "id": "1e0c72cb",
   "metadata": {},
   "source": [
    "Now that we've generated the compensated data, we'll generate stitched images to visualize what signal was removed"
   ]
  },
  {
   "cell_type": "code",
   "execution_count": null,
   "id": "a05d772c",
   "metadata": {},
   "outputs": [],
   "source": [
    "# stitch images together to enable easy visualization of outputs\n",
    "stitched_dir = os.path.join(rosetta_testing_dir, cohort_name, 'stitched_images')\n",
    "os.makedirs(stitched_dir)\n",
    "\n",
    "rosetta.create_tiled_comparison(input_dir_list=[img_out_dir, output_folder_path], output_dir=stitched_dir)\n",
    "\n",
    "# add the source channel for gold and Noodle\n",
    "for channel in ['Noodle']:\n",
    "    output_dir = os.path.join(, 'stitched_with_' + channel)\n",
    "    os.makedirs(output_dir)\n",
    "    rosetta.add_source_channel_to_tiled_image(raw_img_dir=img_out_dir, tiled_img_dir=stitched_dir,\n",
    "                                                 output_dir=output_dir, source_channel=channel)"
   ]
  },
  {
   "cell_type": "markdown",
   "id": "7b2274b4",
   "metadata": {},
   "source": [
    "There will now be a folder named `stitched_with_Noodle` within the cohort directory. You can look through these stitched images to visualize what signal is being removed from the two most common source channels."
   ]
  },
  {
   "cell_type": "markdown",
   "id": "d0307342",
   "metadata": {},
   "source": [
    "## 3. Rosetta - Compensate the Your Runs"
   ]
  },
  {
   "cell_type": "markdown",
   "id": "bd4f51e0-8bcc-4b5b-b2d3-6bc00140e0ca",
   "metadata": {},
   "source": [
    "Once you're satisfied that the Rosetta is working appropriately, you can use it to process your runs. First select the runs you want to process, and define the relevant top-level folders. Everything necessary for and subsequently outputted from this section of the notebook is stored in the automatic directories established in `1_set_up_toffy.ipynb`. More information on the uses and locations of the directories in toffy can be found in the [README](https://github.com/angelolab/toffy#directory-structure)."
   ]
  },
  {
   "cell_type": "code",
   "execution_count": null,
   "id": "cc7b8a9a-3fa5-47ca-b845-e0e08b5ad190",
   "metadata": {},
   "outputs": [],
   "source": [
    "# list of run names you would like to compensate images for, \n",
    "# by default uses the run list provided in Step 1 for testing\n",
    "runs = run_names"
   ]
  },
  {
   "cell_type": "code",
   "execution_count": null,
   "id": "b0f7caf7-e1ac-4442-8440-0aff83e624a1",
   "metadata": {},
   "outputs": [],
   "source": [
    "# This folder is where all of the extracted images will get saved\n",
    "extracted_image_dir = 'D:\\\\Extracted_Images'\n",
    "\n",
    "# This folder will hold the post-rosetta images\n",
    "rosetta_image_dir = 'D:\\\\Rosetta_Compensated_Images'"
   ]
  },
  {
   "cell_type": "markdown",
   "id": "c4df6224-9839-43f7-9122-62bca0668fbc",
   "metadata": {},
   "source": [
    "Then, you can compensate the data using rosetta."
   ]
  },
  {
   "cell_type": "code",
   "execution_count": null,
   "id": "13d28546-47db-4827-9283-1a7fc7eb8ec2",
   "metadata": {},
   "outputs": [],
   "source": [
    "# perform rosetta on the provided runs\n",
    "for run in runs:\n",
    "    print(\"processing run {}\".format(run))\n",
    "    run_extracted_dir = os.path.join(extracted_image_dir, run)\n",
    "    run_rosetta_dir = os.path.join(rosetta_image_dir, run)\n",
    "    if not os.path.exists(out_dir):\n",
    "        os.makedirs(out_dir)\n",
    "    rosetta.compensate_image_data(raw_data_dir=raw_img_dir, comp_data_dir=out_dir, \n",
    "                                 comp_mat_path=final_rosetta_path, panel_info=panel, batch_size=1)"
   ]
  }
 ],
 "metadata": {
  "kernelspec": {
   "display_name": "Python 3 (ipykernel)",
   "language": "python",
   "name": "python3"
  },
  "language_info": {
   "codemirror_mode": {
    "name": "ipython",
    "version": 3
   },
   "file_extension": ".py",
   "mimetype": "text/x-python",
   "name": "python",
   "nbconvert_exporter": "python",
   "pygments_lexer": "ipython3",
   "version": "3.8.13"
  },
  "vscode": {
   "interpreter": {
    "hash": "b6fb10fd04ae96ae15bad5607f85b9bdcc66c9c776108a7102620b79ac3bec79"
   }
  }
 },
 "nbformat": 4,
 "nbformat_minor": 5
}
