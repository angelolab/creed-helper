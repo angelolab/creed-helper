{
 "cells": [
  {
   "cell_type": "markdown",
   "id": "ca8b60ef",
   "metadata": {},
   "source": [
    "# Image Compensation\n",
    "## This notebook is an example: create a copy before running it or you will get merge conflicts!"
   ]
  },
  {
   "cell_type": "markdown",
   "id": "237267d0",
   "metadata": {},
   "source": [
    "Rosetta is the normalization process for your images produced by the MIBI. By normalizing the images you can reduce forms contamination that may show up.\n",
    "\n",
    "For example, we illustrate Pre and Post Rosetta processing on the CD11c channel.\n",
    "\n",
    "<table><tr>\n",
    "    <td> <img src=\"./img/CD11c_pre_rosetta_cropped.png\" style=\"width:100%\"/> </td>\n",
    "    <td> <img src=\"./img/CD11c_post_rosetta_cropped.png\" style=\"width:100%\"/> </td>\n",
    "</tr></table>\n"
   ]
  },
  {
   "cell_type": "code",
   "execution_count": null,
   "id": "0b3f474f",
   "metadata": {},
   "outputs": [],
   "source": [
    "import sys\n",
    "sys.path.append('../')\n",
    "\n",
    "import os\n",
    "import shutil\n",
    "\n",
    "import skimage.io as io\n",
    "from toffy import rosetta\n",
    "from toffy.panel_utils import load_panel\n",
    "from ark.utils.io_utils import list_folders, list_files"
   ]
  },
  {
   "cell_type": "markdown",
   "id": "95eb4672",
   "metadata": {},
   "source": [
    "## 1. Setup"
   ]
  },
  {
   "cell_type": "markdown",
   "id": "d1db8364",
   "metadata": {},
   "source": [
    "Below, you will set up the necessary structure for testing rosetta on all of your runs.\n",
    "- `cohort_name` is a descriptive name for the folder that will store the rosetta testing files\n",
    "- `run_names` is a list of all the runs you would like to retrieve FOV images from for testing\n",
    "- `panel_path` should point to a panel csv specifying the targets on your panel (see [panel format](https://github.com/angelolab/toffy#panel-format) for more information)\n",
    "\n",
    "A new directory based on the provided `cohort_name` above will be created within `C:\\\\Users\\\\Customer.ION\\\\Documents\\\\rosetta_testing`; this folder will contain all the files need for and produced in **Section 2** of the notebook."
   ]
  },
  {
   "cell_type": "code",
   "execution_count": null,
   "id": "e91ef0fd-77ae-4c93-a3ca-e27181368a57",
   "metadata": {},
   "outputs": [],
   "source": [
    "# run specifications\n",
    "cohort_name = '20220101_new_cohort'\n",
    "run_names = ['20220101_TMA1', '20220102_TMA2']\n",
    "panel_path = 'C:\\\\Users\\\\Customer.ION\\\\Documents\\\\panel_files\\\\my_cool_panel.csv'"
   ]
  },
  {
   "cell_type": "markdown",
   "id": "eea948ca-5983-4644-bfc1-418ad79a4ec6",
   "metadata": {},
   "source": [
    "By default, the `commercial_rosetta_matrix_v1.csv` from the `files` directory of toffy will be used for rosetta. If you would like to use a different matrix, specify the path below. "
   ]
  },
  {
   "cell_type": "code",
   "execution_count": null,
   "id": "21593608-e2d5-498a-8c76-1f8a135547c2",
   "metadata": {},
   "outputs": [],
   "source": [
    "# default rosetta matrix provided in toffy\n",
    "default_matrix_path = os.path.join('..', 'files', 'commercial_rosetta_matrix_v1.csv')\n",
    "\n",
    "rosetta_testing_dir = 'C:\\\\Users\\\\Customer.ION\\\\Documents\\\\rosetta_testing'\n",
    "extracted_imgs_dir = 'D:\\\\Extracted_Images'\n",
    "\n",
    "# Read in toffy panel file\n",
    "panel = load_panel(panel_path)"
   ]
  },
  {
   "cell_type": "markdown",
   "id": "a4522356-44eb-4348-839b-08956bedf0a6",
   "metadata": {},
   "source": [
    "With the provided run names, we will randomly choose 5 FOVs per run to normalize and then test rosetta on."
   ]
  },
  {
   "cell_type": "code",
   "execution_count": null,
   "id": "c49d5357",
   "metadata": {},
   "outputs": [],
   "source": [
    "# copy random fovs from each run\n",
    "rosetta.copy_image_files(cohort_name, run_names, rosetta_testing_dir, \n",
    "                         extracted_imgs_dir, fovs_per_run=5)\n",
    "\n",
    "# copy rosetta matrix\n",
    "shutil.copyfile(default_matrix_path, \n",
    "                os.path.join(rosetta_testing_dir, cohort_name, 'commercial_rosetta_matrix.csv'))\n",
    "\n",
    "# normalize images to allow direct comparison with rosetta\n",
    "img_out_dir = os.path.join(rosetta_testing_dir, cohort_name, 'extracted_images')\n",
    "fovs = list_folders(img_out_dir)\n",
    "for fov in fovs:\n",
    "    fov_dir = os.path.join(img_out_dir, fov)\n",
    "    sub_dir = os.path.join(fov_dir, 'normalized')\n",
    "    os.makedirs(sub_dir)\n",
    "    chans = list_files(fov_dir)\n",
    "    for chan in chans:\n",
    "        img = io.imread(os.path.join(fov_dir, chan))\n",
    "        img = (img / 100).astype('float32')\n",
    "        io.imsave(os.path.join(sub_dir, chan), img, check_contrast=False)"
   ]
  },
  {
   "cell_type": "markdown",
   "id": "7239e333",
   "metadata": {},
   "source": [
    "## 2. Rosetta - Remove Signal Contamination\n",
    "We'll now process the images with rosetta to remove signal contamination. This will give us a new set of compensated images, with different values for the compensation matrix. We'll be testing out coefficients in proportion to their value in the default matrix. For example, specifying multipliers of 0.5, 1, and 2 would test coefficients that are half the size, the same size, and twice the size of the coefficients in the default matrix, respectively. "
   ]
  },
  {
   "cell_type": "code",
   "execution_count": 4,
   "id": "38596718-1c90-4fc1-9ecc-3390b20eefe2",
   "metadata": {},
   "outputs": [],
   "source": [
    "# Pick the channel that you will be optimizing the coefficient for\n",
    "current_channel_name = 'Noodle'\n",
    "\n",
    "# UPDATE THE BELOW ARGS WHEN RE-RUNNING\n",
    "# set multipliers\n",
    "multipliers = [0.25, 1, 4]\n",
    "\n",
    "# pick an informative name\n",
    "folder_name = 'rosetta_test1'\n",
    "\n",
    "# If you only want to look at the output for a subset of the channels once you've picked good coefficients for the rest, \n",
    "# update this variable for fast processing. Otherwise, all channels will be compensated and saved\n",
    "output_channel_names = None # e.g. output_channel_names = ['Au', 'CD45', 'PanCK']"
   ]
  },
  {
   "cell_type": "code",
   "execution_count": null,
   "id": "b23917f7-92c7-4b12-9468-833bab4b142f",
   "metadata": {},
   "outputs": [],
   "source": [
    "# everything from here and below will run automatically\n",
    "current_channel_mass = rosetta.get_masses_from_channel_names([current_channel_name], panel)\n",
    "\n",
    "if output_channel_names is not None:\n",
    "    output_masses = rosetta.get_masses_from_channel_names(output_channel_names, panel)\n",
    "else:\n",
    "    output_masses = None\n",
    "\n",
    "# create sub-folder to hold images and files from this set of multipliers\n",
    "folder_path = os.path.join(rosetta_testing_dir, cohort_name, folder_name)\n",
    "if os.path.exists(folder_path):\n",
    "    raise ValueError('This folder {} already exists, please' \n",
    "                     'pick a new name for each set of parameters'.format(folder_name))\n",
    "else:\n",
    "    os.makedirs(folder_path)\n",
    "\n",
    "rosetta_mat_path = os.path.join(rosetta_testing_dir, cohort_name, 'commercial_rosetta_matrix.csv')\n",
    "\n",
    "# generate rosseta matrices for each multiplier\n",
    "rosetta.create_rosetta_matrices(default_matrix=rosetta_mat_path,\n",
    "                               multipliers=multipliers, masses=current_channel_mass,\n",
    "                               save_dir=folder_path)\n",
    "\n",
    "# loop over each multiplier and compensate the data\n",
    "rosetta_dirs = [img_out_dir]\n",
    "for multiplier in multipliers:\n",
    "    rosetta_mat_path = os.path.join(folder_path, 'commercial_rosetta_matrix_mult_{}.csv'.format(multiplier))\n",
    "    rosetta_out_dir = os.path.join(folder_path, 'compensated_data_{}'.format(multiplier))\n",
    "    rosetta_dirs.append(rosetta_out_dir)\n",
    "    os.makedirs(rosetta_out_dir)\n",
    "    rosetta.compensate_image_data(raw_data_dir=img_out_dir, comp_data_dir=rosetta_out_dir,comp_mat_path=rosetta_mat_path, \n",
    "                                  raw_data_sub_folder='normalized', panel_info=panel, batch_size=1, norm_const=1, output_masses=output_masses)"
   ]
  },
  {
   "cell_type": "code",
   "execution_count": null,
   "id": "459da391-3e7a-4299-b44f-10bc5291af8f",
   "metadata": {},
   "outputs": [],
   "source": [
    "# stitch images together to enable easy visualization of outputs\n",
    "stitched_dir = os.path.join(folder_path, 'stitched_images')\n",
    "os.makedirs(stitched_dir)\n",
    "\n",
    "rosetta.create_tiled_comparison(input_dir_list=rosetta_dirs, output_dir=stitched_dir, channels=output_channel_names)\n",
    "\n",
    "# add the source channel as first row to make evaluation easier\n",
    "output_dir = os.path.join(rosetta_testing_dir, cohort_name, folder_name + '-stitched_with_' + current_channel_name)\n",
    "os.makedirs(output_dir)\n",
    "rosetta.add_source_channel_to_tiled_image(raw_img_dir=img_out_dir, tiled_img_dir=stitched_dir,\n",
    "                                             output_dir=output_dir, source_channel=current_channel_name)"
   ]
  },
  {
   "cell_type": "markdown",
   "id": "1e0c72cb",
   "metadata": {},
   "source": [
    "Now that we've generated the compensated data for the given multipliers, we'll generate stitched images to make comparing the different multipliers easier."
   ]
  },
  {
   "cell_type": "markdown",
   "id": "21d6a3fe-19a1-4df1-a952-6c4b2bb7dc07",
   "metadata": {},
   "source": [
    "### Evaluating the Images"
   ]
  },
  {
   "cell_type": "markdown",
   "id": "963ee77e-d096-4e87-8fa5-d4615bd23f3d",
   "metadata": {},
   "source": [
    "There will now be a folder named `folder_name-stitched_with_Noodle` (based on the folder name you provided for the rosetta testing). You can look through these stitched images to visualize what signal is being removed from the Noodle channel, which is the main source of noise in most images.\n",
    "These files will contain 5 rows of images: \n",
    "- row 1: the Noodle channel\n",
    "- row 2: the raw extracted image\n",
    "- row 3-5: images after applying the rosetta matrix with coefficients adjusted for the multipliers (i.e. [0.5, 1, 2])\n",
    "\n",
    "**If the images in the fourth row (rosetta using multiplier 1) are satisfactory, then there is no need to adjust the matrix. You can run the cell below and move on to Section 3 to process your entire cohort.** "
   ]
  },
  {
   "cell_type": "code",
   "execution_count": null,
   "id": "223f9ea4-0ba7-47a6-88c5-ab0fa55762ef",
   "metadata": {},
   "outputs": [],
   "source": [
    "# use the default matrix for compensation\n",
    "final_rosetta_path = rosetta_mat_path"
   ]
  },
  {
   "cell_type": "markdown",
   "id": "7b2274b4",
   "metadata": {},
   "source": [
    "### Optimize Your Compensation Matrix\n",
    "However, if you would like to adjust the amount of noise being removed, you can re-run the code cells in this section to optimize the compensation matrix for your data; you will need to update the `multipliers` variable and a provide a new `folder_name`. The stitched images can help you determine whether the multiplier needs to be higher, lower, or the same.\n",
    "\n",
    "**For each channel, pick the multiplier that worked the best. Then, open the commercial_rosetta_matrix.csv file in your cohort testing directory and update the corresponding coefficient in that cell to be the `previous_value * coefficient`.** If you're happy with the new coefficients, you can rename your modified matrix, run the cell below, and move on to the final section."
   ]
  },
  {
   "cell_type": "code",
   "execution_count": null,
   "id": "548af350-d563-487b-a4e0-8f16c04773b6",
   "metadata": {},
   "outputs": [],
   "source": [
    "# rename your rosetta matrix and put the path to final file here\n",
    "final_rosetta_path = os.path.join(rosetta_testing_dir, cohort_name, \n",
    "                                  'new_rosetta_matrix.csv')"
   ]
  },
  {
   "cell_type": "markdown",
   "id": "5fa61822-3984-4d83-adf6-4587028d6688",
   "metadata": {},
   "source": [
    "**Once you've finalized your coefficients, please let us know [here](https://github.com/angelolab/toffy/issues/55).**"
   ]
  },
  {
   "cell_type": "markdown",
   "id": "d0307342",
   "metadata": {},
   "source": [
    "## 3. Rosetta - Compensate Your Runs"
   ]
  },
  {
   "cell_type": "markdown",
   "id": "bd4f51e0-8bcc-4b5b-b2d3-6bc00140e0ca",
   "metadata": {},
   "source": [
    "Once you're satisfied that the Rosetta is working appropriately, you can use it to process your runs. First select the runs you want to process, and define the relevant top-level folders. Everything necessary for and subsequently outputted from this section of the notebook is stored in the automatic directories established in `1_set_up_toffy.ipynb`. More information on the uses and locations of the directories in toffy can be found in the [README](https://github.com/angelolab/toffy#directory-structure)."
   ]
  },
  {
   "cell_type": "code",
   "execution_count": null,
   "id": "cc7b8a9a-3fa5-47ca-b845-e0e08b5ad190",
   "metadata": {},
   "outputs": [],
   "source": [
    "# list of run names you would like to compensate images for, \n",
    "# by default uses the run list provided in Step 1 for testing\n",
    "runs = run_names\n",
    "\n",
    "extracted_imgs_dir = 'D:\\\\Extracted_Images'\n",
    "\n",
    "# This folder will hold the post-rosetta images\n",
    "rosetta_image_dir = 'D:\\\\Rosetta_Compensated_Images'"
   ]
  },
  {
   "cell_type": "markdown",
   "id": "c4df6224-9839-43f7-9122-62bca0668fbc",
   "metadata": {},
   "source": [
    "Then, you can compensate the data using rosetta."
   ]
  },
  {
   "cell_type": "code",
   "execution_count": null,
   "id": "13d28546-47db-4827-9283-1a7fc7eb8ec2",
   "metadata": {},
   "outputs": [],
   "source": [
    "# perform rosetta on the provided runs\n",
    "for run in runs:\n",
    "    print(\"processing run {}\".format(run))\n",
    "    run_extracted_dir = os.path.join(extracted_imgs_dir, run)\n",
    "    run_rosetta_dir = os.path.join(rosetta_image_dir, run)\n",
    "    if not os.path.exists(out_dir):\n",
    "        os.makedirs(out_dir)\n",
    "    rosetta.compensate_image_data(raw_data_dir=run_extracted_dir, comp_data_dir=run_rosetta_dir, \n",
    "                                 comp_mat_path=final_rosetta_path, panel_info=panel, batch_size=1)"
   ]
  }
 ],
 "metadata": {
  "kernelspec": {
   "display_name": "Python 3 (ipykernel)",
   "language": "python",
   "name": "python3"
  },
  "language_info": {
   "codemirror_mode": {
    "name": "ipython",
    "version": 3
   },
   "file_extension": ".py",
   "mimetype": "text/x-python",
   "name": "python",
   "nbconvert_exporter": "python",
   "pygments_lexer": "ipython3",
   "version": "3.8.13"
  },
  "vscode": {
   "interpreter": {
    "hash": "b6fb10fd04ae96ae15bad5607f85b9bdcc66c9c776108a7102620b79ac3bec79"
   }
  }
 },
 "nbformat": 4,
 "nbformat_minor": 5
}
