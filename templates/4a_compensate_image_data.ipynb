{
 "cells": [
  {
   "cell_type": "markdown",
   "id": "ca8b60ef",
   "metadata": {},
   "source": [
    "# Image Compensation\n",
    "## This notebook is an example: create a copy before running it or you will get merge conflicts!"
   ]
  },
  {
   "cell_type": "markdown",
   "id": "237267d0",
   "metadata": {},
   "source": [
    "Rosetta is the normalization process for your images produced by the MIBI. By normalizing the images you can reduce forms contamination that may show up.\n",
    "\n",
    "For example, we illustrate Pre and Post Rosetta processing on the CD11c channel.\n",
    "\n",
    "<table><tr>\n",
    "    <td> <img src=\"./img/CD11c_pre_rosetta.png\" style=\"width:100%\"/> </td>\n",
    "    <td> <img src=\"./img/CD11c_post_rosetta.png\" style=\"width:100%\"/> </td>\n",
    "</tr></table>\n"
   ]
  },
  {
   "cell_type": "code",
   "execution_count": null,
   "id": "0b3f474f",
   "metadata": {},
   "outputs": [],
   "source": [
    "import sys\n",
    "sys.path.append('../')\n",
    "\n",
    "import os\n",
    "import shutil\n",
    "\n",
    "import skimage.io as io\n",
    "import pandas as pd\n",
    "from mibi_bin_tools import bin_files\n",
    "from toffy import rosetta\n",
    "from ark.utils.io_utils import list_folders, list_files"
   ]
  },
  {
   "cell_type": "markdown",
   "id": "95eb4672",
   "metadata": {},
   "source": [
    "## 1. Setup"
   ]
  },
  {
   "cell_type": "markdown",
   "id": "d1db8364",
   "metadata": {},
   "source": [
    "First, make a folder for evaluating rosetta normalization, and put the full path below\n",
    "\n",
    "Next, copy the Rosetta Matrix `commercial_rosetta_matrix_v1.csv` from the `/files` directory of toffy into `base_dir`. \n",
    "\n",
    "**UPDATE LATER TO BE COMPATIBLE WITH THE NEW AUTOMATED PANEL ADJUSTMENT SCRIPT**\n",
    "\n",
    "Select a name for the `output_folder`.\n",
    "\n",
    "Select the commercial Rosetta Matrix you wish to use."
   ]
  },
  {
   "cell_type": "code",
   "execution_count": null,
   "id": "7955e002",
   "metadata": {},
   "outputs": [],
   "source": [
    "base_dir = 'path/to/base/dir'\n",
    "\n",
    "# this folder should contain the bins and JSONs for the ~10 fovs\n",
    "test_bin_dir = os.path.join(base_dir, 'example_bins')\n",
    "\n",
    "panel_file_name = 'example_panel_file.csv'\n",
    "\n",
    "# pick an informative name\n",
    "output_folder = 'rosetta_output'\n",
    "\n",
    "rosetta_matrix = 'commercial_rosetta_matrix_v1.csv'"
   ]
  },
  {
   "cell_type": "markdown",
   "id": "64aa3139",
   "metadata": {},
   "source": [
    "Next, copy over the `.bin` files for the ~10 FOVs will you use for testing. In addition to the `.bin` files, make sure to copy over the `.json` files with the same name into this folder. Place them in a folder named `example_bins`.\n",
    "\n",
    "For example:\n",
    "\n",
    "```sh\n",
    "path\\\\to\\\\base\\\\dir\n",
    "└── example_bins\n",
    "    ├── fov-1-scan-1.bin\n",
    "    ├── fov-1-scan-1.json\n",
    "    ├── fov-23-scan-1.bin\n",
    "    ├── fov-23-scan-1.json\n",
    "    └── ...\n",
    "```"
   ]
  },
  {
   "cell_type": "markdown",
   "id": "d0ab49c5",
   "metadata": {},
   "source": [
    "We'll then use this panel file to extract the images from the bin files.\n"
   ]
  },
  {
   "cell_type": "code",
   "execution_count": null,
   "id": "c49d5357",
   "metadata": {},
   "outputs": [],
   "source": [
    "# specify folder to hold extracted files\n",
    "img_out_dir = os.path.join(base_dir, 'extracted_images')\n",
    "\n",
    "# Read in updated panel file\n",
    "panel = pd.read_csv(os.path.join(base_dir, panel_file_name))\n",
    "\n",
    "# extract the bin files\n",
    "replace_with_intensity_img = True\n",
    "bin_files.extract_bin_files(test_bin_dir, img_out_dir, panel=panel, intensities=['Au', 'chan_39'], \n",
    "                            replace=replace_with_intensity_img)\n",
    "\n",
    "# normalize images to allow direct comparison with rosetta\n",
    "fovs = list_folders(img_out_dir)\n",
    "for fov in fovs:\n",
    "    fov_dir = os.path.join(img_out_dir, fov)\n",
    "    sub_dir = os.path.join(fov_dir, 'normalized')\n",
    "    os.makedirs(sub_dir)\n",
    "    chans = list_files(fov_dir)\n",
    "    for chan in chans:\n",
    "        img = io.imread(os.path.join(fov_dir, chan))\n",
    "        img = img / 100\n",
    "        io.imsave(os.path.join(sub_dir, chan), img, check_contrast=False)"
   ]
  },
  {
   "cell_type": "markdown",
   "id": "7239e333",
   "metadata": {},
   "source": [
    "## 2. Rosetta - Remove Signal Contamination\n",
    "We'll now process the images with rosetta to remove signal contamination. This will give us a new set of compensated images."
   ]
  },
  {
   "cell_type": "code",
   "execution_count": null,
   "id": "9b91311d",
   "metadata": {},
   "outputs": [],
   "source": [
    "# create sub-folder to hold images and files from this set of multipliers\n",
    "output_folder_path = os.path.join(base_dir, output_folder)\n",
    "os.makedirs(output_folder_path)\n",
    "\n",
    "# compensate the data\n",
    "rosetta_mat_path = os.path.join(base_dir, rosetta_matrix)\n",
    "rosetta.compensate_image_data(raw_data_dir=img_out_dir, comp_data_dir=output_folder_path,comp_mat_path=rosetta_mat_path, \n",
    "                              raw_data_sub_folder='normalized', panel_info=panel, batch_size=1, norm_const=1)"
   ]
  },
  {
   "cell_type": "markdown",
   "id": "1e0c72cb",
   "metadata": {},
   "source": [
    "Now that we've generated the compensated data, we'll generate stitched images to visualize what signal was removed"
   ]
  },
  {
   "cell_type": "code",
   "execution_count": null,
   "id": "a05d772c",
   "metadata": {},
   "outputs": [],
   "source": [
    "# stitch images together to enable easy visualization of outputs\n",
    "stitched_dir = os.path.join(base_dir, 'stitched_images')\n",
    "os.makedirs(stitched_dir)\n",
    "\n",
    "rosetta.create_tiled_comparison(input_dir_list=[img_out_dir, output_folder_path], output_dir=stitched_dir)\n",
    "\n",
    "# add the source channel for gold and Noodle\n",
    "for channel in ['Au', 'Noodle']:\n",
    "    output_dir = os.path.join(base_dir, 'stitched_with_' + channel)\n",
    "    os.makedirs(output_dir)\n",
    "    rosetta.add_source_channel_to_tiled_image(raw_img_dir=img_out_dir, tiled_img_dir=stitched_dir,\n",
    "                                                 output_dir=output_dir, source_channel=channel)"
   ]
  },
  {
   "cell_type": "markdown",
   "id": "7b2274b4",
   "metadata": {},
   "source": [
    "There will now be a folder named `stitched_with_Au` and `stitched_with_Noodle` within the `base_dir`. You can look through these stitched images to visualize what signal is being removed from the two most common source channels."
   ]
  },
  {
   "cell_type": "markdown",
   "id": "d0307342",
   "metadata": {},
   "source": [
    "## 3. Rosetta - Compensate the Whole Run"
   ]
  },
  {
   "cell_type": "markdown",
   "id": "bd4f51e0-8bcc-4b5b-b2d3-6bc00140e0ca",
   "metadata": {},
   "source": [
    "Once you're satisfied that the Rosetta is working appropriately, you can use it to process your run. First select the run you want to process, and define the relevant top-level folders"
   ]
  },
  {
   "cell_type": "code",
   "execution_count": null,
   "id": "cc7b8a9a-3fa5-47ca-b845-e0e08b5ad190",
   "metadata": {},
   "outputs": [],
   "source": [
    "# Put the name of your run here\n",
    "run_name = '20220101_my_run'\n",
    "\n",
    "# The path to the folder containing raw run data\n",
    "bin_file_dir = 'D:\\\\Data'\n",
    "\n",
    "# This folder is where all of the extracted images will get saved\n",
    "extracted_image_dir = 'D:\\\\Extracted_Images'\n",
    "\n",
    "# This folder will hold the post-rosetta images\n",
    "rosetta_image_dir = 'D:\\\\Rosetta_Compensated_Images'"
   ]
  },
  {
   "cell_type": "markdown",
   "id": "7f6161fb-3050-44e1-ab9a-7b9c59675d89",
   "metadata": {},
   "source": [
    "Prior to running compensation, you'll need to extract your data if you haven't already"
   ]
  },
  {
   "cell_type": "code",
   "execution_count": null,
   "id": "791ed5c9-e98a-4966-afc4-d61625e2bd07",
   "metadata": {},
   "outputs": [],
   "source": [
    "# set run-specific folders\n",
    "run_bin_dir = os.path.join(bin_file_dir, run_name)\n",
    "run_extracted_dir = os.path.join(extracted_image_dir, run_name)\n",
    "if not os.path.exists(run_extracted_dir):\n",
    "    os.makedirs(run_extracted_dir)\n",
    "\n",
    "# extract bins\n",
    "replace_with_intensity_img = True\n",
    "bin_files.extract_bin_files(run_bin_dir, run_extracted_dir, panel=panel, intensities=['Au', 'chan_39'],\n",
    "                            replace=replace_with_intensity_img)"
   ]
  },
  {
   "cell_type": "markdown",
   "id": "c4df6224-9839-43f7-9122-62bca0668fbc",
   "metadata": {},
   "source": [
    "Then, you can compensate the data using rosetta"
   ]
  },
  {
   "cell_type": "code",
   "execution_count": null,
   "id": "13d28546-47db-4827-9283-1a7fc7eb8ec2",
   "metadata": {},
   "outputs": [],
   "source": [
    "# Perform rosetta on extracted images\n",
    "run_rosetta_dir = os.path.join(rosetta_image_dir, run_name)\n",
    "if not os.path.exists(run_rosetta_dir):\n",
    "    os.makedirs(run_rosetta_dir)\n",
    "\n",
    "rosetta.compensate_image_data(raw_data_dir=run_extracted_dir, comp_data_dir=run_rosetta_dir, \n",
    "                             comp_mat_path=rosetta_mat_path, panel_info=panel, batch_size=1)"
   ]
  }
 ],
 "metadata": {
  "kernelspec": {
   "display_name": "Python 3.8.13 ('toffy_env')",
   "language": "python",
   "name": "python3"
  },
  "language_info": {
   "codemirror_mode": {
    "name": "ipython",
    "version": 3
   },
   "file_extension": ".py",
   "mimetype": "text/x-python",
   "name": "python",
   "nbconvert_exporter": "python",
   "pygments_lexer": "ipython3",
   "version": "3.8.13"
  },
  "vscode": {
   "interpreter": {
    "hash": "b6fb10fd04ae96ae15bad5607f85b9bdcc66c9c776108a7102620b79ac3bec79"
   }
  }
 },
 "nbformat": 4,
 "nbformat_minor": 5
}
