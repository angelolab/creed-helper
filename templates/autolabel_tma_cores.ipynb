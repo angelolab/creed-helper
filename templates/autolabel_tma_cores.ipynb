{
 "cells": [
  {
   "cell_type": "markdown",
   "id": "dfb76f0b",
   "metadata": {},
   "source": [
    "# Relabel TMA cores"
   ]
  },
  {
   "cell_type": "markdown",
   "id": "77e6afe1",
   "metadata": {},
   "source": [
    "This notebook automatically labels the TMA cores from a JSON file with a standardized naming convention (R1C1, R1C2, etc). This ensures that on a TMA with many different FOVs across many different cores, no mistakes were made in naming. \n",
    "\n",
    "The inputs are manually generated JSON file with the selected cores, as well as a separate JSON defining the upper left hand corner and bottom right hand corner of the TMA grid. "
   ]
  },
  {
   "cell_type": "code",
   "execution_count": null,
   "id": "72a680b2",
   "metadata": {},
   "outputs": [],
   "source": [
    "import json\n",
    "import os\n",
    "from skimage.io import imread\n",
    "\n",
    "from creed import tiling_utils\n",
    "\n",
    "# suppress mpl deprecation\n",
    "import warnings\n",
    "from matplotlib.cbook import mplDeprecation\n",
    "warnings.filterwarnings(\"ignore\", category=mplDeprecation)"
   ]
  },
  {
   "cell_type": "markdown",
   "id": "80832308",
   "metadata": {},
   "source": [
    "# 1. Generate the FOVs from a TMA spec file"
   ]
  },
  {
   "cell_type": "markdown",
   "id": "986dc5a9",
   "metadata": {},
   "source": [
    "You will first need to define the prefix to use for your input and output file names. This makes it easy to associate all of the files from a single run with one another. The default is `example_tma`.\n",
    "\n",
    "The following input files are required for the script to run:\n",
    "\n",
    "* `tma_corners_path`: the path to the JSON file containing FOVs defining the upper-left corner and bottom-right corner. It should be named `example_tma_corners.json`, where `example_tma` is replaced with the tma_prefix. \n",
    "* `manual_run_path`: the path to your run file with the manually selected FOVs. It should be named `example_tma_manual_run.json`.\n",
    "* `slide_path`: the path to the slide image of the TMA"
   ]
  },
  {
   "cell_type": "code",
   "execution_count": null,
   "id": "d30c1dbd",
   "metadata": {},
   "outputs": [],
   "source": [
    "# these variables need to be defined by the user\n",
    "base_dir = \"data_dir\"\n",
    "json_tiling_dir = os.path.join(base_dir, \"json_tiling_data\")\n",
    "\n",
    "# define the prefix of each file\n",
    "tma_prefix = 'example_tma'\n",
    "\n",
    "# update with path to current slide image\n",
    "slide_path = os.path.join(path_to_optical_image, 'tma_prefix')"
   ]
  },
  {
   "cell_type": "code",
   "execution_count": null,
   "id": "f5164c9e",
   "metadata": {},
   "outputs": [],
   "source": [
    "# these variables should be automatically defined; make sure they're named as described in the comment above \n",
    "tma_corners_path = os.path.join(json_tiling_dir, '%s_tma_corners.json' % tma_prefix)\n",
    "auto_fov_names_path = os.path.join(json_tiling_dir, '%s_automatic_fov_names.json' % tma_prefix)\n",
    "manual_run_path = os.path.join(json_tiling_dir, '%s_manual_run.json' % tma_prefix)\n",
    "mapping_path = os.path.join(json_tiling_dir, '%s_mapping.json' % tma_prefix)\n",
    "remapped_fov_path = os.path.join(json_tiling_dir, '%s_automatic_run.json' % tma_prefix)\n",
    "moly_path = os.path.join(json_tiling_dir, '%s_moly_point.json' % tma_prefix)"
   ]
  },
  {
   "cell_type": "code",
   "execution_count": null,
   "id": "af7a2d7b",
   "metadata": {},
   "outputs": [],
   "source": [
    "# Define TMA grid dimensions\n",
    "tma_num_x = 4\n",
    "tma_num_y = 7\n",
    "\n",
    "# generate automatically named TMA\n",
    "auto_fov_regions = tiling_utils.generate_tma_fov_list(\n",
    "    tma_corners_path,\n",
    "    tma_num_x,\n",
    "    tma_num_y\n",
    ")\n",
    "\n",
    "# save the automatically-named TMA FOVs to centroids mapping\n",
    "with open(auto_fov_names_path, 'w') as afrp:\n",
    "    json.dump(auto_fov_regions, afrp)"
   ]
  },
  {
   "cell_type": "markdown",
   "id": "fec0b167",
   "metadata": {},
   "source": [
    "# 2. Define the FOV locations and map to TMA-spec file FOV names"
   ]
  },
  {
   "cell_type": "markdown",
   "id": "43ae5aa5",
   "metadata": {},
   "source": [
    "### Load the user-defined FOVs and slide image"
   ]
  },
  {
   "cell_type": "code",
   "execution_count": null,
   "id": "c28d9ed0",
   "metadata": {},
   "outputs": [],
   "source": [
    "# load the user-defined set of FOVs in\n",
    "with open(manual_run_path, 'r') as mfop:\n",
    "    manual_fov_regions = json.load(mfop)"
   ]
  },
  {
   "cell_type": "code",
   "execution_count": null,
   "id": "05ec9954",
   "metadata": {},
   "outputs": [],
   "source": [
    "# load the slide image in\n",
    "slide_data = imread(slide_path)"
   ]
  },
  {
   "cell_type": "markdown",
   "id": "18895a56",
   "metadata": {},
   "source": [
    "### Map proposed tiles to their closest automatically-generated tile (Euclidean)"
   ]
  },
  {
   "cell_type": "code",
   "execution_count": null,
   "id": "931a51af",
   "metadata": {},
   "outputs": [],
   "source": [
    "manual_to_auto_map, manual_fovs_info, auto_fovs_info = tiling_utils.assign_closest_fovs(\n",
    "    manual_fov_regions,\n",
    "    auto_fov_regions\n",
    ")"
   ]
  },
  {
   "cell_type": "markdown",
   "id": "7e0b2449",
   "metadata": {},
   "source": [
    "### Visualize and remap tiles"
   ]
  },
  {
   "cell_type": "markdown",
   "id": "63643da2",
   "metadata": {},
   "source": [
    "Usage notes:\n",
    "\n",
    "* Proposed FOVs are drawn in red. Automatically-generated FOVs are drawn in blue.\n",
    "* The selected proposed FOV and its mapped automatically-generated FOV are colored a darker shade.\n",
    "* The `Manually-defined FOV` menu can be used to visualize current mappings to automatically-generated FOVs.\n",
    "* The `Automatically-generated FOV` menu is used for re-mapping a FOV created by this script to one of yours.\n",
    "* Additional validation parameters:\n",
    "    * `check_dist`: set to a positive numeric value to notify proposed to automatically-generated FOV mappings at a distance greater than this value. If multiple pairs exist, they will be sorted by distance descending. Set to `None` to bypass this validation.\n",
    "    * `check_duplicates`: set to `True` to notify of automatically-generated FOVs with more than 1 proposed FOV mapping to it.\n",
    "    * `check_mismatches`: set to `True` to notify of proposed FOV names that don't matched their mapped automatically-generated FOV name\n",
    "    * Notifications will be displayed in the `FOV pair validation checks` box\n",
    "* When you're done generating your desired mapping, click the `Save mapping`. This will save your mapping to `mapping_path` specified earlier.\n",
    "\n",
    "Note:\n",
    "\n",
    "* The cells after this interactive widget (in the section `Use mapping to rename FOVs in manual_fov_regions`) are only to be run after you're satisfied with the mapping and clicked `Save mapping`.\n",
    "* Prior to clicking `Save mapping` and re-running the cells in that section, ignore any error messages that may appear in that section.\n",
    "* If you change your mind after saving the remapped FOVs, you can come back here to redo your mappings, save again, and re-run the code to remap the FOVs."
   ]
  },
  {
   "cell_type": "code",
   "execution_count": null,
   "id": "1fcb1768-7cf9-4aea-90d8-7b6e63d79694",
   "metadata": {},
   "outputs": [],
   "source": [
    "# define which validation checks to display in the FOV pair validation checks box\n",
    "check_dist = 50\n",
    "check_duplicates = True\n",
    "check_mismatches = True"
   ]
  },
  {
   "cell_type": "code",
   "execution_count": 8,
   "id": "60fa546d",
   "metadata": {},
   "outputs": [],
   "source": [
    "%matplotlib widget\n",
    "tiling_utils.tma_interactive_remap(\n",
    "    manual_to_auto_map,\n",
    "    manual_fovs_info,\n",
    "    auto_fovs_info,\n",
    "    slide_data,\n",
    "    mapping_path,\n",
    "    draw_radius=7,\n",
    "    figsize=(7, 7),\n",
    "    check_dist=check_dist,\n",
    "    check_duplicates=check_duplicates,\n",
    "    check_mismatches=check_mismatches\n",
    ")"
   ]
  },
  {
   "cell_type": "markdown",
   "id": "2cddb320",
   "metadata": {},
   "source": [
    "### Use proposed-to-auto mapping to rename FOVs in `manual_fov_regions`"
   ]
  },
  {
   "cell_type": "code",
   "execution_count": null,
   "id": "77b555c0",
   "metadata": {},
   "outputs": [],
   "source": [
    "# load the mapping saved by the interactive visualization in\n",
    "with open(mapping_path, 'r') as mp:\n",
    "    mapping = json.load(mp)"
   ]
  },
  {
   "cell_type": "code",
   "execution_count": null,
   "id": "840c7372",
   "metadata": {},
   "outputs": [],
   "source": [
    "# whether to randomize the FOVs in remapped_fov_regions\n",
    "randomize = True\n",
    "\n",
    "# whether to insert Moly points between a specified interval of FOVs in remapped_fov_regions\n",
    "moly_insert = True\n",
    "moly_interval = 5"
   ]
  },
  {
   "cell_type": "code",
   "execution_count": null,
   "id": "1aef00c8",
   "metadata": {},
   "outputs": [],
   "source": [
    "# rename FOVs, randomize the order, and insert Moly points at a specified interval\n",
    "remapped_fov_regions = tiling_utils.remap_and_reorder_fovs(\n",
    "    manual_fov_regions,\n",
    "    mapping,\n",
    "    moly_path,\n",
    "    randomize=randomize,\n",
    "    moly_insert=moly_insert,\n",
    "    moly_interval=moly_interval\n",
    ")"
   ]
  },
  {
   "cell_type": "code",
   "execution_count": null,
   "id": "e0e0e3dd",
   "metadata": {},
   "outputs": [],
   "source": [
    "# save remapped_fov_regions\n",
    "with open(remapped_fov_path, 'w') as rtp:\n",
    "    json.dump(remapped_fov_regions, rtp)"
   ]
  }
 ],
 "metadata": {
  "kernelspec": {
   "display_name": "Python 3 (ipykernel)",
   "language": "python",
   "name": "python3"
  },
  "language_info": {
   "codemirror_mode": {
    "name": "ipython",
    "version": 3
   },
   "file_extension": ".py",
   "mimetype": "text/x-python",
   "name": "python",
   "nbconvert_exporter": "python",
   "pygments_lexer": "ipython3",
   "version": "3.8.12"
  }
 },
 "nbformat": 4,
 "nbformat_minor": 5
}
