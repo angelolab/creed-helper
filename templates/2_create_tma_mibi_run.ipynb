{
 "cells": [
  {
   "cell_type": "markdown",
   "id": "dfb76f0b",
   "metadata": {},
   "source": [
    "# Autolabel TMA Cores\n",
    "\n",
    "## This notebook is an example: create a copy before running it or you will get merge conflicts!"
   ]
  },
  {
   "cell_type": "markdown",
   "id": "77e6afe1",
   "metadata": {},
   "source": [
    "**NOTE**: Before running this notebook for the first time, make sure you've coregistered your instrument using the *update coregistration parameters* section of  `1_set_up_toffy.ipynb`. This will ensure your FOVs display correctly on the slide.\n",
    "\n"
   ]
  },
  {
   "cell_type": "markdown",
   "id": "5f1691de-9eb8-46c8-bcc4-8c1c19edee18",
   "metadata": {
    "tags": []
   },
   "source": [
    "### Background\n",
    "This notebook automatically checks the names assigned to the cores on a TMA. In order to get the most benefit out of the notebook, make sure that you've named your FOVs appropriately. The expected format is RNCM, where N is the row and M is the column of the TMA. For example, a core on the third row and second column would be R3C2, and one on the 7th row and first column would be R7C1.  \n",
    "\n",
    "The script expects that you have already generated and moved the necessary files into the appropriate directory before starting.\n",
    "- A JSON file defining the four corners of the TMA. It's important that you have selected them in the correct order; top left, top right, bottom left, bottom right. Even if one of the cores on the corner is missing, make sure the FOV is located where that corner of the TMA *would* be located, as this is used to define the dimensions of the TMA. You can create this file by exporting the FOVs from the MIBIControl software. \n",
    "- A JSON file containing all of the FOVs that you have selected from the TMA, named appropriately. You can create this file by exporting the FOVs from the MIBIControl software. \n",
    "- The optical image of your TMA slide. This is automatically created when you load your slide, and is saved to the *Data/optical-image* subfolder"
   ]
  },
  {
   "cell_type": "code",
   "execution_count": null,
   "id": "ffb9155f-3884-41fa-95b3-216ade6dfdc0",
   "metadata": {},
   "outputs": [],
   "source": [
    "import sys\n",
    "sys.path.append('../')"
   ]
  },
  {
   "cell_type": "code",
   "execution_count": null,
   "id": "72a680b2",
   "metadata": {},
   "outputs": [],
   "source": [
    "import json\n",
    "import os\n",
    "from skimage.io import imread\n",
    "\n",
    "from toffy import tiling_utils, json_utils\n",
    "from toffy.json_utils import write_json_file\n",
    "\n",
    "# suppress mpl deprecation\n",
    "import warnings\n",
    "from matplotlib.cbook import mplDeprecation\n",
    "warnings.filterwarnings(\"ignore\", category=mplDeprecation)"
   ]
  },
  {
   "cell_type": "markdown",
   "id": "80832308",
   "metadata": {},
   "source": [
    "### 1. Copy over the necessary files to start the script"
   ]
  },
  {
   "cell_type": "markdown",
   "id": "986dc5a9",
   "metadata": {},
   "source": [
    "You will first need to define the prefix to use for all of the files associated with this specific TMA. The default is `tma_name`, but you should change it to something relevant to your study, such as BRCA_TMA_1.\n",
    "\n",
    "Once you have picked your prefix for this specific TMA, you'll need to ensure that all of the necessary files are in the appropriate directory with the correct names\n",
    "\n",
    "* `tma corners file`: this file, which contains the FOVs defining the four corners of the TMA, should be named `tma_name_corners.json`, where `tma_name` is replaced with the `tma_prefix`. \n",
    "* `manual run file`: this file, which contains the manually selected FOVs from your TMA, should be named `tma_name_manual.json`.\n",
    "* `optical image file`: this file, which contains the image of your slide, should be named `tma_name.bmp`\n",
    "\n",
    "Each of these files should be copied to `C:\\\\Users\\\\Customer.ION\\\\Documents\\\\autolabeled_tma_jsons`"
   ]
  },
  {
   "cell_type": "code",
   "execution_count": null,
   "id": "d30c1dbd",
   "metadata": {},
   "outputs": [],
   "source": [
    "# define the prefix for each file\n",
    "tma_prefix = 'example_tma'"
   ]
  },
  {
   "cell_type": "code",
   "execution_count": null,
   "id": "f5164c9e",
   "metadata": {},
   "outputs": [],
   "source": [
    "# user created files\n",
    "tma_dir = os.path.join('C:\\\\Users\\\\Customer.ION\\\\Documents\\\\autolabeled_tma_jsons')\n",
    "tma_corners_path = os.path.join(tma_dir, '%s_corners.json' % tma_prefix)\n",
    "manual_run_path = os.path.join(tma_dir, '%s_manual.json' % tma_prefix)\n",
    "slide_path = os.path.join(tma_dir, tma_prefix + '.bmp')\n",
    "\n",
    "# files the notebook will create\n",
    "auto_fov_names_path = os.path.join(tma_dir, '%s_automatic_fov_names.json' % tma_prefix)\n",
    "mapping_path = os.path.join(tma_dir, '%s_mapping.json' % tma_prefix)\n",
    "remapped_fov_path = os.path.join(tma_dir, '%s_automatic_run.json' % tma_prefix)\n",
    "moly_path = os.path.join(tma_dir, '%s_moly_point.json' % tma_prefix)"
   ]
  },
  {
   "cell_type": "markdown",
   "id": "0d32d49e-a4be-453b-b0b0-c6ab0d192793",
   "metadata": {},
   "source": [
    "### 2. Generate the automatic mapping of FOV names"
   ]
  },
  {
   "cell_type": "code",
   "execution_count": null,
   "id": "af7a2d7b",
   "metadata": {},
   "outputs": [],
   "source": [
    "# Define TMA grid dimensions\n",
    "tma_num_row = 7\n",
    "tma_num_col = 4\n",
    "\n",
    "# generate automatically named TMA\n",
    "auto_fov_regions = tiling_utils.generate_tma_fov_list(\n",
    "    tma_corners_path,\n",
    "    tma_num_row,\n",
    "    tma_num_col\n",
    ")\n",
    "\n",
    "# save the automatically-named TMA FOVs to centroids mapping\n",
    "write_json_file(json_path=auto_fov_names_path, json_object=auto_fov_regions, encoding='utf-8')"
   ]
  },
  {
   "cell_type": "code",
   "execution_count": null,
   "id": "c28d9ed0",
   "metadata": {},
   "outputs": [],
   "source": [
    "# load the user-defined set of FOVs in\n",
    "with open(manual_run_path, 'r', encoding='utf-8') as mfop:\n",
    "    manual_fov_regions = json.load(mfop)\n",
    "    \n",
    "# ensure missing and duplicate FOV names get identified\n",
    "manual_fov_regions = json_utils.rename_missing_fovs(manual_fov_regions)\n",
    "manual_fov_regions = json_utils.rename_duplicate_fovs(manual_fov_regions)"
   ]
  },
  {
   "cell_type": "code",
   "execution_count": null,
   "id": "05ec9954",
   "metadata": {},
   "outputs": [],
   "source": [
    "# load the slide image in\n",
    "slide_data = imread(slide_path)"
   ]
  },
  {
   "cell_type": "markdown",
   "id": "7e0b2449",
   "metadata": {},
   "source": [
    "### 3. Set thresholds for identifying incorrect FOV names"
   ]
  },
  {
   "cell_type": "markdown",
   "id": "63643da2",
   "metadata": {},
   "source": [
    "The variables below control the tolerance for identifying when a core has been named incorrectly.\n",
    "\n",
    "* `check_dist`: set to a positive value to notify of FOV mappings at a distance greater than this value (measured in microns), sorted by decreasing distance. Set to `None` to bypass.\n",
    "* `check_duplicates`: set to `True` to flag FOVs in `auto_fov_regions` with multiple FOVs mapping to it. Set to `False` to bypass.\n",
    "* `check_mismatches`: set to `True` to flag FOVs with mismatched names. Set to `False` to bypass. Assumes FOVs have been named R1C1, R1C2, etc. "
   ]
  },
  {
   "cell_type": "code",
   "execution_count": null,
   "id": "1fcb1768-7cf9-4aea-90d8-7b6e63d79694",
   "metadata": {},
   "outputs": [],
   "source": [
    "check_dist = 2000\n",
    "check_duplicates = True\n",
    "check_mismatches = True"
   ]
  },
  {
   "cell_type": "markdown",
   "id": "30ee9a89-ed9c-4e45-bcab-83383da8a35d",
   "metadata": {},
   "source": [
    "Each FOV in `manual_fov_regions` are mapped to their closest corresponding FOV in `auto_fov_regions` by default. To see the current mappings, select FOVs in the `Manually-defined FOV` menu. To remap a manual FOV to a different auto FOV, use the `Automatically-generated FOV` menu.\n",
    "\n",
    "After you're done finished, click `Save mapping` and run the cells afterward (ignore any error messages that may appear there beforehand). You can always come back here and redo your mappings if you change your mind."
   ]
  },
  {
   "cell_type": "code",
   "execution_count": null,
   "id": "60fa546d",
   "metadata": {},
   "outputs": [],
   "source": [
    "%matplotlib widget\n",
    "tiling_utils.tma_interactive_remap(\n",
    "    manual_fov_regions,\n",
    "    auto_fov_regions,\n",
    "    slide_data,\n",
    "    mapping_path,\n",
    "    draw_radius=7,\n",
    "    figsize=(7, 7),\n",
    "    check_dist=check_dist,\n",
    "    check_duplicates=check_duplicates,\n",
    "    check_mismatches=check_mismatches\n",
    ")"
   ]
  },
  {
   "cell_type": "markdown",
   "id": "3d31ebc7-1e5e-4919-bc1a-fa8ee4b9d4af",
   "metadata": {},
   "source": [
    "### 4. Set parameters for created remapped JSON"
   ]
  },
  {
   "cell_type": "markdown",
   "id": "958dd308-5cdf-4d6f-913f-b40705eb4757",
   "metadata": {},
   "source": [
    "The variables below will control how the remapped JSON is created\n",
    "\n",
    "* `randomize`: shuffle the order of the FOVs in `remapped_fov_regions` to avoid potential batch effects of acquisition order\n",
    "* `moly_insert`: insert a moly FOV between a specified interval of FOVs\n",
    "* `moly_interval`: if `moly_insert` is set, controls how many FOVs are between each subsequent moly FOV"
   ]
  },
  {
   "cell_type": "code",
   "execution_count": null,
   "id": "840c7372",
   "metadata": {},
   "outputs": [],
   "source": [
    "randomize = True\n",
    "moly_insert = True\n",
    "moly_interval = 5"
   ]
  },
  {
   "cell_type": "code",
   "execution_count": null,
   "id": "1aef00c8",
   "metadata": {},
   "outputs": [],
   "source": [
    "# load the mapping saved by the interactive visualization\n",
    "with open(mapping_path, 'r', encoding='utf-8') as mp:\n",
    "    mapping = json.load(mp)\n",
    "\n",
    "# rename FOVs, randomize the order, and insert moly points at a specified interval\n",
    "remapped_fov_regions = tiling_utils.remap_and_reorder_fovs(\n",
    "    manual_fov_regions,\n",
    "    mapping,\n",
    "    moly_path,\n",
    "    randomize=randomize,\n",
    "    moly_insert=moly_insert,\n",
    "    moly_interval=moly_interval\n",
    ")\n",
    "\n",
    "# save remapped_fov_regions\n",
    "write_json_file(json_path=remapped_fov_path, json_object=remapped_fov_regions, encoding='utf-8')"
   ]
  }
 ],
 "metadata": {
  "kernelspec": {
   "display_name": "Python 3 (ipykernel)",
   "language": "python",
   "name": "python3"
  },
  "language_info": {
   "codemirror_mode": {
    "name": "ipython",
    "version": 3
   },
   "file_extension": ".py",
   "mimetype": "text/x-python",
   "name": "python",
   "nbconvert_exporter": "python",
   "pygments_lexer": "ipython3",
   "version": "3.9.7"
  }
 },
 "nbformat": 4,
 "nbformat_minor": 5
}
