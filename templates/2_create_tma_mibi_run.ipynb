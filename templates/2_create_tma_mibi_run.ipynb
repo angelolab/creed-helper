{
 "cells": [
  {
   "cell_type": "markdown",
   "id": "dfb76f0b",
   "metadata": {},
   "source": [
    "# Autolabel TMA Cores\n",
    "\n",
    "## This notebook is an example: create a copy before running it or you will get merge conflicts!"
   ]
  },
  {
   "cell_type": "markdown",
   "id": "77e6afe1",
   "metadata": {},
   "source": [
    "**NOTE**: Before running this notebook for the first time, make sure you've coregistered your instrument using the *update coregistration parameters* section of  `1_set_up_toffy.ipynb`. This will ensure your FOVs display correctly on the slide.\n",
    "\n"
   ]
  },
  {
   "cell_type": "markdown",
   "id": "5f1691de-9eb8-46c8-bcc4-8c1c19edee18",
   "metadata": {
    "tags": []
   },
   "source": [
    "### Background\n",
    "This notebook automatically checks the names assigned to the cores on a TMA. In order to get the most benefit out of the notebook, make sure that you've named your FOVs appropriately. The expected format is RNCM, where N is the row and M is the column of the TMA. For example, a core on the third row and second column would be R3C2, and one on the 7th row and first column would be R7C1.  \n",
    "\n",
    "The script expects that you have already generated and moved the necessary files into the appropriate directory before starting.\n",
    "- A JSON file defining the four corners of the TMA. **It's important that you have selected them in the correct order; top left, top right, bottom left, bottom right**. Even if one of the cores on the corner is missing, make sure the FOV is located where that corner of the TMA *would* be located, as this is used to define the dimensions of the TMA. You can create this file by exporting the FOVs from the MIBIControl software. \n",
    "- A JSON file containing all of the FOVs that you have selected from the TMA, named appropriately. You can create this file by exporting the FOVs from the MIBIControl software. \n",
    "- The optical image of your TMA slide. This is automatically created when you load your slide, and is saved to the `D:\\\\Data\\\\optical-image` subfolder"
   ]
  },
  {
   "cell_type": "code",
   "execution_count": null,
   "id": "ffb9155f-3884-41fa-95b3-216ade6dfdc0",
   "metadata": {},
   "outputs": [],
   "source": [
    "import sys\n",
    "sys.path.append('../')"
   ]
  },
  {
   "cell_type": "code",
   "execution_count": null,
   "id": "72a680b2",
   "metadata": {},
   "outputs": [],
   "source": [
    "import json\n",
    "import os\n",
    "from skimage.io import imread\n",
    "\n",
    "from toffy import tiling_utils, json_utils\n",
    "\n",
    "# suppress mpl deprecation\n",
    "import warnings\n",
    "from matplotlib.cbook import mplDeprecation\n",
    "warnings.filterwarnings(\"ignore\", category=mplDeprecation)"
   ]
  },
  {
   "cell_type": "markdown",
   "id": "80832308",
   "metadata": {},
   "source": [
    "## 1. Copy over the necessary files to start the script"
   ]
  },
  {
   "cell_type": "markdown",
   "id": "fddaec07-b439-467d-af58-65d255e27e54",
   "metadata": {},
   "source": [
    "You will first need to define the prefix `tma_prefix` to use for all of the files associated with this specific TMA. The default is `'example_tma'`, but you should change it to something relevant to your study, such as `'BRCA_TMA_1'`.\n",
    "\n",
    "Once you have picked your prefix for this specific TMA, you'll need to ensure that all of the necessary files are in the appropriate directory with the correct names:\n",
    "\n",
    "* `tma_corners_file`: this file, which contains the FOVs defining the four corners of the TMA, should be named `{tma_prefix}_corners.json`, where `tma_name` is replaced with the `tma_prefix`.\n",
    "* `manual_run_path`: this file, which contains the manually selected FOVs from your TMA, should be named `{tma_prefix}_manual.json`.\n",
    "* `slide_path`: this file, which contains the image of your slide, should be named either `tma_name.bmp` or `tma_name.jpg`. This file can be found on the CAC at: `D:\\\\Data\\\\optical-image\\\\`\n",
    "\n",
    "Each of these files should be copied to `C:\\\\Users\\\\Customer.ION\\\\Documents\\\\autolabeled_tma_jsons`. More information on the uses and locations of the directories in toffy can be found in the <a href=\"https://github.com/angelolab/toffy#directory-structure\">README</a>."
   ]
  },
  {
   "cell_type": "code",
   "execution_count": null,
   "id": "adf76a0c-d3cd-4aef-9224-4ada56b9490a",
   "metadata": {},
   "outputs": [],
   "source": [
    "# define the prefix for each file\n",
    "tma_prefix = 'example_tma'"
   ]
  },
  {
   "cell_type": "code",
   "execution_count": null,
   "id": "68e59509-5c11-4962-95d2-87136b19f474",
   "metadata": {},
   "outputs": [],
   "source": [
    "# user created files\n",
    "tma_dir = 'C:\\\\Users\\\\Customer.ION\\\\Documents\\\\autolabeled_tma_jsons'\n",
    "tma_dir = '../creed/data_dir/json_tiling_data'\n",
    "tma_corners_path = os.path.join(tma_dir, '%s_corners.json' % tma_prefix)\n",
    "manual_run_path = os.path.join(tma_dir, '%s_manual.json' % tma_prefix)\n",
    "\n",
    "# Change `slide_path_ext` to '.jpg' if needed.\n",
    "slide_path_ext = '.bmp'\n",
    "slide_path_ext = '.png'\n",
    "slide_path = os.path.join(tma_dir, tma_prefix + slide_path_ext)\n",
    "\n",
    "# the final run file the notebook will generate\n",
    "remapped_fov_path = os.path.join(tma_dir, '%s_automatic_run.json' % tma_prefix)\n",
    "\n",
    "# intermediate files the notebook will create\n",
    "auto_fov_names_path = os.path.join(tma_dir, '%s_automatic_fov_names.json' % tma_prefix)\n",
    "mapping_path = os.path.join(tma_dir, '%s_mapping.json' % tma_prefix)"
   ]
  },
  {
   "cell_type": "markdown",
   "id": "0d32d49e-a4be-453b-b0b0-c6ab0d192793",
   "metadata": {},
   "source": [
    "## 2. Generate the automatic mapping of FOV names"
   ]
  },
  {
   "cell_type": "code",
   "execution_count": null,
   "id": "893bf23e-c2c4-418d-8497-611eb5512caf",
   "metadata": {},
   "outputs": [],
   "source": [
    "# define the dimensions of the TMA\n",
    "tma_num_row = 7\n",
    "tma_num_col = 4"
   ]
  },
  {
   "cell_type": "code",
   "execution_count": null,
   "id": "af7a2d7b",
   "metadata": {},
   "outputs": [],
   "source": [
    "# generate automatically named TMA\n",
    "auto_fov_regions = tiling_utils.generate_tma_fov_list(\n",
    "    tma_corners_path,\n",
    "    tma_num_row,\n",
    "    tma_num_col\n",
    ")\n",
    "\n",
    "# save the automatically-named TMA FOVs to centroids mapping\n",
    "json_utils.write_json_file(json_path=auto_fov_names_path, json_object=auto_fov_regions, encoding='utf-8')\n",
    "\n",
    "# load the user-defined set of FOVs in\n",
    "manual_fov_regions = json_utils.read_json_file(manual_run_path, encoding='utf-8')\n",
    "\n",
    "# ensure missing and duplicate FOV names get identified\n",
    "manual_fov_regions = json_utils.rename_missing_fovs(manual_fov_regions)\n",
    "manual_fov_regions = json_utils.rename_duplicate_fovs(manual_fov_regions)\n",
    "\n",
    "# ensure all the provided FOVs in manual_fov_regions lie on the slide\n",
    "for mf in manual_fov_regions['fovs']:\n",
    "    mf_coord = (mf['centerPointMicrons']['x'], mf['centerPointMicrons']['y'])\n",
    "    \n",
    "    if not tiling_utils.verify_coordinate_on_slide(mf_coord, 'micron'):\n",
    "        raise ValueError('FOV %s in manual_fov_regions is out of bounds' % mf['name'])"
   ]
  },
  {
   "cell_type": "markdown",
   "id": "7e0b2449",
   "metadata": {},
   "source": [
    "## 3. Set thresholds for identifying incorrect FOV names"
   ]
  },
  {
   "cell_type": "markdown",
   "id": "63643da2",
   "metadata": {},
   "source": [
    "### The variables below control the tolerance for identifying when a core has been named incorrectly.\n",
    "\n",
    "* `check_dist`: set to a positive value to notify of FOV mappings at a distance greater than this value (measured in microns), sorted by decreasing distance. Set to `None` to bypass.\n",
    "* `check_duplicates`: set to `True` to flag FOVs in `auto_fov_regions` with multiple FOVs mapping to it. Set to `False` to bypass.\n",
    "* `check_mismatches`: set to `True` to flag FOVs with mismatched names. Set to `False` to bypass. Assumes FOVs have been named R1C1, R1C2, etc. "
   ]
  },
  {
   "cell_type": "code",
   "execution_count": null,
   "id": "1fcb1768-7cf9-4aea-90d8-7b6e63d79694",
   "metadata": {},
   "outputs": [],
   "source": [
    "check_dist = 2000\n",
    "check_duplicates = True\n",
    "check_mismatches = True"
   ]
  },
  {
   "cell_type": "markdown",
   "id": "30ee9a89-ed9c-4e45-bcab-83383da8a35d",
   "metadata": {},
   "source": [
    "Verify that the names assigned to each TMA core matches. Each FOV in `manual_run_path` is by default mapped to its closest corresponding FOV in `auto_fov_names_path`.\n",
    "\n",
    "`manual_run_path` cores are shaded blue, while `auto_fov_names_path` cores are shaded red. The highlighted mapping will have a darker shading.\n",
    "\n",
    "**NOTE: if no remapping needs to be done, click <i>Save mapping</i> to generate the default mapping for the next step.**\n",
    "\n",
    "1: Inspect using Zoom feature.\n",
    "\n",
    "<div>\n",
    "    <img src=\"img/tma_zoom.gif\" width=\"300\" height=\"274\"/>\n",
    "</div>\n",
    "\n",
    "2: Toggle TMA core mappings using the *Manually-defined FOV* menu. Reassign TMA core mappings using the *Automatically-generated FOV menu*.\n",
    "\n",
    "<div>\n",
    "    <img src=\"img/tma_selection.gif\" width=\"300\" height=\"274\"/>\n",
    "</div>\n",
    "\n",
    "3: After you're done, click *Save mapping*. You can always come back and re-run if you change your mind."
   ]
  },
  {
   "cell_type": "code",
   "execution_count": null,
   "id": "60fa546d",
   "metadata": {},
   "outputs": [],
   "source": [
    "# load the slide image in\n",
    "slide_data = imread(slide_path)\n",
    "\n",
    "%matplotlib widget\n",
    "tiling_utils.tma_interactive_remap(\n",
    "    manual_fov_regions,\n",
    "    auto_fov_regions,\n",
    "    slide_data,\n",
    "    mapping_path,\n",
    "    coreg_path='../toffy/coreg_params.json',\n",
    "    draw_radius=7,\n",
    "    figsize=(7, 7),\n",
    "    check_dist=check_dist,\n",
    "    check_duplicates=check_duplicates,\n",
    "    check_mismatches=check_mismatches\n",
    ")"
   ]
  },
  {
   "cell_type": "markdown",
   "id": "3d31ebc7-1e5e-4919-bc1a-fa8ee4b9d4af",
   "metadata": {},
   "source": [
    "## 4. Set parameters for remapped JSON"
   ]
  },
  {
   "cell_type": "markdown",
   "id": "958dd308-5cdf-4d6f-913f-b40705eb4757",
   "metadata": {},
   "source": [
    "Set `randomize` to `True` to shuffle the order of the FOVs in `remapped_fov_regions`. This avoids potential batch effects of acquisition order.\n",
    "\n",
    "The final run file is saved to `remapped_fov_path`."
   ]
  },
  {
   "cell_type": "code",
   "execution_count": null,
   "id": "840c7372",
   "metadata": {},
   "outputs": [],
   "source": [
    "randomize = True"
   ]
  },
  {
   "cell_type": "code",
   "execution_count": null,
   "id": "1aef00c8",
   "metadata": {},
   "outputs": [],
   "source": [
    "# load the mapping saved by the interactive visualization\n",
    "mapping = json_utils.read_json_file(mapping_path, encoding='utf-8')\n",
    "\n",
    "# rename FOVs, randomize the order, and insert moly points at a specified interval\n",
    "remapped_fov_regions = tiling_utils.remap_and_reorder_fovs(\n",
    "    manual_fov_regions,\n",
    "    mapping,\n",
    "    randomize=randomize\n",
    ")\n",
    "\n",
    "# save remapped_fov_regions\n",
    "json_utils.write_json_file(json_path=remapped_fov_path, json_object=remapped_fov_regions, encoding='utf-8')"
   ]
  },
  {
   "cell_type": "markdown",
   "id": "15d55001",
   "metadata": {},
   "source": [
    "## 5. Run JSON adjustment\n",
    "\n",
    "If you would like to break up your tma file into smaller JSONs containing a specified amount of FOVs in each, you can do that using the code below. \n",
    "\n",
    "`file_split` is a list of values detailing how many FOVs to included in each new file, and must sum to the total number of FOVs in the run file"
   ]
  },
  {
   "cell_type": "code",
   "execution_count": null,
   "id": "5a8d20cc",
   "metadata": {},
   "outputs": [],
   "source": [
    "file_split = []\n",
    "\n",
    "json_utils.split_run_file(tma_dir, os.path.basename(remapped_fov_path), file_split)"
   ]
  }
 ],
 "metadata": {
  "kernelspec": {
   "display_name": "Python 3 (ipykernel)",
   "language": "python",
   "name": "python3"
  },
  "language_info": {
   "codemirror_mode": {
    "name": "ipython",
    "version": 3
   },
   "file_extension": ".py",
   "mimetype": "text/x-python",
   "name": "python",
   "nbconvert_exporter": "python",
   "pygments_lexer": "ipython3",
   "version": "3.8.13"
  }
 },
 "nbformat": 4,
 "nbformat_minor": 5
}
