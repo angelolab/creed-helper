{
 "cells": [
  {
   "cell_type": "code",
   "execution_count": null,
   "metadata": {},
   "outputs": [],
   "source": [
    "import os\n",
    "\n",
    "import numpy as np\n",
    "import pandas as pd\n",
    "\n",
    "import matplotlib.pyplot as plt\n",
    "\n",
    "from mibi_bin_tools import bin_files, io_utils"
   ]
  },
  {
   "cell_type": "code",
   "execution_count": null,
   "metadata": {},
   "outputs": [],
   "source": [
    "help(bin_files)"
   ]
  },
  {
   "cell_type": "code",
   "execution_count": null,
   "metadata": {},
   "outputs": [],
   "source": [
    "data_dir = '../data'\n",
    "\n",
    "fov = 'fov-1-scan-1'\n",
    "channel = 'Mo98'\n",
    "panel = pd.DataFrame([{\n",
    "    'Mass': 98,\n",
    "    'Target': 'Mo98',\n",
    "    'Start': 97.5,\n",
    "    'Stop': 98.5,\n",
    "}])\n",
    "\n",
    "widths, intensities, pulse_counts = bin_files.get_histograms_per_tof(data_dir, fov, channel, panel)\n",
    "\n",
    "int_bin = np.cumsum(intensities) / intensities.sum()\n",
    "median = (np.abs(int_bin - 0.5)).argmin()\n",
    "median"
   ]
  },
  {
   "cell_type": "code",
   "execution_count": null,
   "metadata": {},
   "outputs": [],
   "source": [
    "bin_factor = 100\n",
    "\n",
    "int_bin = np.cumsum(intensities)\n",
    "int_bin[bin_factor:] = int_bin[bin_factor:] - int_bin[:-bin_factor]\n",
    "int_bin = int_bin[bin_factor::bin_factor]\n",
    "\n",
    "plt.style.use('dark_background')\n",
    "\n",
    "plt.plot(np.arange(int_bin.shape[0])[0:20000//bin_factor]*bin_factor, int_bin[0:20000//bin_factor])\n",
    "plt.gcf().set_size_inches(18.5, 10.5)"
   ]
  },
  {
   "cell_type": "code",
   "execution_count": null,
   "metadata": {},
   "outputs": [],
   "source": [
    "plt.bar(np.arange(pulse_counts.shape[0])[0:10], pulse_counts[0:10])\n",
    "plt.gcf().set_size_inches(18.5, 10.5)"
   ]
  },
  {
   "cell_type": "code",
   "execution_count": null,
   "metadata": {},
   "outputs": [],
   "source": []
  }
 ],
 "metadata": {
  "kernelspec": {
   "display_name": "Python 3 (ipykernel)",
   "language": "python",
   "name": "python3"
  },
  "language_info": {
   "codemirror_mode": {
    "name": "ipython",
    "version": 3
   },
   "file_extension": ".py",
   "mimetype": "text/x-python",
   "name": "python",
   "nbconvert_exporter": "python",
   "pygments_lexer": "ipython3",
   "version": "3.8.12"
  }
 },
 "nbformat": 4,
 "nbformat_minor": 4
}
